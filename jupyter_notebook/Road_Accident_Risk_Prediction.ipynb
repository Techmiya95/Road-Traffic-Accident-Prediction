{
 "cells": [
  {
   "cell_type": "code",
   "execution_count": 1,
   "id": "b61c6fc3-f318-4b96-8121-e815ec7583a2",
   "metadata": {},
   "outputs": [
    {
     "name": "stdout",
     "output_type": "stream",
     "text": [
      "Requirement already satisfied: xgboost in c:\\users\\joelf\\anaconda4\\lib\\site-packages (2.1.2)\n",
      "Requirement already satisfied: numpy in c:\\users\\joelf\\anaconda4\\lib\\site-packages (from xgboost) (1.26.4)\n",
      "Requirement already satisfied: scipy in c:\\users\\joelf\\anaconda4\\lib\\site-packages (from xgboost) (1.13.1)\n",
      "Requirement already satisfied: lightgbm in c:\\users\\joelf\\anaconda4\\lib\\site-packages (4.5.0)\n",
      "Requirement already satisfied: numpy>=1.17.0 in c:\\users\\joelf\\anaconda4\\lib\\site-packages (from lightgbm) (1.26.4)\n",
      "Requirement already satisfied: scipy in c:\\users\\joelf\\anaconda4\\lib\\site-packages (from lightgbm) (1.13.1)\n"
     ]
    }
   ],
   "source": [
    "import numpy as np\n",
    "import pandas as pd\n",
    "import seaborn as sns\n",
    "\n",
    "import matplotlib.pyplot as plt\n",
    "%matplotlib inline\n",
    "\n",
    "import sklearn\n",
    "from sklearn.utils import resample\n",
    "from sklearn.metrics import accuracy_score, f1_score, precision_score, log_loss, recall_score \n",
    "from sklearn.metrics import classification_report, confusion_matrix, roc_auc_score\n",
    "from sklearn.model_selection import cross_val_score, GridSearchCV, train_test_split\n",
    "from sklearn.preprocessing import LabelEncoder, OneHotEncoder, StandardScaler, OrdinalEncoder\n",
    "from sklearn.ensemble import AdaBoostClassifier, BaggingClassifier, ExtraTreesClassifier\n",
    "!pip install xgboost\n",
    "from sklearn.ensemble import RandomForestClassifier\n",
    "from xgboost import XGBClassifier\n",
    "!pip install lightgbm\n",
    "from lightgbm import LGBMClassifier\n"
   ]
  },
  {
   "cell_type": "code",
   "execution_count": 2,
   "id": "091c6a44-cd7a-4c6c-835f-b4476be37e7f",
   "metadata": {},
   "outputs": [],
   "source": [
    "\n",
    "df = pd.read_csv(r\"C:\\Users\\joelf\\Downloads\\6accident_data.csv\")"
   ]
  },
  {
   "cell_type": "code",
   "execution_count": 3,
   "id": "4a59a278-d5ff-470f-a00d-b8d29f0944c1",
   "metadata": {},
   "outputs": [
    {
     "data": {
      "text/html": [
       "<div>\n",
       "<style scoped>\n",
       "    .dataframe tbody tr th:only-of-type {\n",
       "        vertical-align: middle;\n",
       "    }\n",
       "\n",
       "    .dataframe tbody tr th {\n",
       "        vertical-align: top;\n",
       "    }\n",
       "\n",
       "    .dataframe thead th {\n",
       "        text-align: right;\n",
       "    }\n",
       "</style>\n",
       "<table border=\"1\" class=\"dataframe\">\n",
       "  <thead>\n",
       "    <tr style=\"text-align: right;\">\n",
       "      <th></th>\n",
       "      <th>Accident_Index</th>\n",
       "      <th>1st_Road_Class</th>\n",
       "      <th>1st_Road_Number</th>\n",
       "      <th>2nd_Road_Class</th>\n",
       "      <th>2nd_Road_Number</th>\n",
       "      <th>Accident_Severity</th>\n",
       "      <th>Carriageway_Hazards</th>\n",
       "      <th>Date</th>\n",
       "      <th>Day_of_Week</th>\n",
       "      <th>Did_Police_Officer_Attend_Scene_of_Accident</th>\n",
       "      <th>...</th>\n",
       "      <th>Skidding_and_Overturning</th>\n",
       "      <th>Towing_and_Articulation</th>\n",
       "      <th>Vehicle_Leaving_Carriageway</th>\n",
       "      <th>Vehicle_Location.Restricted_Lane</th>\n",
       "      <th>Vehicle_Manoeuvre</th>\n",
       "      <th>Vehicle_Reference</th>\n",
       "      <th>Vehicle_Type</th>\n",
       "      <th>Was_Vehicle_Left_Hand_Drive</th>\n",
       "      <th>X1st_Point_of_Impact</th>\n",
       "      <th>Year</th>\n",
       "    </tr>\n",
       "  </thead>\n",
       "  <tbody>\n",
       "    <tr>\n",
       "      <th>0</th>\n",
       "      <td>200754AM08507</td>\n",
       "      <td>A</td>\n",
       "      <td>345</td>\n",
       "      <td>NaN</td>\n",
       "      <td>0.0</td>\n",
       "      <td>Fatal</td>\n",
       "      <td>NaN</td>\n",
       "      <td>28-01-2021</td>\n",
       "      <td>Tuesday</td>\n",
       "      <td>1</td>\n",
       "      <td>...</td>\n",
       "      <td>Skidded</td>\n",
       "      <td>No tow/articulation</td>\n",
       "      <td>Offside</td>\n",
       "      <td>0</td>\n",
       "      <td>Overtaking moving vehicle - offside</td>\n",
       "      <td>1</td>\n",
       "      <td>Car</td>\n",
       "      <td>No</td>\n",
       "      <td>Back</td>\n",
       "      <td>2021</td>\n",
       "    </tr>\n",
       "    <tr>\n",
       "      <th>1</th>\n",
       "      <td>2009559D02192</td>\n",
       "      <td>A</td>\n",
       "      <td>30</td>\n",
       "      <td>NaN</td>\n",
       "      <td>0.0</td>\n",
       "      <td>Fatal</td>\n",
       "      <td>NaN</td>\n",
       "      <td>29-11-2021</td>\n",
       "      <td>Thursday</td>\n",
       "      <td>1</td>\n",
       "      <td>...</td>\n",
       "      <td>NaN</td>\n",
       "      <td>No tow/articulation</td>\n",
       "      <td>Offside</td>\n",
       "      <td>0</td>\n",
       "      <td>Going ahead left-hand bend</td>\n",
       "      <td>1</td>\n",
       "      <td>Motorcycle over 500cc</td>\n",
       "      <td>No</td>\n",
       "      <td>Front</td>\n",
       "      <td>2020</td>\n",
       "    </tr>\n",
       "    <tr>\n",
       "      <th>2</th>\n",
       "      <td>201054MB04210</td>\n",
       "      <td>Motorway</td>\n",
       "      <td>4</td>\n",
       "      <td>NaN</td>\n",
       "      <td>0.0</td>\n",
       "      <td>Fatal</td>\n",
       "      <td>NaN</td>\n",
       "      <td>15-03-2021</td>\n",
       "      <td>Saturday</td>\n",
       "      <td>1</td>\n",
       "      <td>...</td>\n",
       "      <td>NaN</td>\n",
       "      <td>No tow/articulation</td>\n",
       "      <td>Did not leave carriageway</td>\n",
       "      <td>0</td>\n",
       "      <td>Going ahead other</td>\n",
       "      <td>2</td>\n",
       "      <td>Motorcycle over 125cc and up to 500cc</td>\n",
       "      <td>No</td>\n",
       "      <td>Back</td>\n",
       "      <td>2019</td>\n",
       "    </tr>\n",
       "    <tr>\n",
       "      <th>3</th>\n",
       "      <td>201014A194610</td>\n",
       "      <td>Motorway</td>\n",
       "      <td>18</td>\n",
       "      <td>A</td>\n",
       "      <td>630.0</td>\n",
       "      <td>Fatal</td>\n",
       "      <td>NaN</td>\n",
       "      <td>08-07-2020</td>\n",
       "      <td>Tuesday</td>\n",
       "      <td>1</td>\n",
       "      <td>...</td>\n",
       "      <td>NaN</td>\n",
       "      <td>No tow/articulation</td>\n",
       "      <td>Did not leave carriageway</td>\n",
       "      <td>0</td>\n",
       "      <td>Reversing</td>\n",
       "      <td>3</td>\n",
       "      <td>Other vehicle</td>\n",
       "      <td>No</td>\n",
       "      <td>Back</td>\n",
       "      <td>2019</td>\n",
       "    </tr>\n",
       "    <tr>\n",
       "      <th>4</th>\n",
       "      <td>201014A194610</td>\n",
       "      <td>Motorway</td>\n",
       "      <td>18</td>\n",
       "      <td>A</td>\n",
       "      <td>630.0</td>\n",
       "      <td>Fatal</td>\n",
       "      <td>NaN</td>\n",
       "      <td>30-11-2010</td>\n",
       "      <td>Tuesday</td>\n",
       "      <td>1</td>\n",
       "      <td>...</td>\n",
       "      <td>NaN</td>\n",
       "      <td>No tow/articulation</td>\n",
       "      <td>Did not leave carriageway</td>\n",
       "      <td>0</td>\n",
       "      <td>Reversing</td>\n",
       "      <td>3</td>\n",
       "      <td>Other vehicle</td>\n",
       "      <td>No</td>\n",
       "      <td>Back</td>\n",
       "      <td>2010</td>\n",
       "    </tr>\n",
       "  </tbody>\n",
       "</table>\n",
       "<p>5 rows × 53 columns</p>\n",
       "</div>"
      ],
      "text/plain": [
       "  Accident_Index 1st_Road_Class  1st_Road_Number 2nd_Road_Class  \\\n",
       "0  200754AM08507              A              345            NaN   \n",
       "1  2009559D02192              A               30            NaN   \n",
       "2  201054MB04210       Motorway                4            NaN   \n",
       "3  201014A194610       Motorway               18              A   \n",
       "4  201014A194610       Motorway               18              A   \n",
       "\n",
       "   2nd_Road_Number Accident_Severity Carriageway_Hazards        Date  \\\n",
       "0              0.0             Fatal                 NaN  28-01-2021   \n",
       "1              0.0             Fatal                 NaN  29-11-2021   \n",
       "2              0.0             Fatal                 NaN  15-03-2021   \n",
       "3            630.0             Fatal                 NaN  08-07-2020   \n",
       "4            630.0             Fatal                 NaN  30-11-2010   \n",
       "\n",
       "  Day_of_Week  Did_Police_Officer_Attend_Scene_of_Accident  ...  \\\n",
       "0     Tuesday                                            1  ...   \n",
       "1    Thursday                                            1  ...   \n",
       "2    Saturday                                            1  ...   \n",
       "3     Tuesday                                            1  ...   \n",
       "4     Tuesday                                            1  ...   \n",
       "\n",
       "  Skidding_and_Overturning Towing_and_Articulation  \\\n",
       "0                  Skidded     No tow/articulation   \n",
       "1                      NaN     No tow/articulation   \n",
       "2                      NaN     No tow/articulation   \n",
       "3                      NaN     No tow/articulation   \n",
       "4                      NaN     No tow/articulation   \n",
       "\n",
       "   Vehicle_Leaving_Carriageway Vehicle_Location.Restricted_Lane  \\\n",
       "0                      Offside                                0   \n",
       "1                      Offside                                0   \n",
       "2    Did not leave carriageway                                0   \n",
       "3    Did not leave carriageway                                0   \n",
       "4    Did not leave carriageway                                0   \n",
       "\n",
       "                     Vehicle_Manoeuvre  Vehicle_Reference  \\\n",
       "0  Overtaking moving vehicle - offside                  1   \n",
       "1           Going ahead left-hand bend                  1   \n",
       "2                    Going ahead other                  2   \n",
       "3                            Reversing                  3   \n",
       "4                            Reversing                  3   \n",
       "\n",
       "                            Vehicle_Type Was_Vehicle_Left_Hand_Drive  \\\n",
       "0                                    Car                          No   \n",
       "1                  Motorcycle over 500cc                          No   \n",
       "2  Motorcycle over 125cc and up to 500cc                          No   \n",
       "3                          Other vehicle                          No   \n",
       "4                          Other vehicle                          No   \n",
       "\n",
       "   X1st_Point_of_Impact  Year  \n",
       "0                  Back  2021  \n",
       "1                 Front  2020  \n",
       "2                  Back  2019  \n",
       "3                  Back  2019  \n",
       "4                  Back  2010  \n",
       "\n",
       "[5 rows x 53 columns]"
      ]
     },
     "execution_count": 3,
     "metadata": {},
     "output_type": "execute_result"
    }
   ],
   "source": [
    "df.head()"
   ]
  },
  {
   "cell_type": "code",
   "execution_count": 4,
   "id": "250eeac9-aad8-4435-8e3d-8696b4727665",
   "metadata": {},
   "outputs": [
    {
     "name": "stdout",
     "output_type": "stream",
     "text": [
      "Accident_Index                                     0\n",
      "1st_Road_Class                                     0\n",
      "1st_Road_Number                                    0\n",
      "2nd_Road_Class                                 11419\n",
      "2nd_Road_Number                                  290\n",
      "Accident_Severity                                  0\n",
      "Carriageway_Hazards                            25443\n",
      "Date                                               0\n",
      "Day_of_Week                                        0\n",
      "Did_Police_Officer_Attend_Scene_of_Accident        0\n",
      "Junction_Control                                   0\n",
      "Junction_Detail                                    0\n",
      "Latitude                                           0\n",
      "Light_Conditions                                   0\n",
      "Location_Easting_OSGR                              0\n",
      "Location_Northing_OSGR                             0\n",
      "Longitude                                          0\n",
      "LSOA_of_Accident_Location                        493\n",
      "Number_of_Casualties                               0\n",
      "Number_of_Vehicles                                 0\n",
      "Pedestrian_Crossing-Human_Control                  0\n",
      "Pedestrian_Crossing-Physical_Facilities            0\n",
      "Road_Surface_Conditions                            0\n",
      "Road_Type                                          0\n",
      "Special_Conditions_at_Site                     25268\n",
      "Speed_limit                                        0\n",
      "Time                                               0\n",
      "Urban_or_Rural_Area                                0\n",
      "Weather_Conditions                                 0\n",
      "InScotland                                         0\n",
      "Age_Band_of_Driver                                 0\n",
      "Age_of_Vehicle                                     0\n",
      "Driver_Home_Area_Type                              0\n",
      "Driver_IMD_Decile                               3165\n",
      "Engine_Capacity_.CC.                             132\n",
      "Hit_Object_in_Carriageway                      24070\n",
      "Hit_Object_off_Carriageway                     21496\n",
      "Journey_Purpose_of_Driver                          0\n",
      "Junction_Location                                  0\n",
      "make                                            5537\n",
      "model                                           2067\n",
      "Propulsion_Code                                    0\n",
      "Sex_of_Driver                                      0\n",
      "Skidding_and_Overturning                       19441\n",
      "Towing_and_Articulation                            0\n",
      "Vehicle_Leaving_Carriageway                        0\n",
      "Vehicle_Location.Restricted_Lane                   0\n",
      "Vehicle_Manoeuvre                                  0\n",
      "Vehicle_Reference                                  0\n",
      "Vehicle_Type                                       0\n",
      "Was_Vehicle_Left_Hand_Drive                        0\n",
      "X1st_Point_of_Impact                               0\n",
      "Year                                               0\n",
      "dtype: int64\n"
     ]
    }
   ],
   "source": [
    "print(df.isnull().sum())"
   ]
  },
  {
   "cell_type": "markdown",
   "id": "e097c234-62c8-4b8c-beda-630ad7df8a39",
   "metadata": {},
   "source": [
    "## Lot of Missing Values "
   ]
  },
  {
   "cell_type": "code",
   "execution_count": 5,
   "id": "cba567ab-904e-4154-92b9-e72dd9831234",
   "metadata": {},
   "outputs": [
    {
     "name": "stdout",
     "output_type": "stream",
     "text": [
      "\n",
      " Index(['Accident_Index', '1st_Road_Class', '1st_Road_Number', '2nd_Road_Class',\n",
      "       '2nd_Road_Number', 'Accident_Severity', 'Carriageway_Hazards', 'Date',\n",
      "       'Day_of_Week', 'Did_Police_Officer_Attend_Scene_of_Accident',\n",
      "       'Junction_Control', 'Junction_Detail', 'Latitude', 'Light_Conditions',\n",
      "       'Location_Easting_OSGR', 'Location_Northing_OSGR', 'Longitude',\n",
      "       'LSOA_of_Accident_Location', 'Number_of_Casualties',\n",
      "       'Number_of_Vehicles', 'Pedestrian_Crossing-Human_Control',\n",
      "       'Pedestrian_Crossing-Physical_Facilities', 'Road_Surface_Conditions',\n",
      "       'Road_Type', 'Special_Conditions_at_Site', 'Speed_limit', 'Time',\n",
      "       'Urban_or_Rural_Area', 'Weather_Conditions', 'InScotland',\n",
      "       'Age_Band_of_Driver', 'Age_of_Vehicle', 'Driver_Home_Area_Type',\n",
      "       'Driver_IMD_Decile', 'Engine_Capacity_.CC.',\n",
      "       'Hit_Object_in_Carriageway', 'Hit_Object_off_Carriageway',\n",
      "       'Journey_Purpose_of_Driver', 'Junction_Location', 'make', 'model',\n",
      "       'Propulsion_Code', 'Sex_of_Driver', 'Skidding_and_Overturning',\n",
      "       'Towing_and_Articulation', 'Vehicle_Leaving_Carriageway',\n",
      "       'Vehicle_Location.Restricted_Lane', 'Vehicle_Manoeuvre',\n",
      "       'Vehicle_Reference', 'Vehicle_Type', 'Was_Vehicle_Left_Hand_Drive',\n",
      "       'X1st_Point_of_Impact', 'Year'],\n",
      "      dtype='object')\n",
      "\n",
      " (26001, 53)\n"
     ]
    }
   ],
   "source": [
    "#checking the columns and shape\n",
    "print(\"\\n\",df.columns)\n",
    "print(\"\\n\",df.shape)"
   ]
  },
  {
   "cell_type": "markdown",
   "id": "39f513dc-a6eb-45f9-940c-378c075d1b84",
   "metadata": {},
   "source": [
    "## Statistical Analysis of the project"
   ]
  },
  {
   "cell_type": "code",
   "execution_count": 6,
   "id": "21ae9703-6998-4559-b502-a0ac6a7893a4",
   "metadata": {},
   "outputs": [
    {
     "data": {
      "text/html": [
       "<div>\n",
       "<style scoped>\n",
       "    .dataframe tbody tr th:only-of-type {\n",
       "        vertical-align: middle;\n",
       "    }\n",
       "\n",
       "    .dataframe tbody tr th {\n",
       "        vertical-align: top;\n",
       "    }\n",
       "\n",
       "    .dataframe thead th {\n",
       "        text-align: right;\n",
       "    }\n",
       "</style>\n",
       "<table border=\"1\" class=\"dataframe\">\n",
       "  <thead>\n",
       "    <tr style=\"text-align: right;\">\n",
       "      <th></th>\n",
       "      <th>Accident_Index</th>\n",
       "      <th>1st_Road_Class</th>\n",
       "      <th>1st_Road_Number</th>\n",
       "      <th>2nd_Road_Class</th>\n",
       "      <th>2nd_Road_Number</th>\n",
       "      <th>Accident_Severity</th>\n",
       "      <th>Carriageway_Hazards</th>\n",
       "      <th>Date</th>\n",
       "      <th>Day_of_Week</th>\n",
       "      <th>Did_Police_Officer_Attend_Scene_of_Accident</th>\n",
       "      <th>...</th>\n",
       "      <th>Skidding_and_Overturning</th>\n",
       "      <th>Towing_and_Articulation</th>\n",
       "      <th>Vehicle_Leaving_Carriageway</th>\n",
       "      <th>Vehicle_Location.Restricted_Lane</th>\n",
       "      <th>Vehicle_Manoeuvre</th>\n",
       "      <th>Vehicle_Reference</th>\n",
       "      <th>Vehicle_Type</th>\n",
       "      <th>Was_Vehicle_Left_Hand_Drive</th>\n",
       "      <th>X1st_Point_of_Impact</th>\n",
       "      <th>Year</th>\n",
       "    </tr>\n",
       "  </thead>\n",
       "  <tbody>\n",
       "    <tr>\n",
       "      <th>count</th>\n",
       "      <td>26001</td>\n",
       "      <td>26001</td>\n",
       "      <td>26001.000000</td>\n",
       "      <td>14582</td>\n",
       "      <td>25711.000000</td>\n",
       "      <td>26001</td>\n",
       "      <td>558</td>\n",
       "      <td>26001</td>\n",
       "      <td>26001</td>\n",
       "      <td>26001.000000</td>\n",
       "      <td>...</td>\n",
       "      <td>6560</td>\n",
       "      <td>26001</td>\n",
       "      <td>26001</td>\n",
       "      <td>26001.000000</td>\n",
       "      <td>26001</td>\n",
       "      <td>26001.000000</td>\n",
       "      <td>26001</td>\n",
       "      <td>26001</td>\n",
       "      <td>26001</td>\n",
       "      <td>26001.000000</td>\n",
       "    </tr>\n",
       "    <tr>\n",
       "      <th>unique</th>\n",
       "      <td>18837</td>\n",
       "      <td>6</td>\n",
       "      <td>NaN</td>\n",
       "      <td>6</td>\n",
       "      <td>NaN</td>\n",
       "      <td>3</td>\n",
       "      <td>5</td>\n",
       "      <td>1460</td>\n",
       "      <td>7</td>\n",
       "      <td>NaN</td>\n",
       "      <td>...</td>\n",
       "      <td>5</td>\n",
       "      <td>6</td>\n",
       "      <td>9</td>\n",
       "      <td>NaN</td>\n",
       "      <td>18</td>\n",
       "      <td>NaN</td>\n",
       "      <td>13</td>\n",
       "      <td>3</td>\n",
       "      <td>6</td>\n",
       "      <td>NaN</td>\n",
       "    </tr>\n",
       "    <tr>\n",
       "      <th>top</th>\n",
       "      <td>201006XP26465</td>\n",
       "      <td>A</td>\n",
       "      <td>NaN</td>\n",
       "      <td>Unclassified</td>\n",
       "      <td>NaN</td>\n",
       "      <td>Slight</td>\n",
       "      <td>Any animal in carriageway (except ridden horse)</td>\n",
       "      <td>12-11-2010</td>\n",
       "      <td>Friday</td>\n",
       "      <td>NaN</td>\n",
       "      <td>...</td>\n",
       "      <td>Skidded</td>\n",
       "      <td>No tow/articulation</td>\n",
       "      <td>Did not leave carriageway</td>\n",
       "      <td>NaN</td>\n",
       "      <td>Going ahead other</td>\n",
       "      <td>NaN</td>\n",
       "      <td>Car</td>\n",
       "      <td>No</td>\n",
       "      <td>Front</td>\n",
       "      <td>NaN</td>\n",
       "    </tr>\n",
       "    <tr>\n",
       "      <th>freq</th>\n",
       "      <td>9</td>\n",
       "      <td>12508</td>\n",
       "      <td>NaN</td>\n",
       "      <td>9895</td>\n",
       "      <td>NaN</td>\n",
       "      <td>17775</td>\n",
       "      <td>197</td>\n",
       "      <td>82</td>\n",
       "      <td>4340</td>\n",
       "      <td>NaN</td>\n",
       "      <td>...</td>\n",
       "      <td>4631</td>\n",
       "      <td>25751</td>\n",
       "      <td>20362</td>\n",
       "      <td>NaN</td>\n",
       "      <td>12552</td>\n",
       "      <td>NaN</td>\n",
       "      <td>19621</td>\n",
       "      <td>25975</td>\n",
       "      <td>14638</td>\n",
       "      <td>NaN</td>\n",
       "    </tr>\n",
       "    <tr>\n",
       "      <th>mean</th>\n",
       "      <td>NaN</td>\n",
       "      <td>NaN</td>\n",
       "      <td>982.875812</td>\n",
       "      <td>NaN</td>\n",
       "      <td>435.147058</td>\n",
       "      <td>NaN</td>\n",
       "      <td>NaN</td>\n",
       "      <td>NaN</td>\n",
       "      <td>NaN</td>\n",
       "      <td>1.093843</td>\n",
       "      <td>...</td>\n",
       "      <td>NaN</td>\n",
       "      <td>NaN</td>\n",
       "      <td>NaN</td>\n",
       "      <td>0.077497</td>\n",
       "      <td>NaN</td>\n",
       "      <td>1.441021</td>\n",
       "      <td>NaN</td>\n",
       "      <td>NaN</td>\n",
       "      <td>NaN</td>\n",
       "      <td>2014.482405</td>\n",
       "    </tr>\n",
       "    <tr>\n",
       "      <th>std</th>\n",
       "      <td>NaN</td>\n",
       "      <td>NaN</td>\n",
       "      <td>1789.917052</td>\n",
       "      <td>NaN</td>\n",
       "      <td>1446.424444</td>\n",
       "      <td>NaN</td>\n",
       "      <td>NaN</td>\n",
       "      <td>NaN</td>\n",
       "      <td>NaN</td>\n",
       "      <td>0.295545</td>\n",
       "      <td>...</td>\n",
       "      <td>NaN</td>\n",
       "      <td>NaN</td>\n",
       "      <td>NaN</td>\n",
       "      <td>0.749432</td>\n",
       "      <td>NaN</td>\n",
       "      <td>0.719022</td>\n",
       "      <td>NaN</td>\n",
       "      <td>NaN</td>\n",
       "      <td>NaN</td>\n",
       "      <td>4.929699</td>\n",
       "    </tr>\n",
       "    <tr>\n",
       "      <th>min</th>\n",
       "      <td>NaN</td>\n",
       "      <td>NaN</td>\n",
       "      <td>0.000000</td>\n",
       "      <td>NaN</td>\n",
       "      <td>0.000000</td>\n",
       "      <td>NaN</td>\n",
       "      <td>NaN</td>\n",
       "      <td>NaN</td>\n",
       "      <td>NaN</td>\n",
       "      <td>1.000000</td>\n",
       "      <td>...</td>\n",
       "      <td>NaN</td>\n",
       "      <td>NaN</td>\n",
       "      <td>NaN</td>\n",
       "      <td>0.000000</td>\n",
       "      <td>NaN</td>\n",
       "      <td>1.000000</td>\n",
       "      <td>NaN</td>\n",
       "      <td>NaN</td>\n",
       "      <td>NaN</td>\n",
       "      <td>2010.000000</td>\n",
       "    </tr>\n",
       "    <tr>\n",
       "      <th>25%</th>\n",
       "      <td>NaN</td>\n",
       "      <td>NaN</td>\n",
       "      <td>4.000000</td>\n",
       "      <td>NaN</td>\n",
       "      <td>0.000000</td>\n",
       "      <td>NaN</td>\n",
       "      <td>NaN</td>\n",
       "      <td>NaN</td>\n",
       "      <td>NaN</td>\n",
       "      <td>1.000000</td>\n",
       "      <td>...</td>\n",
       "      <td>NaN</td>\n",
       "      <td>NaN</td>\n",
       "      <td>NaN</td>\n",
       "      <td>0.000000</td>\n",
       "      <td>NaN</td>\n",
       "      <td>1.000000</td>\n",
       "      <td>NaN</td>\n",
       "      <td>NaN</td>\n",
       "      <td>NaN</td>\n",
       "      <td>2010.000000</td>\n",
       "    </tr>\n",
       "    <tr>\n",
       "      <th>50%</th>\n",
       "      <td>NaN</td>\n",
       "      <td>NaN</td>\n",
       "      <td>158.000000</td>\n",
       "      <td>NaN</td>\n",
       "      <td>0.000000</td>\n",
       "      <td>NaN</td>\n",
       "      <td>NaN</td>\n",
       "      <td>NaN</td>\n",
       "      <td>NaN</td>\n",
       "      <td>1.000000</td>\n",
       "      <td>...</td>\n",
       "      <td>NaN</td>\n",
       "      <td>NaN</td>\n",
       "      <td>NaN</td>\n",
       "      <td>0.000000</td>\n",
       "      <td>NaN</td>\n",
       "      <td>1.000000</td>\n",
       "      <td>NaN</td>\n",
       "      <td>NaN</td>\n",
       "      <td>NaN</td>\n",
       "      <td>2010.000000</td>\n",
       "    </tr>\n",
       "    <tr>\n",
       "      <th>75%</th>\n",
       "      <td>NaN</td>\n",
       "      <td>NaN</td>\n",
       "      <td>684.000000</td>\n",
       "      <td>NaN</td>\n",
       "      <td>0.000000</td>\n",
       "      <td>NaN</td>\n",
       "      <td>NaN</td>\n",
       "      <td>NaN</td>\n",
       "      <td>NaN</td>\n",
       "      <td>1.000000</td>\n",
       "      <td>...</td>\n",
       "      <td>NaN</td>\n",
       "      <td>NaN</td>\n",
       "      <td>NaN</td>\n",
       "      <td>0.000000</td>\n",
       "      <td>NaN</td>\n",
       "      <td>2.000000</td>\n",
       "      <td>NaN</td>\n",
       "      <td>NaN</td>\n",
       "      <td>NaN</td>\n",
       "      <td>2020.000000</td>\n",
       "    </tr>\n",
       "    <tr>\n",
       "      <th>max</th>\n",
       "      <td>NaN</td>\n",
       "      <td>NaN</td>\n",
       "      <td>9999.000000</td>\n",
       "      <td>NaN</td>\n",
       "      <td>9999.000000</td>\n",
       "      <td>NaN</td>\n",
       "      <td>NaN</td>\n",
       "      <td>NaN</td>\n",
       "      <td>NaN</td>\n",
       "      <td>3.000000</td>\n",
       "      <td>...</td>\n",
       "      <td>NaN</td>\n",
       "      <td>NaN</td>\n",
       "      <td>NaN</td>\n",
       "      <td>9.000000</td>\n",
       "      <td>NaN</td>\n",
       "      <td>17.000000</td>\n",
       "      <td>NaN</td>\n",
       "      <td>NaN</td>\n",
       "      <td>NaN</td>\n",
       "      <td>2021.000000</td>\n",
       "    </tr>\n",
       "  </tbody>\n",
       "</table>\n",
       "<p>11 rows × 53 columns</p>\n",
       "</div>"
      ],
      "text/plain": [
       "       Accident_Index 1st_Road_Class  1st_Road_Number 2nd_Road_Class  \\\n",
       "count           26001          26001     26001.000000          14582   \n",
       "unique          18837              6              NaN              6   \n",
       "top     201006XP26465              A              NaN   Unclassified   \n",
       "freq                9          12508              NaN           9895   \n",
       "mean              NaN            NaN       982.875812            NaN   \n",
       "std               NaN            NaN      1789.917052            NaN   \n",
       "min               NaN            NaN         0.000000            NaN   \n",
       "25%               NaN            NaN         4.000000            NaN   \n",
       "50%               NaN            NaN       158.000000            NaN   \n",
       "75%               NaN            NaN       684.000000            NaN   \n",
       "max               NaN            NaN      9999.000000            NaN   \n",
       "\n",
       "        2nd_Road_Number Accident_Severity  \\\n",
       "count      25711.000000             26001   \n",
       "unique              NaN                 3   \n",
       "top                 NaN            Slight   \n",
       "freq                NaN             17775   \n",
       "mean         435.147058               NaN   \n",
       "std         1446.424444               NaN   \n",
       "min            0.000000               NaN   \n",
       "25%            0.000000               NaN   \n",
       "50%            0.000000               NaN   \n",
       "75%            0.000000               NaN   \n",
       "max         9999.000000               NaN   \n",
       "\n",
       "                                    Carriageway_Hazards        Date  \\\n",
       "count                                               558       26001   \n",
       "unique                                                5        1460   \n",
       "top     Any animal in carriageway (except ridden horse)  12-11-2010   \n",
       "freq                                                197          82   \n",
       "mean                                                NaN         NaN   \n",
       "std                                                 NaN         NaN   \n",
       "min                                                 NaN         NaN   \n",
       "25%                                                 NaN         NaN   \n",
       "50%                                                 NaN         NaN   \n",
       "75%                                                 NaN         NaN   \n",
       "max                                                 NaN         NaN   \n",
       "\n",
       "       Day_of_Week  Did_Police_Officer_Attend_Scene_of_Accident  ...  \\\n",
       "count        26001                                 26001.000000  ...   \n",
       "unique           7                                          NaN  ...   \n",
       "top         Friday                                          NaN  ...   \n",
       "freq          4340                                          NaN  ...   \n",
       "mean           NaN                                     1.093843  ...   \n",
       "std            NaN                                     0.295545  ...   \n",
       "min            NaN                                     1.000000  ...   \n",
       "25%            NaN                                     1.000000  ...   \n",
       "50%            NaN                                     1.000000  ...   \n",
       "75%            NaN                                     1.000000  ...   \n",
       "max            NaN                                     3.000000  ...   \n",
       "\n",
       "       Skidding_and_Overturning Towing_and_Articulation  \\\n",
       "count                      6560                   26001   \n",
       "unique                        5                       6   \n",
       "top                     Skidded     No tow/articulation   \n",
       "freq                       4631                   25751   \n",
       "mean                        NaN                     NaN   \n",
       "std                         NaN                     NaN   \n",
       "min                         NaN                     NaN   \n",
       "25%                         NaN                     NaN   \n",
       "50%                         NaN                     NaN   \n",
       "75%                         NaN                     NaN   \n",
       "max                         NaN                     NaN   \n",
       "\n",
       "        Vehicle_Leaving_Carriageway Vehicle_Location.Restricted_Lane  \\\n",
       "count                         26001                     26001.000000   \n",
       "unique                            9                              NaN   \n",
       "top       Did not leave carriageway                              NaN   \n",
       "freq                          20362                              NaN   \n",
       "mean                            NaN                         0.077497   \n",
       "std                             NaN                         0.749432   \n",
       "min                             NaN                         0.000000   \n",
       "25%                             NaN                         0.000000   \n",
       "50%                             NaN                         0.000000   \n",
       "75%                             NaN                         0.000000   \n",
       "max                             NaN                         9.000000   \n",
       "\n",
       "        Vehicle_Manoeuvre  Vehicle_Reference  Vehicle_Type  \\\n",
       "count               26001       26001.000000         26001   \n",
       "unique                 18                NaN            13   \n",
       "top     Going ahead other                NaN           Car   \n",
       "freq                12552                NaN         19621   \n",
       "mean                  NaN           1.441021           NaN   \n",
       "std                   NaN           0.719022           NaN   \n",
       "min                   NaN           1.000000           NaN   \n",
       "25%                   NaN           1.000000           NaN   \n",
       "50%                   NaN           1.000000           NaN   \n",
       "75%                   NaN           2.000000           NaN   \n",
       "max                   NaN          17.000000           NaN   \n",
       "\n",
       "       Was_Vehicle_Left_Hand_Drive  X1st_Point_of_Impact          Year  \n",
       "count                        26001                 26001  26001.000000  \n",
       "unique                           3                     6           NaN  \n",
       "top                             No                 Front           NaN  \n",
       "freq                         25975                 14638           NaN  \n",
       "mean                           NaN                   NaN   2014.482405  \n",
       "std                            NaN                   NaN      4.929699  \n",
       "min                            NaN                   NaN   2010.000000  \n",
       "25%                            NaN                   NaN   2010.000000  \n",
       "50%                            NaN                   NaN   2010.000000  \n",
       "75%                            NaN                   NaN   2020.000000  \n",
       "max                            NaN                   NaN   2021.000000  \n",
       "\n",
       "[11 rows x 53 columns]"
      ]
     },
     "execution_count": 6,
     "metadata": {},
     "output_type": "execute_result"
    }
   ],
   "source": [
    "df.describe(include ='all')"
   ]
  },
  {
   "cell_type": "markdown",
   "id": "a18dad8d-7036-4419-8e4d-3efce1e2998f",
   "metadata": {},
   "source": [
    "### Data Cleaning and Preprocessing"
   ]
  },
  {
   "cell_type": "code",
   "execution_count": 7,
   "id": "882e3950-2247-4dbc-a9ed-2b5a9130959b",
   "metadata": {},
   "outputs": [],
   "source": [
    "df = df.drop(['Location_Easting_OSGR', 'Location_Northing_OSGR'], axis=1)"
   ]
  },
  {
   "cell_type": "code",
   "execution_count": 8,
   "id": "fafffda2-1b84-483c-a7e9-40043abf4fb1",
   "metadata": {},
   "outputs": [
    {
     "data": {
      "text/plain": [
       "(26001, 51)"
      ]
     },
     "execution_count": 8,
     "metadata": {},
     "output_type": "execute_result"
    }
   ],
   "source": [
    "df.shape"
   ]
  },
  {
   "cell_type": "code",
   "execution_count": 9,
   "id": "7b456a35-5fe3-4899-a61d-ae8ec50be88f",
   "metadata": {},
   "outputs": [],
   "source": [
    "## converting all column names to lowercase and removing extra characters for easy query\n",
    "\n",
    "df.columns = map(str.lower, df.columns)\n",
    "df.columns = df.columns.str.replace(\".\", '', regex=False)\n",
    "df.columns = df.columns.str.replace(\"(\", '', regex=False)\n",
    "df.columns = df.columns.str.replace(\")\", '', regex=False)"
   ]
  },
  {
   "cell_type": "code",
   "execution_count": 10,
   "id": "ef63305c-4fda-42c1-b4f4-5f1016835354",
   "metadata": {},
   "outputs": [
    {
     "data": {
      "text/html": [
       "<div>\n",
       "<style scoped>\n",
       "    .dataframe tbody tr th:only-of-type {\n",
       "        vertical-align: middle;\n",
       "    }\n",
       "\n",
       "    .dataframe tbody tr th {\n",
       "        vertical-align: top;\n",
       "    }\n",
       "\n",
       "    .dataframe thead th {\n",
       "        text-align: right;\n",
       "    }\n",
       "</style>\n",
       "<table border=\"1\" class=\"dataframe\">\n",
       "  <thead>\n",
       "    <tr style=\"text-align: right;\">\n",
       "      <th></th>\n",
       "      <th>accident_index</th>\n",
       "      <th>1st_road_class</th>\n",
       "      <th>1st_road_number</th>\n",
       "      <th>2nd_road_class</th>\n",
       "      <th>2nd_road_number</th>\n",
       "      <th>accident_severity</th>\n",
       "      <th>carriageway_hazards</th>\n",
       "      <th>date</th>\n",
       "      <th>day_of_week</th>\n",
       "      <th>did_police_officer_attend_scene_of_accident</th>\n",
       "      <th>...</th>\n",
       "      <th>skidding_and_overturning</th>\n",
       "      <th>towing_and_articulation</th>\n",
       "      <th>vehicle_leaving_carriageway</th>\n",
       "      <th>vehicle_locationrestricted_lane</th>\n",
       "      <th>vehicle_manoeuvre</th>\n",
       "      <th>vehicle_reference</th>\n",
       "      <th>vehicle_type</th>\n",
       "      <th>was_vehicle_left_hand_drive</th>\n",
       "      <th>x1st_point_of_impact</th>\n",
       "      <th>year</th>\n",
       "    </tr>\n",
       "  </thead>\n",
       "  <tbody>\n",
       "    <tr>\n",
       "      <th>0</th>\n",
       "      <td>200754AM08507</td>\n",
       "      <td>A</td>\n",
       "      <td>345</td>\n",
       "      <td>NaN</td>\n",
       "      <td>0.0</td>\n",
       "      <td>Fatal</td>\n",
       "      <td>NaN</td>\n",
       "      <td>28-01-2021</td>\n",
       "      <td>Tuesday</td>\n",
       "      <td>1</td>\n",
       "      <td>...</td>\n",
       "      <td>Skidded</td>\n",
       "      <td>No tow/articulation</td>\n",
       "      <td>Offside</td>\n",
       "      <td>0</td>\n",
       "      <td>Overtaking moving vehicle - offside</td>\n",
       "      <td>1</td>\n",
       "      <td>Car</td>\n",
       "      <td>No</td>\n",
       "      <td>Back</td>\n",
       "      <td>2021</td>\n",
       "    </tr>\n",
       "    <tr>\n",
       "      <th>1</th>\n",
       "      <td>2009559D02192</td>\n",
       "      <td>A</td>\n",
       "      <td>30</td>\n",
       "      <td>NaN</td>\n",
       "      <td>0.0</td>\n",
       "      <td>Fatal</td>\n",
       "      <td>NaN</td>\n",
       "      <td>29-11-2021</td>\n",
       "      <td>Thursday</td>\n",
       "      <td>1</td>\n",
       "      <td>...</td>\n",
       "      <td>NaN</td>\n",
       "      <td>No tow/articulation</td>\n",
       "      <td>Offside</td>\n",
       "      <td>0</td>\n",
       "      <td>Going ahead left-hand bend</td>\n",
       "      <td>1</td>\n",
       "      <td>Motorcycle over 500cc</td>\n",
       "      <td>No</td>\n",
       "      <td>Front</td>\n",
       "      <td>2020</td>\n",
       "    </tr>\n",
       "    <tr>\n",
       "      <th>2</th>\n",
       "      <td>201054MB04210</td>\n",
       "      <td>Motorway</td>\n",
       "      <td>4</td>\n",
       "      <td>NaN</td>\n",
       "      <td>0.0</td>\n",
       "      <td>Fatal</td>\n",
       "      <td>NaN</td>\n",
       "      <td>15-03-2021</td>\n",
       "      <td>Saturday</td>\n",
       "      <td>1</td>\n",
       "      <td>...</td>\n",
       "      <td>NaN</td>\n",
       "      <td>No tow/articulation</td>\n",
       "      <td>Did not leave carriageway</td>\n",
       "      <td>0</td>\n",
       "      <td>Going ahead other</td>\n",
       "      <td>2</td>\n",
       "      <td>Motorcycle over 125cc and up to 500cc</td>\n",
       "      <td>No</td>\n",
       "      <td>Back</td>\n",
       "      <td>2019</td>\n",
       "    </tr>\n",
       "    <tr>\n",
       "      <th>3</th>\n",
       "      <td>201014A194610</td>\n",
       "      <td>Motorway</td>\n",
       "      <td>18</td>\n",
       "      <td>A</td>\n",
       "      <td>630.0</td>\n",
       "      <td>Fatal</td>\n",
       "      <td>NaN</td>\n",
       "      <td>08-07-2020</td>\n",
       "      <td>Tuesday</td>\n",
       "      <td>1</td>\n",
       "      <td>...</td>\n",
       "      <td>NaN</td>\n",
       "      <td>No tow/articulation</td>\n",
       "      <td>Did not leave carriageway</td>\n",
       "      <td>0</td>\n",
       "      <td>Reversing</td>\n",
       "      <td>3</td>\n",
       "      <td>Other vehicle</td>\n",
       "      <td>No</td>\n",
       "      <td>Back</td>\n",
       "      <td>2019</td>\n",
       "    </tr>\n",
       "    <tr>\n",
       "      <th>4</th>\n",
       "      <td>201014A194610</td>\n",
       "      <td>Motorway</td>\n",
       "      <td>18</td>\n",
       "      <td>A</td>\n",
       "      <td>630.0</td>\n",
       "      <td>Fatal</td>\n",
       "      <td>NaN</td>\n",
       "      <td>30-11-2010</td>\n",
       "      <td>Tuesday</td>\n",
       "      <td>1</td>\n",
       "      <td>...</td>\n",
       "      <td>NaN</td>\n",
       "      <td>No tow/articulation</td>\n",
       "      <td>Did not leave carriageway</td>\n",
       "      <td>0</td>\n",
       "      <td>Reversing</td>\n",
       "      <td>3</td>\n",
       "      <td>Other vehicle</td>\n",
       "      <td>No</td>\n",
       "      <td>Back</td>\n",
       "      <td>2010</td>\n",
       "    </tr>\n",
       "  </tbody>\n",
       "</table>\n",
       "<p>5 rows × 51 columns</p>\n",
       "</div>"
      ],
      "text/plain": [
       "  accident_index 1st_road_class  1st_road_number 2nd_road_class  \\\n",
       "0  200754AM08507              A              345            NaN   \n",
       "1  2009559D02192              A               30            NaN   \n",
       "2  201054MB04210       Motorway                4            NaN   \n",
       "3  201014A194610       Motorway               18              A   \n",
       "4  201014A194610       Motorway               18              A   \n",
       "\n",
       "   2nd_road_number accident_severity carriageway_hazards        date  \\\n",
       "0              0.0             Fatal                 NaN  28-01-2021   \n",
       "1              0.0             Fatal                 NaN  29-11-2021   \n",
       "2              0.0             Fatal                 NaN  15-03-2021   \n",
       "3            630.0             Fatal                 NaN  08-07-2020   \n",
       "4            630.0             Fatal                 NaN  30-11-2010   \n",
       "\n",
       "  day_of_week  did_police_officer_attend_scene_of_accident  ...  \\\n",
       "0     Tuesday                                            1  ...   \n",
       "1    Thursday                                            1  ...   \n",
       "2    Saturday                                            1  ...   \n",
       "3     Tuesday                                            1  ...   \n",
       "4     Tuesday                                            1  ...   \n",
       "\n",
       "  skidding_and_overturning towing_and_articulation  \\\n",
       "0                  Skidded     No tow/articulation   \n",
       "1                      NaN     No tow/articulation   \n",
       "2                      NaN     No tow/articulation   \n",
       "3                      NaN     No tow/articulation   \n",
       "4                      NaN     No tow/articulation   \n",
       "\n",
       "   vehicle_leaving_carriageway vehicle_locationrestricted_lane  \\\n",
       "0                      Offside                               0   \n",
       "1                      Offside                               0   \n",
       "2    Did not leave carriageway                               0   \n",
       "3    Did not leave carriageway                               0   \n",
       "4    Did not leave carriageway                               0   \n",
       "\n",
       "                     vehicle_manoeuvre vehicle_reference  \\\n",
       "0  Overtaking moving vehicle - offside                 1   \n",
       "1           Going ahead left-hand bend                 1   \n",
       "2                    Going ahead other                 2   \n",
       "3                            Reversing                 3   \n",
       "4                            Reversing                 3   \n",
       "\n",
       "                            vehicle_type  was_vehicle_left_hand_drive  \\\n",
       "0                                    Car                           No   \n",
       "1                  Motorcycle over 500cc                           No   \n",
       "2  Motorcycle over 125cc and up to 500cc                           No   \n",
       "3                          Other vehicle                           No   \n",
       "4                          Other vehicle                           No   \n",
       "\n",
       "   x1st_point_of_impact  year  \n",
       "0                  Back  2021  \n",
       "1                 Front  2020  \n",
       "2                  Back  2019  \n",
       "3                  Back  2019  \n",
       "4                  Back  2010  \n",
       "\n",
       "[5 rows x 51 columns]"
      ]
     },
     "execution_count": 10,
     "metadata": {},
     "output_type": "execute_result"
    }
   ],
   "source": [
    "df.head()"
   ]
  },
  {
   "cell_type": "code",
   "execution_count": 11,
   "id": "c730e26f-2353-43e7-8a71-125bc02d0e6f",
   "metadata": {},
   "outputs": [
    {
     "data": {
      "text/plain": [
       "accident_index                                  object\n",
       "1st_road_class                                  object\n",
       "1st_road_number                                  int64\n",
       "2nd_road_class                                  object\n",
       "2nd_road_number                                float64\n",
       "accident_severity                               object\n",
       "carriageway_hazards                             object\n",
       "date                                            object\n",
       "day_of_week                                     object\n",
       "did_police_officer_attend_scene_of_accident      int64\n",
       "junction_control                                object\n",
       "junction_detail                                 object\n",
       "latitude                                       float64\n",
       "light_conditions                                object\n",
       "longitude                                      float64\n",
       "lsoa_of_accident_location                       object\n",
       "number_of_casualties                             int64\n",
       "number_of_vehicles                               int64\n",
       "pedestrian_crossing-human_control                int64\n",
       "pedestrian_crossing-physical_facilities          int64\n",
       "road_surface_conditions                         object\n",
       "road_type                                       object\n",
       "special_conditions_at_site                      object\n",
       "speed_limit                                      int64\n",
       "time                                            object\n",
       "urban_or_rural_area                             object\n",
       "weather_conditions                              object\n",
       "inscotland                                      object\n",
       "age_band_of_driver                              object\n",
       "age_of_vehicle                                   int64\n",
       "driver_home_area_type                           object\n",
       "driver_imd_decile                              float64\n",
       "engine_capacity_cc                             float64\n",
       "hit_object_in_carriageway                       object\n",
       "hit_object_off_carriageway                      object\n",
       "journey_purpose_of_driver                       object\n",
       "junction_location                               object\n",
       "make                                            object\n",
       "model                                           object\n",
       "propulsion_code                                 object\n",
       "sex_of_driver                                   object\n",
       "skidding_and_overturning                        object\n",
       "towing_and_articulation                         object\n",
       "vehicle_leaving_carriageway                     object\n",
       "vehicle_locationrestricted_lane                  int64\n",
       "vehicle_manoeuvre                               object\n",
       "vehicle_reference                                int64\n",
       "vehicle_type                                    object\n",
       "was_vehicle_left_hand_drive                     object\n",
       "x1st_point_of_impact                            object\n",
       "year                                             int64\n",
       "dtype: object"
      ]
     },
     "execution_count": 11,
     "metadata": {},
     "output_type": "execute_result"
    }
   ],
   "source": [
    "df.dtypes"
   ]
  },
  {
   "cell_type": "code",
   "execution_count": 12,
   "id": "fed5b598-0500-40cf-90a5-6711b7bacc2c",
   "metadata": {},
   "outputs": [],
   "source": [
    "# Since we have datetime column we need to convert from object to datetime datatype\n",
    "df['date'] = pd.to_datetime((df['date']), format= \"%d-%m-%Y\")"
   ]
  },
  {
   "cell_type": "code",
   "execution_count": 13,
   "id": "c99c110f-1887-4757-8966-bd0fb6ca32e4",
   "metadata": {},
   "outputs": [
    {
     "data": {
      "text/plain": [
       "accident_index                                         object\n",
       "1st_road_class                                         object\n",
       "1st_road_number                                         int64\n",
       "2nd_road_class                                         object\n",
       "2nd_road_number                                       float64\n",
       "accident_severity                                      object\n",
       "carriageway_hazards                                    object\n",
       "date                                           datetime64[ns]\n",
       "day_of_week                                            object\n",
       "did_police_officer_attend_scene_of_accident             int64\n",
       "junction_control                                       object\n",
       "junction_detail                                        object\n",
       "latitude                                              float64\n",
       "light_conditions                                       object\n",
       "longitude                                             float64\n",
       "lsoa_of_accident_location                              object\n",
       "number_of_casualties                                    int64\n",
       "number_of_vehicles                                      int64\n",
       "pedestrian_crossing-human_control                       int64\n",
       "pedestrian_crossing-physical_facilities                 int64\n",
       "road_surface_conditions                                object\n",
       "road_type                                              object\n",
       "special_conditions_at_site                             object\n",
       "speed_limit                                             int64\n",
       "time                                                   object\n",
       "urban_or_rural_area                                    object\n",
       "weather_conditions                                     object\n",
       "inscotland                                             object\n",
       "age_band_of_driver                                     object\n",
       "age_of_vehicle                                          int64\n",
       "driver_home_area_type                                  object\n",
       "driver_imd_decile                                     float64\n",
       "engine_capacity_cc                                    float64\n",
       "hit_object_in_carriageway                              object\n",
       "hit_object_off_carriageway                             object\n",
       "journey_purpose_of_driver                              object\n",
       "junction_location                                      object\n",
       "make                                                   object\n",
       "model                                                  object\n",
       "propulsion_code                                        object\n",
       "sex_of_driver                                          object\n",
       "skidding_and_overturning                               object\n",
       "towing_and_articulation                                object\n",
       "vehicle_leaving_carriageway                            object\n",
       "vehicle_locationrestricted_lane                         int64\n",
       "vehicle_manoeuvre                                      object\n",
       "vehicle_reference                                       int64\n",
       "vehicle_type                                           object\n",
       "was_vehicle_left_hand_drive                            object\n",
       "x1st_point_of_impact                                   object\n",
       "year                                                    int64\n",
       "dtype: object"
      ]
     },
     "execution_count": 13,
     "metadata": {},
     "output_type": "execute_result"
    }
   ],
   "source": [
    "df.dtypes"
   ]
  },
  {
   "cell_type": "code",
   "execution_count": 14,
   "id": "4ab0a6b7-7806-4bf0-a373-0d1fb5d7a488",
   "metadata": {},
   "outputs": [],
   "source": [
    "#Conversion of other columns to of missed datatype\n",
    "df[['did_police_officer_attend_scene_of_accident',\n",
    "    '1st_road_number',\n",
    "    '2nd_road_number',\n",
    "    'pedestrian_crossing-physical_facilities',\n",
    "    'pedestrian_crossing-human_control']]= df[['did_police_officer_attend_scene_of_accident',\n",
    "    '1st_road_number',\n",
    "    '2nd_road_number',\n",
    "    'pedestrian_crossing-physical_facilities',\n",
    "   'pedestrian_crossing-human_control']].astype('object')"
   ]
  },
  {
   "cell_type": "code",
   "execution_count": 15,
   "id": "1b8f76b0-a0b3-4456-a810-5f5656d33edc",
   "metadata": {},
   "outputs": [
    {
     "data": {
      "text/plain": [
       "{datetime64[ns]: ['date'], int64: ['number_of_casualties', 'number_of_vehicles', 'speed_limit', 'age_of_vehicle', 'vehicle_locationrestricted_lane', 'vehicle_reference', 'year'], float64: ['latitude', 'longitude', 'driver_imd_decile', 'engine_capacity_cc'], object: ['accident_index', '1st_road_class', '1st_road_number', '2nd_road_class', '2nd_road_number', 'accident_severity', 'carriageway_hazards', 'day_of_week', 'did_police_officer_attend_scene_of_accident', 'junction_control', 'junction_detail', 'light_conditions', 'lsoa_of_accident_location', 'pedestrian_crossing-human_control', 'pedestrian_crossing-physical_facilities', 'road_surface_conditions', 'road_type', 'special_conditions_at_site', 'time', 'urban_or_rural_area', 'weather_conditions', 'inscotland', 'age_band_of_driver', 'driver_home_area_type', 'hit_object_in_carriageway', 'hit_object_off_carriageway', 'journey_purpose_of_driver', 'junction_location', 'make', 'model', 'propulsion_code', 'sex_of_driver', 'skidding_and_overturning', 'towing_and_articulation', 'vehicle_leaving_carriageway', 'vehicle_manoeuvre', 'vehicle_type', 'was_vehicle_left_hand_drive', 'x1st_point_of_impact']}"
      ]
     },
     "execution_count": 15,
     "metadata": {},
     "output_type": "execute_result"
    }
   ],
   "source": [
    "df.columns.to_series().groupby(df.dtypes).groups"
   ]
  },
  {
   "cell_type": "code",
   "execution_count": 16,
   "id": "5ea1975f-2de4-4c8d-a56c-47b568b38a79",
   "metadata": {},
   "outputs": [
    {
     "data": {
      "text/plain": [
       "carriageway_hazards                            97.853929\n",
       "special_conditions_at_site                     97.180878\n",
       "hit_object_in_carriageway                      92.573363\n",
       "hit_object_off_carriageway                     82.673743\n",
       "skidding_and_overturning                       74.770201\n",
       "2nd_road_class                                 43.917542\n",
       "make                                           21.295335\n",
       "driver_imd_decile                              12.172609\n",
       "model                                           7.949694\n",
       "lsoa_of_accident_location                       1.896081\n",
       "2nd_road_number                                 1.115342\n",
       "engine_capacity_cc                              0.507673\n",
       "accident_index                                  0.000000\n",
       "driver_home_area_type                           0.000000\n",
       "journey_purpose_of_driver                       0.000000\n",
       "junction_location                               0.000000\n",
       "sex_of_driver                                   0.000000\n",
       "propulsion_code                                 0.000000\n",
       "age_band_of_driver                              0.000000\n",
       "towing_and_articulation                         0.000000\n",
       "vehicle_leaving_carriageway                     0.000000\n",
       "vehicle_locationrestricted_lane                 0.000000\n",
       "vehicle_manoeuvre                               0.000000\n",
       "vehicle_reference                               0.000000\n",
       "vehicle_type                                    0.000000\n",
       "was_vehicle_left_hand_drive                     0.000000\n",
       "x1st_point_of_impact                            0.000000\n",
       "age_of_vehicle                                  0.000000\n",
       "urban_or_rural_area                             0.000000\n",
       "inscotland                                      0.000000\n",
       "weather_conditions                              0.000000\n",
       "1st_road_number                                 0.000000\n",
       "accident_severity                               0.000000\n",
       "date                                            0.000000\n",
       "day_of_week                                     0.000000\n",
       "did_police_officer_attend_scene_of_accident     0.000000\n",
       "junction_control                                0.000000\n",
       "junction_detail                                 0.000000\n",
       "latitude                                        0.000000\n",
       "light_conditions                                0.000000\n",
       "longitude                                       0.000000\n",
       "number_of_casualties                            0.000000\n",
       "number_of_vehicles                              0.000000\n",
       "pedestrian_crossing-human_control               0.000000\n",
       "pedestrian_crossing-physical_facilities         0.000000\n",
       "road_surface_conditions                         0.000000\n",
       "road_type                                       0.000000\n",
       "speed_limit                                     0.000000\n",
       "time                                            0.000000\n",
       "1st_road_class                                  0.000000\n",
       "year                                            0.000000\n",
       "dtype: float64"
      ]
     },
     "execution_count": 16,
     "metadata": {},
     "output_type": "execute_result"
    }
   ],
   "source": [
    "df.isnull().sum().sort_values(ascending=False)/df.shape[0]*100"
   ]
  },
  {
   "cell_type": "code",
   "execution_count": 17,
   "id": "8bbf466d-1356-48f6-bfde-76ddf90378f3",
   "metadata": {},
   "outputs": [
    {
     "data": {
      "text/plain": [
       "2nd_road_class\n",
       "Unclassified    38.056229\n",
       "A                8.465059\n",
       "C                5.230568\n",
       "B                3.711396\n",
       "Motorway         0.569209\n",
       "A(M)             0.049998\n",
       "Name: count, dtype: float64"
      ]
     },
     "execution_count": 17,
     "metadata": {},
     "output_type": "execute_result"
    }
   ],
   "source": [
    "df['2nd_road_class'].value_counts()/df.shape[0]*100"
   ]
  },
  {
   "cell_type": "markdown",
   "id": "119a2b7e-a5b7-4b0c-993e-cd5755a2dc7a",
   "metadata": {},
   "source": [
    "## Filling the missing values"
   ]
  },
  {
   "cell_type": "code",
   "execution_count": 18,
   "id": "03f0ee04-2dc3-4c40-ad1a-72d37c948b3d",
   "metadata": {},
   "outputs": [],
   "source": [
    "df['driver_imd_decile'] = df['driver_imd_decile'].ffill()\n"
   ]
  },
  {
   "cell_type": "code",
   "execution_count": 19,
   "id": "250479c4-ed96-4bf0-a6ee-b2fd88f5abe3",
   "metadata": {},
   "outputs": [
    {
     "data": {
      "text/plain": [
       "carriageway_hazards                            97.853929\n",
       "special_conditions_at_site                     97.180878\n",
       "hit_object_in_carriageway                      92.573363\n",
       "hit_object_off_carriageway                     82.673743\n",
       "skidding_and_overturning                       74.770201\n",
       "2nd_road_class                                 43.917542\n",
       "make                                           21.295335\n",
       "model                                           7.949694\n",
       "lsoa_of_accident_location                       1.896081\n",
       "2nd_road_number                                 1.115342\n",
       "engine_capacity_cc                              0.507673\n",
       "accident_index                                  0.000000\n",
       "driver_home_area_type                           0.000000\n",
       "driver_imd_decile                               0.000000\n",
       "journey_purpose_of_driver                       0.000000\n",
       "junction_location                               0.000000\n",
       "sex_of_driver                                   0.000000\n",
       "propulsion_code                                 0.000000\n",
       "age_band_of_driver                              0.000000\n",
       "towing_and_articulation                         0.000000\n",
       "vehicle_leaving_carriageway                     0.000000\n",
       "vehicle_locationrestricted_lane                 0.000000\n",
       "vehicle_manoeuvre                               0.000000\n",
       "vehicle_reference                               0.000000\n",
       "vehicle_type                                    0.000000\n",
       "was_vehicle_left_hand_drive                     0.000000\n",
       "x1st_point_of_impact                            0.000000\n",
       "age_of_vehicle                                  0.000000\n",
       "urban_or_rural_area                             0.000000\n",
       "inscotland                                      0.000000\n",
       "weather_conditions                              0.000000\n",
       "1st_road_number                                 0.000000\n",
       "accident_severity                               0.000000\n",
       "date                                            0.000000\n",
       "day_of_week                                     0.000000\n",
       "did_police_officer_attend_scene_of_accident     0.000000\n",
       "junction_control                                0.000000\n",
       "junction_detail                                 0.000000\n",
       "latitude                                        0.000000\n",
       "light_conditions                                0.000000\n",
       "longitude                                       0.000000\n",
       "number_of_casualties                            0.000000\n",
       "number_of_vehicles                              0.000000\n",
       "pedestrian_crossing-human_control               0.000000\n",
       "pedestrian_crossing-physical_facilities         0.000000\n",
       "road_surface_conditions                         0.000000\n",
       "road_type                                       0.000000\n",
       "speed_limit                                     0.000000\n",
       "time                                            0.000000\n",
       "1st_road_class                                  0.000000\n",
       "year                                            0.000000\n",
       "dtype: float64"
      ]
     },
     "execution_count": 19,
     "metadata": {},
     "output_type": "execute_result"
    }
   ],
   "source": [
    "df.isnull().sum().sort_values(ascending=False)/df.shape[0]*100"
   ]
  },
  {
   "cell_type": "code",
   "execution_count": 20,
   "id": "03762630-4ee3-49c7-a094-784cf5bb3695",
   "metadata": {},
   "outputs": [
    {
     "data": {
      "text/plain": [
       "count    26001.000000\n",
       "mean         7.701204\n",
       "std          4.465731\n",
       "min          1.000000\n",
       "25%          4.000000\n",
       "50%          7.000000\n",
       "75%         10.000000\n",
       "max         58.000000\n",
       "Name: age_of_vehicle, dtype: float64"
      ]
     },
     "execution_count": 20,
     "metadata": {},
     "output_type": "execute_result"
    }
   ],
   "source": [
    "df['age_of_vehicle'].describe()"
   ]
  },
  {
   "cell_type": "code",
   "execution_count": 21,
   "id": "9fa0ce37-fb9d-4f0f-866f-08b1cfc129a5",
   "metadata": {},
   "outputs": [
    {
     "data": {
      "text/plain": [
       "7.0"
      ]
     },
     "execution_count": 21,
     "metadata": {},
     "output_type": "execute_result"
    }
   ],
   "source": [
    "df['age_of_vehicle'].median()"
   ]
  },
  {
   "cell_type": "code",
   "execution_count": 22,
   "id": "2ddc9a1f-f85a-4d5b-b3c3-1c1c207b498c",
   "metadata": {},
   "outputs": [],
   "source": [
    "df['age_of_vehicle'] = df['age_of_vehicle'].fillna(7)\n",
    "\n",
    "\n",
    "def fixed_vehicle_age(age):\n",
    "    return age if 0 <= age <= 120 else np.nan\n",
    "\n",
    "\n",
    "df['age_of_vehicle'] = df['age_of_vehicle'].apply(fixed_vehicle_age)\n",
    "\n",
    "age_bins = [0, 2, 5, 8, 11, 14, 17, 120]\n",
    "age_labels = ['1', '2', '3', '4', '5', '6', '7']\n",
    "df['age_of_vehicle'] = pd.cut(df['age_of_vehicle'], bins=age_bins, labels=age_labels)"
   ]
  },
  {
   "cell_type": "code",
   "execution_count": 23,
   "id": "1f6b38e2-55d6-42ba-abaa-3c06d5f4f623",
   "metadata": {},
   "outputs": [],
   "source": [
    "df = df.drop(['2nd_road_class'], axis=1)"
   ]
  },
  {
   "cell_type": "code",
   "execution_count": 24,
   "id": "f28f8c42-ee93-4c03-88b4-99b29e6ae77f",
   "metadata": {},
   "outputs": [
    {
     "data": {
      "text/plain": [
       "model\n",
       "KA                    1.449944\n",
       "CLIO DYNAMIQUE 16V    1.134572\n",
       "KA 2                  0.680743\n",
       "PUNTO 1.2             0.646129\n",
       "SAXO VTR              0.634591\n",
       "                        ...   \n",
       "121 GSI 16V           0.003846\n",
       "C5 HDI LX AUTO        0.003846\n",
       "330I SE AUTO          0.003846\n",
       "106 EXTRA TIME        0.003846\n",
       "A4 SE TDI 6SP         0.003846\n",
       "Name: count, Length: 5119, dtype: float64"
      ]
     },
     "execution_count": 24,
     "metadata": {},
     "output_type": "execute_result"
    }
   ],
   "source": [
    "df['model'].value_counts()/df.shape[0]*100"
   ]
  },
  {
   "cell_type": "code",
   "execution_count": 25,
   "id": "3ccfb802-0398-4d79-99cd-70dbdabd0d5b",
   "metadata": {},
   "outputs": [
    {
     "data": {
      "text/plain": [
       "count     23934\n",
       "unique     5119\n",
       "top          KA\n",
       "freq        377\n",
       "Name: model, dtype: object"
      ]
     },
     "execution_count": 25,
     "metadata": {},
     "output_type": "execute_result"
    }
   ],
   "source": [
    "df['model'].describe()"
   ]
  },
  {
   "cell_type": "code",
   "execution_count": 26,
   "id": "df1f8746-3083-418f-ba9a-a2dfccc3be3b",
   "metadata": {},
   "outputs": [],
   "source": [
    "df['model'] = df['model'].ffill()"
   ]
  },
  {
   "cell_type": "code",
   "execution_count": 27,
   "id": "99b745c2-5ea4-4181-a46c-f73d32182feb",
   "metadata": {},
   "outputs": [
    {
     "data": {
      "text/plain": [
       "accident_index                                     0\n",
       "1st_road_class                                     0\n",
       "1st_road_number                                    0\n",
       "2nd_road_number                                  290\n",
       "accident_severity                                  0\n",
       "carriageway_hazards                            25443\n",
       "date                                               0\n",
       "day_of_week                                        0\n",
       "did_police_officer_attend_scene_of_accident        0\n",
       "junction_control                                   0\n",
       "junction_detail                                    0\n",
       "latitude                                           0\n",
       "light_conditions                                   0\n",
       "longitude                                          0\n",
       "lsoa_of_accident_location                        493\n",
       "number_of_casualties                               0\n",
       "number_of_vehicles                                 0\n",
       "pedestrian_crossing-human_control                  0\n",
       "pedestrian_crossing-physical_facilities            0\n",
       "road_surface_conditions                            0\n",
       "road_type                                          0\n",
       "special_conditions_at_site                     25268\n",
       "speed_limit                                        0\n",
       "time                                               0\n",
       "urban_or_rural_area                                0\n",
       "weather_conditions                                 0\n",
       "inscotland                                         0\n",
       "age_band_of_driver                                 0\n",
       "age_of_vehicle                                     0\n",
       "driver_home_area_type                              0\n",
       "driver_imd_decile                                  0\n",
       "engine_capacity_cc                               132\n",
       "hit_object_in_carriageway                      24070\n",
       "hit_object_off_carriageway                     21496\n",
       "journey_purpose_of_driver                          0\n",
       "junction_location                                  0\n",
       "make                                            5537\n",
       "model                                              0\n",
       "propulsion_code                                    0\n",
       "sex_of_driver                                      0\n",
       "skidding_and_overturning                       19441\n",
       "towing_and_articulation                            0\n",
       "vehicle_leaving_carriageway                        0\n",
       "vehicle_locationrestricted_lane                    0\n",
       "vehicle_manoeuvre                                  0\n",
       "vehicle_reference                                  0\n",
       "vehicle_type                                       0\n",
       "was_vehicle_left_hand_drive                        0\n",
       "x1st_point_of_impact                               0\n",
       "year                                               0\n",
       "dtype: int64"
      ]
     },
     "execution_count": 27,
     "metadata": {},
     "output_type": "execute_result"
    }
   ],
   "source": [
    "df.isnull().sum()"
   ]
  },
  {
   "cell_type": "code",
   "execution_count": 28,
   "id": "30941b54-207f-412e-8c19-f009786d56ae",
   "metadata": {},
   "outputs": [
    {
     "data": {
      "text/plain": [
       "carriageway_hazards                            97.853929\n",
       "special_conditions_at_site                     97.180878\n",
       "hit_object_in_carriageway                      92.573363\n",
       "hit_object_off_carriageway                     82.673743\n",
       "skidding_and_overturning                       74.770201\n",
       "make                                           21.295335\n",
       "lsoa_of_accident_location                       1.896081\n",
       "2nd_road_number                                 1.115342\n",
       "engine_capacity_cc                              0.507673\n",
       "accident_index                                  0.000000\n",
       "model                                           0.000000\n",
       "driver_home_area_type                           0.000000\n",
       "driver_imd_decile                               0.000000\n",
       "journey_purpose_of_driver                       0.000000\n",
       "junction_location                               0.000000\n",
       "sex_of_driver                                   0.000000\n",
       "propulsion_code                                 0.000000\n",
       "age_band_of_driver                              0.000000\n",
       "towing_and_articulation                         0.000000\n",
       "vehicle_leaving_carriageway                     0.000000\n",
       "vehicle_locationrestricted_lane                 0.000000\n",
       "vehicle_manoeuvre                               0.000000\n",
       "vehicle_reference                               0.000000\n",
       "vehicle_type                                    0.000000\n",
       "was_vehicle_left_hand_drive                     0.000000\n",
       "x1st_point_of_impact                            0.000000\n",
       "age_of_vehicle                                  0.000000\n",
       "weather_conditions                              0.000000\n",
       "inscotland                                      0.000000\n",
       "1st_road_class                                  0.000000\n",
       "1st_road_number                                 0.000000\n",
       "accident_severity                               0.000000\n",
       "date                                            0.000000\n",
       "day_of_week                                     0.000000\n",
       "did_police_officer_attend_scene_of_accident     0.000000\n",
       "junction_control                                0.000000\n",
       "junction_detail                                 0.000000\n",
       "latitude                                        0.000000\n",
       "light_conditions                                0.000000\n",
       "longitude                                       0.000000\n",
       "number_of_casualties                            0.000000\n",
       "number_of_vehicles                              0.000000\n",
       "pedestrian_crossing-human_control               0.000000\n",
       "pedestrian_crossing-physical_facilities         0.000000\n",
       "road_surface_conditions                         0.000000\n",
       "road_type                                       0.000000\n",
       "speed_limit                                     0.000000\n",
       "time                                            0.000000\n",
       "urban_or_rural_area                             0.000000\n",
       "year                                            0.000000\n",
       "dtype: float64"
      ]
     },
     "execution_count": 28,
     "metadata": {},
     "output_type": "execute_result"
    }
   ],
   "source": [
    "df.isnull().sum().sort_values(ascending=False)/df.shape[0]*100"
   ]
  },
  {
   "cell_type": "code",
   "execution_count": 29,
   "id": "16c3c169-c53e-4dcf-bc19-78412fbb01cc",
   "metadata": {},
   "outputs": [],
   "source": [
    "df['engine_capacity_cc'] = df['engine_capacity_cc'].ffill()"
   ]
  },
  {
   "cell_type": "code",
   "execution_count": 30,
   "id": "c2fb3045-6a73-40c6-ae4c-bf66b1c094b1",
   "metadata": {},
   "outputs": [
    {
     "data": {
      "text/plain": [
       "accident_index                                     0\n",
       "1st_road_class                                     0\n",
       "1st_road_number                                    0\n",
       "2nd_road_number                                  290\n",
       "accident_severity                                  0\n",
       "carriageway_hazards                            25443\n",
       "date                                               0\n",
       "day_of_week                                        0\n",
       "did_police_officer_attend_scene_of_accident        0\n",
       "junction_control                                   0\n",
       "junction_detail                                    0\n",
       "latitude                                           0\n",
       "light_conditions                                   0\n",
       "longitude                                          0\n",
       "lsoa_of_accident_location                        493\n",
       "number_of_casualties                               0\n",
       "number_of_vehicles                                 0\n",
       "pedestrian_crossing-human_control                  0\n",
       "pedestrian_crossing-physical_facilities            0\n",
       "road_surface_conditions                            0\n",
       "road_type                                          0\n",
       "special_conditions_at_site                     25268\n",
       "speed_limit                                        0\n",
       "time                                               0\n",
       "urban_or_rural_area                                0\n",
       "weather_conditions                                 0\n",
       "inscotland                                         0\n",
       "age_band_of_driver                                 0\n",
       "age_of_vehicle                                     0\n",
       "driver_home_area_type                              0\n",
       "driver_imd_decile                                  0\n",
       "engine_capacity_cc                                 0\n",
       "hit_object_in_carriageway                      24070\n",
       "hit_object_off_carriageway                     21496\n",
       "journey_purpose_of_driver                          0\n",
       "junction_location                                  0\n",
       "make                                            5537\n",
       "model                                              0\n",
       "propulsion_code                                    0\n",
       "sex_of_driver                                      0\n",
       "skidding_and_overturning                       19441\n",
       "towing_and_articulation                            0\n",
       "vehicle_leaving_carriageway                        0\n",
       "vehicle_locationrestricted_lane                    0\n",
       "vehicle_manoeuvre                                  0\n",
       "vehicle_reference                                  0\n",
       "vehicle_type                                       0\n",
       "was_vehicle_left_hand_drive                        0\n",
       "x1st_point_of_impact                               0\n",
       "year                                               0\n",
       "dtype: int64"
      ]
     },
     "execution_count": 30,
     "metadata": {},
     "output_type": "execute_result"
    }
   ],
   "source": [
    "df.isnull().sum()"
   ]
  },
  {
   "cell_type": "code",
   "execution_count": 31,
   "id": "f433bf72-5a60-45d1-ad1b-608680cafe4e",
   "metadata": {},
   "outputs": [],
   "source": [
    "\n",
    "df = df.drop(['lsoa_of_accident_location', '2nd_road_number','make'], axis=1)"
   ]
  },
  {
   "cell_type": "code",
   "execution_count": 32,
   "id": "4e6c1083-e110-437b-bc59-205e9584e53e",
   "metadata": {},
   "outputs": [
    {
     "data": {
      "text/plain": [
       "accident_index                                     0\n",
       "1st_road_class                                     0\n",
       "1st_road_number                                    0\n",
       "accident_severity                                  0\n",
       "carriageway_hazards                            25443\n",
       "date                                               0\n",
       "day_of_week                                        0\n",
       "did_police_officer_attend_scene_of_accident        0\n",
       "junction_control                                   0\n",
       "junction_detail                                    0\n",
       "latitude                                           0\n",
       "light_conditions                                   0\n",
       "longitude                                          0\n",
       "number_of_casualties                               0\n",
       "number_of_vehicles                                 0\n",
       "pedestrian_crossing-human_control                  0\n",
       "pedestrian_crossing-physical_facilities            0\n",
       "road_surface_conditions                            0\n",
       "road_type                                          0\n",
       "special_conditions_at_site                     25268\n",
       "speed_limit                                        0\n",
       "time                                               0\n",
       "urban_or_rural_area                                0\n",
       "weather_conditions                                 0\n",
       "inscotland                                         0\n",
       "age_band_of_driver                                 0\n",
       "age_of_vehicle                                     0\n",
       "driver_home_area_type                              0\n",
       "driver_imd_decile                                  0\n",
       "engine_capacity_cc                                 0\n",
       "hit_object_in_carriageway                      24070\n",
       "hit_object_off_carriageway                     21496\n",
       "journey_purpose_of_driver                          0\n",
       "junction_location                                  0\n",
       "model                                              0\n",
       "propulsion_code                                    0\n",
       "sex_of_driver                                      0\n",
       "skidding_and_overturning                       19441\n",
       "towing_and_articulation                            0\n",
       "vehicle_leaving_carriageway                        0\n",
       "vehicle_locationrestricted_lane                    0\n",
       "vehicle_manoeuvre                                  0\n",
       "vehicle_reference                                  0\n",
       "vehicle_type                                       0\n",
       "was_vehicle_left_hand_drive                        0\n",
       "x1st_point_of_impact                               0\n",
       "year                                               0\n",
       "dtype: int64"
      ]
     },
     "execution_count": 32,
     "metadata": {},
     "output_type": "execute_result"
    }
   ],
   "source": [
    "df.isnull().sum()"
   ]
  },
  {
   "cell_type": "code",
   "execution_count": 33,
   "id": "7be55bad-fb20-4deb-af3b-ad522aecfe87",
   "metadata": {},
   "outputs": [
    {
     "data": {
      "text/plain": [
       "accident_index                                 0.0\n",
       "propulsion_code                                0.0\n",
       "age_band_of_driver                             0.0\n",
       "age_of_vehicle                                 0.0\n",
       "driver_home_area_type                          0.0\n",
       "driver_imd_decile                              0.0\n",
       "engine_capacity_cc                             0.0\n",
       "journey_purpose_of_driver                      0.0\n",
       "junction_location                              0.0\n",
       "model                                          0.0\n",
       "sex_of_driver                                  0.0\n",
       "1st_road_class                                 0.0\n",
       "towing_and_articulation                        0.0\n",
       "vehicle_leaving_carriageway                    0.0\n",
       "vehicle_locationrestricted_lane                0.0\n",
       "vehicle_manoeuvre                              0.0\n",
       "vehicle_reference                              0.0\n",
       "vehicle_type                                   0.0\n",
       "was_vehicle_left_hand_drive                    0.0\n",
       "x1st_point_of_impact                           0.0\n",
       "inscotland                                     0.0\n",
       "weather_conditions                             0.0\n",
       "urban_or_rural_area                            0.0\n",
       "time                                           0.0\n",
       "1st_road_number                                0.0\n",
       "accident_severity                              0.0\n",
       "date                                           0.0\n",
       "day_of_week                                    0.0\n",
       "did_police_officer_attend_scene_of_accident    0.0\n",
       "junction_control                               0.0\n",
       "junction_detail                                0.0\n",
       "latitude                                       0.0\n",
       "light_conditions                               0.0\n",
       "longitude                                      0.0\n",
       "number_of_casualties                           0.0\n",
       "number_of_vehicles                             0.0\n",
       "pedestrian_crossing-human_control              0.0\n",
       "pedestrian_crossing-physical_facilities        0.0\n",
       "road_surface_conditions                        0.0\n",
       "road_type                                      0.0\n",
       "speed_limit                                    0.0\n",
       "year                                           0.0\n",
       "dtype: float64"
      ]
     },
     "execution_count": 33,
     "metadata": {},
     "output_type": "execute_result"
    }
   ],
   "source": [
    "df = df.drop(['skidding_and_overturning', 'hit_object_off_carriageway','hit_object_in_carriageway','special_conditions_at_site','carriageway_hazards'], axis=1)\n",
    "\n",
    "df.isnull().sum().sort_values(ascending=False)/df.shape[0]*100"
   ]
  },
  {
   "cell_type": "code",
   "execution_count": 34,
   "id": "1b9acbe1-71d7-4cab-811e-20040caa3a4c",
   "metadata": {},
   "outputs": [
    {
     "data": {
      "text/plain": [
       "(26001, 42)"
      ]
     },
     "execution_count": 34,
     "metadata": {},
     "output_type": "execute_result"
    }
   ],
   "source": [
    "df.shape"
   ]
  },
  {
   "cell_type": "code",
   "execution_count": 35,
   "id": "7ad689e9-9956-4fe0-bc62-080ba58cdb64",
   "metadata": {},
   "outputs": [
    {
     "name": "stdout",
     "output_type": "stream",
     "text": [
      "<class 'pandas.core.frame.DataFrame'>\n",
      "RangeIndex: 26001 entries, 0 to 26000\n",
      "Data columns (total 42 columns):\n",
      " #   Column                                       Non-Null Count  Dtype         \n",
      "---  ------                                       --------------  -----         \n",
      " 0   accident_index                               26001 non-null  object        \n",
      " 1   1st_road_class                               26001 non-null  object        \n",
      " 2   1st_road_number                              26001 non-null  object        \n",
      " 3   accident_severity                            26001 non-null  object        \n",
      " 4   date                                         26001 non-null  datetime64[ns]\n",
      " 5   day_of_week                                  26001 non-null  object        \n",
      " 6   did_police_officer_attend_scene_of_accident  26001 non-null  object        \n",
      " 7   junction_control                             26001 non-null  object        \n",
      " 8   junction_detail                              26001 non-null  object        \n",
      " 9   latitude                                     26001 non-null  float64       \n",
      " 10  light_conditions                             26001 non-null  object        \n",
      " 11  longitude                                    26001 non-null  float64       \n",
      " 12  number_of_casualties                         26001 non-null  int64         \n",
      " 13  number_of_vehicles                           26001 non-null  int64         \n",
      " 14  pedestrian_crossing-human_control            26001 non-null  object        \n",
      " 15  pedestrian_crossing-physical_facilities      26001 non-null  object        \n",
      " 16  road_surface_conditions                      26001 non-null  object        \n",
      " 17  road_type                                    26001 non-null  object        \n",
      " 18  speed_limit                                  26001 non-null  int64         \n",
      " 19  time                                         26001 non-null  object        \n",
      " 20  urban_or_rural_area                          26001 non-null  object        \n",
      " 21  weather_conditions                           26001 non-null  object        \n",
      " 22  inscotland                                   26001 non-null  object        \n",
      " 23  age_band_of_driver                           26001 non-null  object        \n",
      " 24  age_of_vehicle                               26001 non-null  category      \n",
      " 25  driver_home_area_type                        26001 non-null  object        \n",
      " 26  driver_imd_decile                            26001 non-null  float64       \n",
      " 27  engine_capacity_cc                           26001 non-null  float64       \n",
      " 28  journey_purpose_of_driver                    26001 non-null  object        \n",
      " 29  junction_location                            26001 non-null  object        \n",
      " 30  model                                        26001 non-null  object        \n",
      " 31  propulsion_code                              26001 non-null  object        \n",
      " 32  sex_of_driver                                26001 non-null  object        \n",
      " 33  towing_and_articulation                      26001 non-null  object        \n",
      " 34  vehicle_leaving_carriageway                  26001 non-null  object        \n",
      " 35  vehicle_locationrestricted_lane              26001 non-null  int64         \n",
      " 36  vehicle_manoeuvre                            26001 non-null  object        \n",
      " 37  vehicle_reference                            26001 non-null  int64         \n",
      " 38  vehicle_type                                 26001 non-null  object        \n",
      " 39  was_vehicle_left_hand_drive                  26001 non-null  object        \n",
      " 40  x1st_point_of_impact                         26001 non-null  object        \n",
      " 41  year                                         26001 non-null  int64         \n",
      "dtypes: category(1), datetime64[ns](1), float64(4), int64(6), object(30)\n",
      "memory usage: 8.2+ MB\n"
     ]
    }
   ],
   "source": [
    "df.info()"
   ]
  },
  {
   "cell_type": "markdown",
   "id": "7b074c0c-3c36-4825-ba06-735f63326bfb",
   "metadata": {},
   "source": [
    "## EDA"
   ]
  },
  {
   "cell_type": "code",
   "execution_count": 36,
   "id": "b12e84cc-edec-425c-b384-ee7a566189aa",
   "metadata": {},
   "outputs": [],
   "source": [
    "df_num = df[['number_of_casualties','number_of_vehicles','speed_limit']]"
   ]
  },
  {
   "cell_type": "code",
   "execution_count": 37,
   "id": "c133124a-3904-448b-bff5-76927e680c77",
   "metadata": {},
   "outputs": [
    {
     "data": {
      "image/png": "[encoded data removed]",
      "text/plain": [
       "<Figure size 1200x800 with 4 Axes>"
      ]
     },
     "metadata": {},
     "output_type": "display_data"
    }
   ],
   "source": [
    "df_num.hist( bins=25, grid=False, figsize=(12,8))\n",
    "plt.style.use('dark_background')\n",
    "plt.show()"
   ]
  },
  {
   "cell_type": "code",
   "execution_count": 38,
   "id": "418a96b9-af78-4025-93d7-b129827998f3",
   "metadata": {},
   "outputs": [],
   "source": [
    "def casualities(num_cas):\n",
    "    if num_cas >=1 and num_cas <2:\n",
    "        return \"1\"\n",
    "    elif num_cas >=2 and num_cas <3:\n",
    "        return \"2\"\n",
    "    elif num_cas >=3 and num_cas <4:\n",
    "        return \"3\"\n",
    "    elif num_cas >= 4 and num_cas <5:\n",
    "        return \"4\"\n",
    "    elif num_cas >= 5:\n",
    "        return \"5+\"\n",
    "    \n",
    "df['number_of_casualties']= df['number_of_casualties'].apply(casualities)"
   ]
  },
  {
   "cell_type": "code",
   "execution_count": 39,
   "id": "99d750a8-a2f5-413d-8495-1ebcea7ba543",
   "metadata": {},
   "outputs": [
    {
     "data": {
      "text/plain": [
       "number_of_casualties\n",
       "1     16976\n",
       "2      5514\n",
       "3      1996\n",
       "4       844\n",
       "5+      671\n",
       "Name: count, dtype: int64"
      ]
     },
     "execution_count": 39,
     "metadata": {},
     "output_type": "execute_result"
    }
   ],
   "source": [
    "df['number_of_casualties'].value_counts()"
   ]
  },
  {
   "cell_type": "code",
   "execution_count": 40,
   "id": "b7a29dbf-8aa4-456d-a493-20cd13a08dea",
   "metadata": {},
   "outputs": [
    {
     "data": {
      "text/plain": [
       "propulsion_code\n",
       "Petrol              79.385408\n",
       "Heavy oil           20.456906\n",
       "Gas/Bi-fuel          0.084612\n",
       "Hybrid electric      0.046152\n",
       "Petrol/Gas (LPG)     0.023076\n",
       "Gas                  0.003846\n",
       "Name: count, dtype: float64"
      ]
     },
     "execution_count": 40,
     "metadata": {},
     "output_type": "execute_result"
    }
   ],
   "source": [
    "df['propulsion_code'].value_counts()/df.shape[0]*100"
   ]
  },
  {
   "cell_type": "code",
   "execution_count": 41,
   "id": "26bef9df-dbff-43ce-a4eb-0f547c15b70d",
   "metadata": {},
   "outputs": [],
   "source": [
    "\n",
    "df['propulsion_code'] = df['propulsion_code'].replace(to_replace=\"Gas\", value=\"Petrol\")\n",
    "df['propulsion_code'] = df['propulsion_code'].replace(to_replace=\"Gas/Bi-fuel\", value=\"Bio-fuel\")\n",
    "df['propulsion_code'] = df['propulsion_code'].replace(to_replace=\"Petrol/Gas (LPG)\", value=\"LPG Petrol\")\n",
    "df['propulsion_code'] = df['propulsion_code'].replace(to_replace=\"Gas Diesel\", value=\"Diesel\")"
   ]
  },
  {
   "cell_type": "code",
   "execution_count": 42,
   "id": "1d08948a-b1ef-4d99-87f5-fd9d6a2637c7",
   "metadata": {},
   "outputs": [
    {
     "data": {
      "text/plain": [
       "propulsion_code\n",
       "Petrol             79.389254\n",
       "Heavy oil          20.456906\n",
       "Bio-fuel            0.084612\n",
       "Hybrid electric     0.046152\n",
       "LPG Petrol          0.023076\n",
       "Name: count, dtype: float64"
      ]
     },
     "execution_count": 42,
     "metadata": {},
     "output_type": "execute_result"
    }
   ],
   "source": [
    "df['propulsion_code'].value_counts()/df.shape[0]*100"
   ]
  },
  {
   "cell_type": "code",
   "execution_count": 43,
   "id": "9aef0d4d-3822-43b3-9436-4b0d5a9ee5ce",
   "metadata": {},
   "outputs": [
    {
     "data": {
      "text/plain": [
       "longitude                                      23546\n",
       "latitude                                       23533\n",
       "accident_index                                 18837\n",
       "model                                           5119\n",
       "1st_road_number                                 2060\n",
       "date                                            1460\n",
       "time                                            1395\n",
       "engine_capacity_cc                               654\n",
       "vehicle_manoeuvre                                 18\n",
       "vehicle_reference                                 16\n",
       "number_of_vehicles                                16\n",
       "vehicle_type                                      13\n",
       "driver_imd_decile                                 10\n",
       "vehicle_locationrestricted_lane                   10\n",
       "junction_location                                 10\n",
       "vehicle_leaving_carriageway                        9\n",
       "age_band_of_driver                                 9\n",
       "weather_conditions                                 9\n",
       "junction_detail                                    9\n",
       "speed_limit                                        8\n",
       "day_of_week                                        7\n",
       "age_of_vehicle                                     7\n",
       "towing_and_articulation                            6\n",
       "x1st_point_of_impact                               6\n",
       "1st_road_class                                     6\n",
       "road_surface_conditions                            6\n",
       "junction_control                                   6\n",
       "pedestrian_crossing-physical_facilities            6\n",
       "journey_purpose_of_driver                          6\n",
       "road_type                                          6\n",
       "number_of_casualties                               5\n",
       "propulsion_code                                    5\n",
       "light_conditions                                   4\n",
       "driver_home_area_type                              4\n",
       "year                                               4\n",
       "sex_of_driver                                      3\n",
       "pedestrian_crossing-human_control                  3\n",
       "did_police_officer_attend_scene_of_accident        3\n",
       "accident_severity                                  3\n",
       "was_vehicle_left_hand_drive                        3\n",
       "inscotland                                         2\n",
       "urban_or_rural_area                                2\n",
       "dtype: int64"
      ]
     },
     "execution_count": 43,
     "metadata": {},
     "output_type": "execute_result"
    }
   ],
   "source": [
    "df.nunique().sort_values(ascending=False)"
   ]
  },
  {
   "cell_type": "code",
   "execution_count": 44,
   "id": "0f004278-fc5b-432a-89e2-5135c097b98c",
   "metadata": {},
   "outputs": [],
   "source": [
    "df['date'] = pd.to_datetime(df['date'])"
   ]
  },
  {
   "cell_type": "code",
   "execution_count": 45,
   "id": "02e127e7-bbba-41b4-bfde-6b27126a95e3",
   "metadata": {},
   "outputs": [],
   "source": [
    "df['month'] = df ['date'].apply(lambda time: time.month)"
   ]
  },
  {
   "cell_type": "code",
   "execution_count": 46,
   "id": "0abc8900-0537-4468-9e9d-400f25324cbc",
   "metadata": {},
   "outputs": [],
   "source": [
    "#creating a weekend feature that includes Friday-Sunday\n",
    "df['weekend']= np.where(df['day_of_week'].isin(['Friday', 'Saturday', 'Sunday']), 1, 0)"
   ]
  },
  {
   "cell_type": "code",
   "execution_count": 47,
   "id": "e29e5b2b-4f63-42d7-aaae-e018e3e5263b",
   "metadata": {},
   "outputs": [],
   "source": [
    "timeofdaygroups = {1: \"Morning Rush (6-10)\",\n",
    "                   2: \"Day (10-12)\",\n",
    "                   3: \"Lunch Rush (12-14)\",\n",
    "                   4: \"Afternoon (14-16)\",\n",
    "                   5: \"After Work Rush (16-18)\",\n",
    "                   6: \"Evening (18-22)\",\n",
    "                   7: \"Night (22-6)\"}"
   ]
  },
  {
   "cell_type": "code",
   "execution_count": 48,
   "id": "5bd2a6d8-6c63-447f-82ad-1e259e7b7f17",
   "metadata": {},
   "outputs": [],
   "source": [
    "df['hour'] = df['time'].str[0:2]  \n",
    "df['hour'] =  pd.to_numeric(df['hour'])\n",
    "df['hour'] = df['hour'].astype('int')"
   ]
  },
  {
   "cell_type": "code",
   "execution_count": 49,
   "id": "8cfd97e4-6030-4e83-b464-23e8ee9259c0",
   "metadata": {},
   "outputs": [],
   "source": [
    "def daygroup(hour):\n",
    "    if hour >= 6 and hour < 10:\n",
    "        return \"1\"\n",
    "    elif hour >= 10 and hour < 12:\n",
    "        return \"2\"\n",
    "    elif hour >= 12 and hour < 14:\n",
    "        return \"3\"\n",
    "    elif hour >= 14 and hour < 16:\n",
    "        return \"4\"\n",
    "    elif hour >= 16 and hour < 18:\n",
    "        return \"5\"\n",
    "    elif hour >= 18 and hour < 22:\n",
    "        return \"6\"\n",
    "    else:\n",
    "        return \"7\"\n",
    "    \n",
    "df['time_of_day']= df['hour'].apply(daygroup)   "
   ]
  },
  {
   "cell_type": "code",
   "execution_count": 50,
   "id": "9691c40a-46fd-4788-a0a4-ca3f711b1158",
   "metadata": {},
   "outputs": [
    {
     "data": {
      "text/html": [
       "<div>\n",
       "<style scoped>\n",
       "    .dataframe tbody tr th:only-of-type {\n",
       "        vertical-align: middle;\n",
       "    }\n",
       "\n",
       "    .dataframe tbody tr th {\n",
       "        vertical-align: top;\n",
       "    }\n",
       "\n",
       "    .dataframe thead th {\n",
       "        text-align: right;\n",
       "    }\n",
       "</style>\n",
       "<table border=\"1\" class=\"dataframe\">\n",
       "  <thead>\n",
       "    <tr style=\"text-align: right;\">\n",
       "      <th></th>\n",
       "      <th>weekend</th>\n",
       "      <th>day_of_week</th>\n",
       "      <th>time</th>\n",
       "      <th>time_of_day</th>\n",
       "    </tr>\n",
       "  </thead>\n",
       "  <tbody>\n",
       "    <tr>\n",
       "      <th>25991</th>\n",
       "      <td>1</td>\n",
       "      <td>Saturday</td>\n",
       "      <td>13:00:00</td>\n",
       "      <td>3</td>\n",
       "    </tr>\n",
       "    <tr>\n",
       "      <th>25992</th>\n",
       "      <td>1</td>\n",
       "      <td>Friday</td>\n",
       "      <td>18:15:00</td>\n",
       "      <td>6</td>\n",
       "    </tr>\n",
       "    <tr>\n",
       "      <th>25993</th>\n",
       "      <td>0</td>\n",
       "      <td>Monday</td>\n",
       "      <td>14:59:00</td>\n",
       "      <td>4</td>\n",
       "    </tr>\n",
       "    <tr>\n",
       "      <th>25994</th>\n",
       "      <td>0</td>\n",
       "      <td>Monday</td>\n",
       "      <td>15:00:00</td>\n",
       "      <td>4</td>\n",
       "    </tr>\n",
       "    <tr>\n",
       "      <th>25995</th>\n",
       "      <td>0</td>\n",
       "      <td>Monday</td>\n",
       "      <td>16:45:00</td>\n",
       "      <td>5</td>\n",
       "    </tr>\n",
       "    <tr>\n",
       "      <th>25996</th>\n",
       "      <td>1</td>\n",
       "      <td>Friday</td>\n",
       "      <td>18:50:00</td>\n",
       "      <td>6</td>\n",
       "    </tr>\n",
       "    <tr>\n",
       "      <th>25997</th>\n",
       "      <td>1</td>\n",
       "      <td>Friday</td>\n",
       "      <td>13:30:00</td>\n",
       "      <td>3</td>\n",
       "    </tr>\n",
       "    <tr>\n",
       "      <th>25998</th>\n",
       "      <td>0</td>\n",
       "      <td>Tuesday</td>\n",
       "      <td>17:50:00</td>\n",
       "      <td>5</td>\n",
       "    </tr>\n",
       "    <tr>\n",
       "      <th>25999</th>\n",
       "      <td>0</td>\n",
       "      <td>Monday</td>\n",
       "      <td>08:25:00</td>\n",
       "      <td>1</td>\n",
       "    </tr>\n",
       "    <tr>\n",
       "      <th>26000</th>\n",
       "      <td>0</td>\n",
       "      <td>Thursday</td>\n",
       "      <td>16:15:00</td>\n",
       "      <td>5</td>\n",
       "    </tr>\n",
       "  </tbody>\n",
       "</table>\n",
       "</div>"
      ],
      "text/plain": [
       "       weekend day_of_week      time time_of_day\n",
       "25991        1    Saturday  13:00:00           3\n",
       "25992        1      Friday  18:15:00           6\n",
       "25993        0      Monday  14:59:00           4\n",
       "25994        0      Monday  15:00:00           4\n",
       "25995        0      Monday  16:45:00           5\n",
       "25996        1      Friday  18:50:00           6\n",
       "25997        1      Friday  13:30:00           3\n",
       "25998        0     Tuesday  17:50:00           5\n",
       "25999        0      Monday  08:25:00           1\n",
       "26000        0    Thursday  16:15:00           5"
      ]
     },
     "execution_count": 50,
     "metadata": {},
     "output_type": "execute_result"
    }
   ],
   "source": [
    "df[['weekend','day_of_week','time', 'time_of_day']].tail(10)"
   ]
  },
  {
   "cell_type": "code",
   "execution_count": 51,
   "id": "be18e7ca-5cc7-4ab8-bb5d-a969250f082c",
   "metadata": {},
   "outputs": [
    {
     "data": {
      "text/plain": [
       "(26001, 46)"
      ]
     },
     "execution_count": 51,
     "metadata": {},
     "output_type": "execute_result"
    }
   ],
   "source": [
    "df.shape"
   ]
  },
  {
   "cell_type": "code",
   "execution_count": 52,
   "id": "5182764d-2ee9-4e93-89c2-98fb4e9b60e2",
   "metadata": {},
   "outputs": [
    {
     "data": {
      "text/plain": [
       "vehicle_type\n",
       "Car                                      75.462482\n",
       "Motorcycle 125cc and under                6.307450\n",
       "Motorcycle over 500cc                     4.603669\n",
       "Motorcycle 50cc and under                 4.584439\n",
       "Van / Goods 3.5 tonnes mgw or under       3.419099\n",
       "Motorcycle over 125cc and up to 500cc     1.884543\n",
       "Goods 7.5 tonnes mgw and over             1.280720\n",
       "Bus or coach (17 or more pass seats)      1.057652\n",
       "Taxi/Private hire car                     0.657667\n",
       "Goods over 3.5t. and under 7.5t           0.280758\n",
       "Agricultural vehicle                      0.242298\n",
       "Other vehicle                             0.149994\n",
       "Minibus (8 - 16 passenger seats)          0.069228\n",
       "Name: count, dtype: float64"
      ]
     },
     "execution_count": 52,
     "metadata": {},
     "output_type": "execute_result"
    }
   ],
   "source": [
    "df['vehicle_type'].value_counts()/df.shape[0]*100"
   ]
  },
  {
   "cell_type": "code",
   "execution_count": 53,
   "id": "9458a4be-802e-42e5-9e0a-0688eef91620",
   "metadata": {},
   "outputs": [],
   "source": [
    "df['vehicle_type'] = df['vehicle_type'].replace(to_replace=\"Motorcycle over 500cc\", value=\"Motorcycle\")\n",
    "df['vehicle_type'] = df['vehicle_type'].replace(to_replace= \"Motorcycle over 125cc and up to 500cc\",value=\"Motorcycle\")\n",
    "df['vehicle_type'] = df['vehicle_type'].replace(to_replace=\"Motorcycle 125cc and under\", value=\"Motorcycle\")\n",
    "df['vehicle_type'] = df['vehicle_type'].replace(to_replace=\"Motorcycle 50cc and under\", value=\"Motorcycle\")\n",
    "df['vehicle_type'] = df['vehicle_type'].replace(to_replace=\"Motorcycle - unknown cc\", value=\"Motorcycle\")\n",
    "\n",
    "df['vehicle_type'] = df['vehicle_type'].replace(to_replace=\"Van / Goods 3.5 tonnes mgw or under\", value=\"Goods Vehicle\")\n",
    "df['vehicle_type'] = df['vehicle_type'].replace(to_replace=\"Goods over 3.5t. and under 7.5t\", value=\"Goods Vehicle\")\n",
    "df['vehicle_type'] = df['vehicle_type'].replace(to_replace=\"Goods 7.5 tonnes mgw and over\", value=\"Goods Vehicle\")\n",
    "\n",
    "df['vehicle_type'] = df['vehicle_type'].replace(to_replace=\"Taxi/Private hire car\", value=\"Car\")\n",
    "\n",
    "df['vehicle_type'] = df['vehicle_type'].replace(to_replace=\"Minibus (8 - 16 passenger seats)\", value=\"Bus\")\n",
    "df['vehicle_type'] = df['vehicle_type'].replace(to_replace=\"Bus or coach (17 or more pass seats)\",value=\"Bus\")\n",
    "df['vehicle_type'] = df['vehicle_type'].replace(to_replace=\"Agricultural vehicle\", value=\"Other Vehicle\")\n",
    "df['vehicle_type'] = df['vehicle_type'].replace(to_replace=\"Other vehicle\", value=\"Other Vehicle\")"
   ]
  },
  {
   "cell_type": "code",
   "execution_count": 54,
   "id": "a5bb2bca-2660-4d9c-beb9-a480386747b1",
   "metadata": {},
   "outputs": [
    {
     "data": {
      "text/plain": [
       "vehicle_type\n",
       "Car              76.120149\n",
       "Motorcycle       17.380101\n",
       "Goods Vehicle     4.980578\n",
       "Bus               1.126880\n",
       "Other Vehicle     0.392293\n",
       "Name: count, dtype: float64"
      ]
     },
     "execution_count": 54,
     "metadata": {},
     "output_type": "execute_result"
    }
   ],
   "source": [
    "df['vehicle_type'].value_counts()/df.shape[0]*100"
   ]
  },
  {
   "cell_type": "code",
   "execution_count": 55,
   "id": "33a87c16-0e23-4b1e-a91e-9b2eb38fe6ab",
   "metadata": {},
   "outputs": [
    {
     "data": {
      "text/plain": [
       "age_band_of_driver\n",
       "16 - 20                         52.313373\n",
       "21 - 25                         32.733356\n",
       "26 - 35                          6.499750\n",
       "46 - 55                          6.026691\n",
       "36 - 45                          1.888389\n",
       "56 - 65                          0.280758\n",
       "Over 75                          0.115380\n",
       "66 - 75                          0.107688\n",
       "Data missing or out of range     0.034614\n",
       "Name: count, dtype: float64"
      ]
     },
     "execution_count": 55,
     "metadata": {},
     "output_type": "execute_result"
    }
   ],
   "source": [
    "df['age_band_of_driver'].value_counts()/df.shape[0]*100"
   ]
  },
  {
   "cell_type": "code",
   "execution_count": 56,
   "id": "089932e3-b147-472b-8cdb-e2e1f2c75c04",
   "metadata": {},
   "outputs": [],
   "source": [
    "df.drop(df[df['age_band_of_driver'] == 'Data missing or out of range'].index, inplace=True)"
   ]
  },
  {
   "cell_type": "code",
   "execution_count": 57,
   "id": "590cd915-36ff-4836-876c-389b4394ed4e",
   "metadata": {},
   "outputs": [],
   "source": [
    "df['age_band_of_driver']=df['age_band_of_driver'].replace(\"Over 75\",\"75-100\")"
   ]
  },
  {
   "cell_type": "code",
   "execution_count": 59,
   "id": "4b7cf070-d87b-4065-b1b4-b78ddc3d1926",
   "metadata": {},
   "outputs": [
    {
     "data": {
      "text/plain": [
       "0        16 - 20\n",
       "1        36 - 45\n",
       "2        26 - 35\n",
       "3        46 - 55\n",
       "4        46 - 55\n",
       "          ...   \n",
       "25996    21 - 25\n",
       "25997    21 - 25\n",
       "25998    21 - 25\n",
       "25999    21 - 25\n",
       "26000    21 - 25\n",
       "Name: age_band_of_driver, Length: 26001, dtype: object"
      ]
     },
     "execution_count": 59,
     "metadata": {},
     "output_type": "execute_result"
    }
   ],
   "source": [
    "df['age_band_of_driver']"
   ]
  },
  {
   "cell_type": "code",
   "execution_count": 58,
   "id": "34d33754-91d3-424d-bf1b-1b58f2ec19c3",
   "metadata": {},
   "outputs": [],
   "source": [
    "df['age_band_of_driver']=df['age_band_of_driver'].replace(\"Data missing or out of range\",\"11 - 15\")"
   ]
  },
  {
   "cell_type": "code",
   "execution_count": 59,
   "id": "4030115d-a2bc-44cc-ba6d-9994537412e7",
   "metadata": {},
   "outputs": [],
   "source": [
    "df.drop(df[df['age_band_of_driver'] == 'Nov-15'].index, inplace=True)"
   ]
  },
  {
   "cell_type": "code",
   "execution_count": 60,
   "id": "4326cf2f-d460-41ea-9d5a-7499523130c7",
   "metadata": {},
   "outputs": [],
   "source": [
    "\n",
    "df.drop(df[df['age_band_of_driver'] == '06-Oct'].index, inplace=True)"
   ]
  },
  {
   "cell_type": "code",
   "execution_count": 61,
   "id": "47e3f4a1-4742-463d-91b3-b4f877b53f7b",
   "metadata": {},
   "outputs": [
    {
     "data": {
      "text/plain": [
       "age_band_of_driver\n",
       "16 - 20    52.331487\n",
       "21 - 25    32.744691\n",
       "26 - 35     6.502001\n",
       "46 - 55     6.028778\n",
       "36 - 45     1.889043\n",
       "56 - 65     0.280856\n",
       "75-100      0.115420\n",
       "66 - 75     0.107725\n",
       "Name: count, dtype: float64"
      ]
     },
     "execution_count": 61,
     "metadata": {},
     "output_type": "execute_result"
    }
   ],
   "source": [
    "df['age_band_of_driver'].value_counts()/df.shape[0]*100"
   ]
  },
  {
   "cell_type": "code",
   "execution_count": 62,
   "id": "e674fb51-bdda-47dd-9873-ee0ccaa9d2ff",
   "metadata": {},
   "outputs": [],
   "source": [
    "age1 = [\"0 - 5\", \"6 - 10\", \"11 - 15\"]\n",
    "age2 = [\"16 - 20\",\"21 - 25\"]\n",
    "age3 = [\"26 - 35\",\"36 - 45\"]\n",
    "age4 = [\"46 - 55\", \"56 - 65\"]\n",
    "age5 = [\"66 - 75\", \"75-100\"]"
   ]
  },
  {
   "cell_type": "code",
   "execution_count": 63,
   "id": "8e01e5d1-5b06-433c-b7b9-6aebf5d4c2d7",
   "metadata": {},
   "outputs": [
    {
     "name": "stderr",
     "output_type": "stream",
     "text": [
      "C:\\Users\\joelf\\AppData\\Local\\Temp\\ipykernel_1604\\375278678.py:7: FutureWarning: A value is trying to be set on a copy of a DataFrame or Series through chained assignment using an inplace method.\n",
      "The behavior will change in pandas 3.0. This inplace method will never work because the intermediate object on which we are setting values always behaves as a copy.\n",
      "\n",
      "For example, when doing 'df[col].method(value, inplace=True)', try using 'df.method({col: value}, inplace=True)' or df[col] = df[col].method(value) instead, to perform the operation inplace on the original object.\n",
      "\n",
      "\n",
      "  df['age_band_of_driver'].replace(to_replace=col.age_band_of_driver, value='16-25', inplace=True)\n",
      "C:\\Users\\joelf\\AppData\\Local\\Temp\\ipykernel_1604\\375278678.py:10: FutureWarning: A value is trying to be set on a copy of a DataFrame or Series through chained assignment using an inplace method.\n",
      "The behavior will change in pandas 3.0. This inplace method will never work because the intermediate object on which we are setting values always behaves as a copy.\n",
      "\n",
      "For example, when doing 'df[col].method(value, inplace=True)', try using 'df.method({col: value}, inplace=True)' or df[col] = df[col].method(value) instead, to perform the operation inplace on the original object.\n",
      "\n",
      "\n",
      "  df['age_band_of_driver'].replace(to_replace=col.age_band_of_driver, value='26-45', inplace=True)\n",
      "C:\\Users\\joelf\\AppData\\Local\\Temp\\ipykernel_1604\\375278678.py:12: FutureWarning: A value is trying to be set on a copy of a DataFrame or Series through chained assignment using an inplace method.\n",
      "The behavior will change in pandas 3.0. This inplace method will never work because the intermediate object on which we are setting values always behaves as a copy.\n",
      "\n",
      "For example, when doing 'df[col].method(value, inplace=True)', try using 'df.method({col: value}, inplace=True)' or df[col] = df[col].method(value) instead, to perform the operation inplace on the original object.\n",
      "\n",
      "\n",
      "  df['age_band_of_driver'].replace(to_replace=col.age_band_of_driver, value='46-65', inplace=True)\n",
      "C:\\Users\\joelf\\AppData\\Local\\Temp\\ipykernel_1604\\375278678.py:14: FutureWarning: A value is trying to be set on a copy of a DataFrame or Series through chained assignment using an inplace method.\n",
      "The behavior will change in pandas 3.0. This inplace method will never work because the intermediate object on which we are setting values always behaves as a copy.\n",
      "\n",
      "For example, when doing 'df[col].method(value, inplace=True)', try using 'df.method({col: value}, inplace=True)' or df[col] = df[col].method(value) instead, to perform the operation inplace on the original object.\n",
      "\n",
      "\n",
      "  df['age_band_of_driver'].replace(to_replace=col.age_band_of_driver, value='Over 65', inplace=True)\n"
     ]
    }
   ],
   "source": [
    "for (row, col) in df.iterrows():\n",
    "\n",
    "    if str.lower(col.age_band_of_driver) in age1:\n",
    "        df['age_band_of_driver'].replace(to_replace=col.age_band_of_driver, value='Under 16', inplace=True)\n",
    "\n",
    "    if str.lower(col.age_band_of_driver) in age2:\n",
    "        df['age_band_of_driver'].replace(to_replace=col.age_band_of_driver, value='16-25', inplace=True)\n",
    "    \n",
    "    if str.lower(col.age_band_of_driver) in age3:\n",
    "        df['age_band_of_driver'].replace(to_replace=col.age_band_of_driver, value='26-45', inplace=True)\n",
    "    if str.lower(col.age_band_of_driver) in age4:\n",
    "        df['age_band_of_driver'].replace(to_replace=col.age_band_of_driver, value='46-65', inplace=True)\n",
    "    if str.lower(col.age_band_of_driver) in age5:\n",
    "        df['age_band_of_driver'].replace(to_replace=col.age_band_of_driver, value='Over 65', inplace=True)\n"
   ]
  },
  {
   "cell_type": "code",
   "execution_count": 64,
   "id": "2bab415b-9b44-4221-b1af-9fe0a2c6f2ac",
   "metadata": {},
   "outputs": [
    {
     "name": "stdout",
     "output_type": "stream",
     "text": [
      "Distinct responses for age_band_of_driver:\n",
      " {'Over 65', '26-45', '16-25', '46-65'}\n"
     ]
    }
   ],
   "source": [
    "print(\"Distinct responses for age_band_of_driver:\\n\", set(df['age_band_of_driver']))"
   ]
  },
  {
   "cell_type": "code",
   "execution_count": 65,
   "id": "31db28db-aa41-44aa-b61a-57f5999b715b",
   "metadata": {},
   "outputs": [
    {
     "data": {
      "text/plain": [
       "(25992, 46)"
      ]
     },
     "execution_count": 65,
     "metadata": {},
     "output_type": "execute_result"
    }
   ],
   "source": [
    "df.shape"
   ]
  },
  {
   "cell_type": "code",
   "execution_count": 66,
   "id": "2b85f0f6-f10f-4e11-bd72-a13cdefdf3ca",
   "metadata": {},
   "outputs": [
    {
     "data": {
      "text/plain": [
       "number_of_vehicles\n",
       "2     60.472453\n",
       "1     22.964758\n",
       "3     11.668975\n",
       "4      3.120191\n",
       "5      0.881040\n",
       "6      0.407818\n",
       "7      0.188520\n",
       "8      0.115420\n",
       "9      0.050015\n",
       "19     0.034626\n",
       "13     0.026931\n",
       "10     0.019237\n",
       "12     0.019237\n",
       "16     0.015389\n",
       "14     0.011542\n",
       "11     0.003847\n",
       "Name: count, dtype: float64"
      ]
     },
     "execution_count": 66,
     "metadata": {},
     "output_type": "execute_result"
    }
   ],
   "source": [
    "df['number_of_vehicles'].value_counts()/df.shape[0]*100"
   ]
  },
  {
   "cell_type": "code",
   "execution_count": 67,
   "id": "c02ce6b6-52e6-41c5-82e4-2d9cfb403ee6",
   "metadata": {},
   "outputs": [],
   "source": [
    "def vehicles(num_veh):\n",
    "    if num_veh >=1 and num_veh <2:\n",
    "        return \"1\"\n",
    "    elif num_veh >=2 and num_veh <3:\n",
    "        return \"2\"\n",
    "    elif num_veh >=3 and num_veh <4:\n",
    "        return \"3\"\n",
    "    elif num_veh >= 4: \n",
    "        return \"4+\"\n",
    "  \n",
    "\n",
    "df['number_of_vehicles']= df['number_of_vehicles'].apply(vehicles)"
   ]
  },
  {
   "cell_type": "code",
   "execution_count": 68,
   "id": "57fae26b-1558-490f-bb50-9c7bdf659eeb",
   "metadata": {},
   "outputs": [
    {
     "data": {
      "text/plain": [
       "number_of_vehicles\n",
       "2     60.472453\n",
       "1     22.964758\n",
       "3     11.668975\n",
       "4+     4.893813\n",
       "Name: count, dtype: float64"
      ]
     },
     "execution_count": 68,
     "metadata": {},
     "output_type": "execute_result"
    }
   ],
   "source": [
    "\n",
    "df['number_of_vehicles'].value_counts()/df.shape[0]*100"
   ]
  },
  {
   "cell_type": "code",
   "execution_count": 69,
   "id": "270defef-2926-400f-850d-0af9124675d5",
   "metadata": {},
   "outputs": [
    {
     "data": {
      "text/plain": [
       "dtype('O')"
      ]
     },
     "execution_count": 69,
     "metadata": {},
     "output_type": "execute_result"
    }
   ],
   "source": [
    "df['number_of_vehicles'].dtypes"
   ]
  },
  {
   "cell_type": "code",
   "execution_count": 70,
   "id": "bdadc8b3-d20b-4faf-8579-8586e7abbbef",
   "metadata": {},
   "outputs": [],
   "source": [
    "def getSeason(month):\n",
    "    if (month == 2 or month == 12 or month == 1):\n",
    "       return \"Winter\"\n",
    "    elif(month == 6 or month == 7 or month ==8 or month == 9):\n",
    "       return \"Rainy\"\n",
    "    elif(month == 3 or month== 4 or month == 5):\n",
    "       return \"Summer\"\n",
    "    else:\n",
    "       return \"Autumn\"\n",
    "\n",
    "df['season'] = df['month'].apply(getSeason)"
   ]
  },
  {
   "cell_type": "code",
   "execution_count": 71,
   "id": "0ceba842-5348-47c9-8237-adeb1f4eb02e",
   "metadata": {},
   "outputs": [],
   "source": [
    "\n",
    "def enginecap(eng_cc):\n",
    "    if eng_cc <=1500:\n",
    "        return \"small engine cc\"\n",
    "    if eng_cc >1500 and eng_cc <=2000:\n",
    "        return \"medium engine cc\"\n",
    "    if eng_cc >2000:\n",
    "        return \"large engine cc\"\n",
    "\n",
    "\n",
    "df['engine_capacity_cc_size'] = df['engine_capacity_cc'].apply(enginecap)"
   ]
  },
  {
   "cell_type": "code",
   "execution_count": 72,
   "id": "c6ae2e84-598c-4110-8b10-dab447b6f37c",
   "metadata": {},
   "outputs": [
    {
     "data": {
      "text/plain": [
       "accident_severity\n",
       "Slight     68.386427\n",
       "Serious    23.957371\n",
       "Fatal       7.656202\n",
       "Name: count, dtype: float64"
      ]
     },
     "execution_count": 72,
     "metadata": {},
     "output_type": "execute_result"
    }
   ],
   "source": [
    "df['accident_severity'].value_counts()/df.shape[0]*100"
   ]
  },
  {
   "cell_type": "code",
   "execution_count": 73,
   "id": "17dc7099-f4b6-4f12-9a1e-f8306cad0074",
   "metadata": {},
   "outputs": [
    {
     "data": {
      "text/plain": [
       "(25992, 49)"
      ]
     },
     "execution_count": 73,
     "metadata": {},
     "output_type": "execute_result"
    }
   ],
   "source": [
    "df['accident_seriousness'] = df['accident_severity']\n",
    "df['accident_seriousness'] = df['accident_seriousness'].replace(to_replace=\"Slight\",value=\"Not Serious\")\n",
    "df['accident_seriousness'] = df['accident_seriousness'].replace(to_replace=\"Serious\",value=\"Serious\")\n",
    "df['accident_seriousness'] = df['accident_seriousness'].replace(to_replace=\"Fatal\",value=\"Fatal\")\n",
    "df.shape"
   ]
  },
  {
   "cell_type": "code",
   "execution_count": 74,
   "id": "7b896c8d-871b-4faf-b8c0-1ec9629b18a1",
   "metadata": {},
   "outputs": [
    {
     "data": {
      "text/plain": [
       "accident_seriousness\n",
       "Not Serious    68.386427\n",
       "Serious        23.957371\n",
       "Fatal           7.656202\n",
       "Name: count, dtype: float64"
      ]
     },
     "execution_count": 74,
     "metadata": {},
     "output_type": "execute_result"
    }
   ],
   "source": [
    "df['accident_seriousness'].value_counts()/df.shape[0]*100"
   ]
  },
  {
   "cell_type": "code",
   "execution_count": 75,
   "id": "47cb8fdb-82dd-45aa-8880-363c0078111d",
   "metadata": {},
   "outputs": [
    {
     "name": "stderr",
     "output_type": "stream",
     "text": [
      "C:\\Users\\joelf\\AppData\\Local\\Temp\\ipykernel_1604\\124094351.py:9: FutureWarning: \n",
      "\n",
      "Passing `palette` without assigning `hue` is deprecated and will be removed in v0.14.0. Assign the `x` variable to `hue` and set `legend=False` for the same effect.\n",
      "\n",
      "  mt = sns.barplot(\n"
     ]
    },
    {
     "data": {
      "image/png": "[encoded data removed]",
      "text/plain": [
       "<Figure size 2000x1000 with 1 Axes>"
      ]
     },
     "metadata": {},
     "output_type": "display_data"
    }
   ],
   "source": [
    "\n",
    "accidentspermonth = df.groupby(['month'])['accident_index'].count()\n",
    "\n",
    "# Prepare plot\n",
    "plt.style.use('default')\n",
    "plt.figure(figsize=(20, 10))\n",
    "colors = sns.color_palette(\"plasma_r\", n_colors=12)\n",
    "\n",
    "# Create barplot with explicit `hue` set to `None`\n",
    "mt = sns.barplot(\n",
    "    x=accidentspermonth.index, \n",
    "    y=accidentspermonth.values, \n",
    "    palette=colors,\n",
    "    hue=None\n",
    ")\n",
    "\n",
    "sns.despine(top=True, right=True, left=True, bottom=True)\n",
    "\n",
    "# Define group labels\n",
    "group_labels = ['Jan', 'Feb', 'Mar', 'Apr', 'May', 'Jun', 'Jul', 'Aug', 'Sep', 'Oct', 'Nov', 'Dec']\n",
    "\n",
    "# Set the correct tick positions and labels\n",
    "mt.set_xticks(range(len(group_labels)))\n",
    "mt.set_xticklabels(group_labels, fontsize=18)\n",
    "\n",
    "# Add labels and title\n",
    "plt.title(\"Accidents Per Month\", fontsize=20, fontweight=\"bold\")\n",
    "plt.xlabel(\"\\nMonth\", fontsize=15, fontweight=\"bold\")\n",
    "plt.ylabel(\"\\nNumber of Accidents\", fontsize=15, fontweight=\"bold\")\n",
    "plt.yticks(fontsize=12)\n",
    "\n",
    "# Save and adjust layout\n",
    "plt.savefig('acc_month.png')\n",
    "plt.tight_layout()\n",
    "plt.show()"
   ]
  },
  {
   "cell_type": "code",
   "execution_count": 76,
   "id": "a66b1c28-c403-4fdf-bf3a-b7303d414811",
   "metadata": {},
   "outputs": [
    {
     "data": {
      "image/png": "[encoded data removed]",
      "text/plain": [
       "<Figure size 1500x1000 with 2 Axes>"
      ]
     },
     "metadata": {},
     "output_type": "display_data"
    }
   ],
   "source": [
    "\n",
    "weekdays = ['Monday', 'Tuesday','Wednesday','Thursday', 'Friday', 'Saturday', 'Sunday']\n",
    "accweekday = df.groupby(['year', 'day_of_week']).size()\n",
    "accweekday = accweekday.rename_axis(['year', 'day_of_week'])\\\n",
    "                                    .unstack('day_of_week')\\\n",
    "                                    .reindex(columns=weekdays)\n",
    "plt.figure(figsize=(15,10))\n",
    "plt.style.use('dark_background')\n",
    "sns.heatmap(accweekday, cmap='plasma_r')\n",
    "\n",
    "plt.title('\\nAccidents by Weekday per Year\\n', fontsize=14, fontweight='bold')\n",
    "plt.xticks(fontsize=15)\n",
    "plt.yticks(fontsize=12)\n",
    "plt.xlabel('')\n",
    "plt.ylabel('')\n",
    "plt.savefig('acc_week_vs_year.png')\n",
    "plt.show()"
   ]
  },
  {
   "cell_type": "code",
   "execution_count": 77,
   "id": "c6ca47a9-14b6-4cb8-a94f-304b78b40485",
   "metadata": {},
   "outputs": [
    {
     "name": "stderr",
     "output_type": "stream",
     "text": [
      "C:\\Users\\joelf\\AppData\\Local\\Temp\\ipykernel_1604\\1308311713.py:7: FutureWarning: \n",
      "\n",
      "Passing `palette` without assigning `hue` is deprecated and will be removed in v0.14.0. Assign the `x` variable to `hue` and set `legend=False` for the same effect.\n",
      "\n",
      "  sns.barplot(x=accidentsperseason.index, y=accidentsperseason.values, order=seaord, saturation=1, palette='magma_r')\n"
     ]
    },
    {
     "data": {
      "image/png": "[encoded data removed]",
      "text/plain": [
       "<Figure size 1500x1000 with 1 Axes>"
      ]
     },
     "metadata": {},
     "output_type": "display_data"
    }
   ],
   "source": [
    "accidentsperseason = df.groupby(['season'])['accident_index'].count()\n",
    "seaord=['Winter', 'Summer', 'Rainy','Autumn']\n",
    "# prepare plot\n",
    "plt.style.use('default')\n",
    "plt.figure(figsize=(15,10))\n",
    "\n",
    "sns.barplot(x=accidentsperseason.index, y=accidentsperseason.values, order=seaord, saturation=1, palette='magma_r')\n",
    "sns.despine(top=True, right=True, left=True, bottom=True)\n",
    "plt.title(\"Accidents Per Season\",fontsize=20,fontweight=\"bold\")\n",
    "plt.xticks(fontsize=15)\n",
    "plt.yticks(fontsize=12)\n",
    "plt.xlabel(\"\\nSeason\", fontsize=15, fontweight=\"bold\")\n",
    "plt.ylabel(\"Number of Accidents\", fontsize=15, fontweight=\"bold\")\n",
    "plt.tight_layout()\n",
    "plt.savefig('acc_season.png')\n",
    "plt.show()"
   ]
  },
  {
   "cell_type": "code",
   "execution_count": 78,
   "id": "f520b5ec-a29a-46ae-8a7c-43e17fa83df0",
   "metadata": {},
   "outputs": [],
   "source": [
    "timeofdaygroups = {'1': \"Morning Rush\",\n",
    "                   '2': \"Day\",\n",
    "                   '3': \"Lunch Rush\",\n",
    "                   '4': \"Afternoon\",\n",
    "                   '5': \"After Work Rush\",\n",
    "                   '6': \"Evening\",\n",
    "                   '7': \"Night\"}\n",
    "df['time_of_day']=df['time_of_day'].map(timeofdaygroups)"
   ]
  },
  {
   "cell_type": "code",
   "execution_count": 79,
   "id": "59e7d99d-8946-462d-b575-58a82c2649e7",
   "metadata": {},
   "outputs": [
    {
     "data": {
      "text/plain": [
       "0                Evening\n",
       "1                Evening\n",
       "2                  Night\n",
       "3                  Night\n",
       "4                  Night\n",
       "              ...       \n",
       "25996            Evening\n",
       "25997         Lunch Rush\n",
       "25998    After Work Rush\n",
       "25999       Morning Rush\n",
       "26000    After Work Rush\n",
       "Name: time_of_day, Length: 25992, dtype: object"
      ]
     },
     "execution_count": 79,
     "metadata": {},
     "output_type": "execute_result"
    }
   ],
   "source": [
    "df['time_of_day']"
   ]
  },
  {
   "cell_type": "code",
   "execution_count": 80,
   "id": "b74a782e-8778-4d58-8d6f-74b2816f716e",
   "metadata": {},
   "outputs": [
    {
     "name": "stderr",
     "output_type": "stream",
     "text": [
      "C:\\Users\\joelf\\AppData\\Local\\Temp\\ipykernel_1604\\3007996904.py:8: FutureWarning: \n",
      "\n",
      "Passing `palette` without assigning `hue` is deprecated and will be removed in v0.14.0. Assign the `x` variable to `hue` and set `legend=False` for the same effect.\n",
      "\n",
      "  sns.barplot(x=accidentspertod.index, y=accidentspertod.values, order=tod, palette='rainbow')\n"
     ]
    },
    {
     "data": {
      "image/png": "[encoded data removed]",
      "text/plain": [
       "<Figure size 1500x1000 with 1 Axes>"
      ]
     },
     "metadata": {},
     "output_type": "display_data"
    }
   ],
   "source": [
    "accidentspertod = df.groupby(['time_of_day'])['accident_index'].count()\n",
    "\n",
    "# prepare plot\n",
    "plt.style.use('dark_background')\n",
    "plt.figure(figsize=(15,10))\n",
    "tod=[\"Morning Rush\", \"Day\", \"Lunch Rush\", \"Afternoon\",\n",
    "     \"After Work Rush\", \"Evening\", \"Night\"]\n",
    "sns.barplot(x=accidentspertod.index, y=accidentspertod.values, order=tod, palette='rainbow')\n",
    "sns.despine(top=True, right=True, left=True, bottom=True)\n",
    "plt.title(\"Accidents Per Time of Day\", fontsize=20, fontweight=\"bold\")\n",
    "plt.xticks(fontsize=15)\n",
    "plt.yticks(fontsize=12)\n",
    "plt.xlabel(\"\", fontsize=15, fontweight=\"bold\")\n",
    "plt.ylabel(\"\\nNumber of Accidents\", fontsize=15, fontweight=\"bold\")\n",
    "plt.tight_layout()\n",
    "plt.savefig('acc_russ.png')\n",
    "plt.show()"
   ]
  },
  {
   "cell_type": "code",
   "execution_count": 81,
   "id": "8dc9a880-cec9-4dde-8b2c-dce2176bbebe",
   "metadata": {},
   "outputs": [
    {
     "data": {
      "text/plain": [
       "weather_conditions\n",
       "Fine no high winds       80.863343\n",
       "Raining no high winds    11.126500\n",
       "Other                     3.031702\n",
       "Fine + high winds         1.231148\n",
       "Snowing no high winds     1.081102\n",
       "Raining + high winds      0.931056\n",
       "Unknown                   0.877193\n",
       "Fog or mist               0.730994\n",
       "Snowing + high winds      0.126962\n",
       "Name: count, dtype: float64"
      ]
     },
     "execution_count": 81,
     "metadata": {},
     "output_type": "execute_result"
    }
   ],
   "source": [
    "df['weather_conditions'].value_counts()/df.shape[0]*100"
   ]
  },
  {
   "cell_type": "code",
   "execution_count": 82,
   "id": "f2b5b73b-0928-4746-8fce-c258ec1db9b5",
   "metadata": {},
   "outputs": [],
   "source": [
    "df.drop(df[df['weather_conditions'] == 'Data missing or out of range'].index, inplace=True)"
   ]
  },
  {
   "cell_type": "code",
   "execution_count": 83,
   "id": "0f6dad69-fb0e-4eaf-83a1-34cc92a767df",
   "metadata": {},
   "outputs": [],
   "source": [
    "df['weather_conditions'] = df['weather_conditions'].replace(to_replace=\"Unknown\",value=\"Fog or mist\")\n",
    "df['weather_conditions'] = df['weather_conditions'].replace(to_replace=\"Other\",value=\"Mud\")"
   ]
  },
  {
   "cell_type": "code",
   "execution_count": 84,
   "id": "6c63c24e-0267-4f64-b1d2-02b03f659d91",
   "metadata": {},
   "outputs": [
    {
     "data": {
      "text/plain": [
       "weather_conditions\n",
       "Fine no high winds       80.863343\n",
       "Raining no high winds    11.126500\n",
       "Mud                       3.031702\n",
       "Fog or mist               1.608187\n",
       "Fine + high winds         1.231148\n",
       "Snowing no high winds     1.081102\n",
       "Raining + high winds      0.931056\n",
       "Snowing + high winds      0.126962\n",
       "Name: count, dtype: float64"
      ]
     },
     "execution_count": 84,
     "metadata": {},
     "output_type": "execute_result"
    }
   ],
   "source": [
    "df['weather_conditions'].value_counts()/df.shape[0]*100"
   ]
  },
  {
   "cell_type": "code",
   "execution_count": 85,
   "id": "059336d4-2202-4eb1-ad76-78ce0c8d0ef7",
   "metadata": {},
   "outputs": [
    {
     "data": {
      "text/plain": [
       "sex_of_driver\n",
       "Male         74.449831\n",
       "Female       25.546322\n",
       "Not known     0.003847\n",
       "Name: count, dtype: float64"
      ]
     },
     "execution_count": 85,
     "metadata": {},
     "output_type": "execute_result"
    }
   ],
   "source": [
    "df['sex_of_driver'].value_counts()/df.shape[0]*100"
   ]
  },
  {
   "cell_type": "code",
   "execution_count": 86,
   "id": "9e0cb9fd-7c9b-4d9d-b27d-f31109b308f9",
   "metadata": {},
   "outputs": [
    {
     "data": {
      "text/plain": [
       "light_conditions\n",
       "Daylight                   57.771622\n",
       "Darkness - lights lit      31.163435\n",
       "Darkness - no lighting     10.557094\n",
       "Darkness - lights unlit     0.507849\n",
       "Name: count, dtype: float64"
      ]
     },
     "execution_count": 86,
     "metadata": {},
     "output_type": "execute_result"
    }
   ],
   "source": [
    "df['light_conditions'].value_counts()/df.shape[0]*100"
   ]
  },
  {
   "cell_type": "code",
   "execution_count": 87,
   "id": "7803413c-fe93-4aef-9e1f-a7adcbb8aa15",
   "metadata": {},
   "outputs": [],
   "source": [
    "df.drop(df[df['light_conditions'] == 'Darkness - lighting unknown'].index, inplace=True)"
   ]
  },
  {
   "cell_type": "code",
   "execution_count": 88,
   "id": "55ccd623-f2bf-47d4-a196-164c482fe607",
   "metadata": {},
   "outputs": [
    {
     "data": {
      "text/plain": [
       "light_conditions\n",
       "Daylight                   57.771622\n",
       "Darkness - lights lit      31.163435\n",
       "Darkness - no lighting     10.557094\n",
       "Darkness - lights unlit     0.507849\n",
       "Name: count, dtype: float64"
      ]
     },
     "execution_count": 88,
     "metadata": {},
     "output_type": "execute_result"
    }
   ],
   "source": [
    "df['light_conditions'].value_counts()/df.shape[0]*100"
   ]
  },
  {
   "cell_type": "code",
   "execution_count": 89,
   "id": "f9cbac81-4a23-4e25-a207-b8724990cf0e",
   "metadata": {},
   "outputs": [
    {
     "data": {
      "text/plain": [
       "season\n",
       "Rainy     33.356417\n",
       "Summer    25.238535\n",
       "Winter    23.134041\n",
       "Autumn    18.271006\n",
       "Name: count, dtype: float64"
      ]
     },
     "execution_count": 89,
     "metadata": {},
     "output_type": "execute_result"
    }
   ],
   "source": [
    "df['season'].value_counts()/df.shape[0]*100"
   ]
  },
  {
   "cell_type": "code",
   "execution_count": 90,
   "id": "f07e3f47-f81c-422f-96a4-758f0062bfc2",
   "metadata": {},
   "outputs": [
    {
     "data": {
      "text/plain": [
       "vehicle_type\n",
       "Car              76.127270\n",
       "Motorcycle       17.386119\n",
       "Goods Vehicle     4.978455\n",
       "Bus               1.119575\n",
       "Other Vehicle     0.388581\n",
       "Name: count, dtype: float64"
      ]
     },
     "execution_count": 90,
     "metadata": {},
     "output_type": "execute_result"
    }
   ],
   "source": [
    "df['vehicle_type'].value_counts()/df.shape[0]*100"
   ]
  },
  {
   "cell_type": "code",
   "execution_count": 91,
   "id": "1f708b5e-1636-449c-ba79-fe7c2d04a499",
   "metadata": {},
   "outputs": [
    {
     "data": {
      "text/plain": [
       "age_band_of_driver\n",
       "16-25      85.076177\n",
       "26-45       8.391043\n",
       "46-65       6.309634\n",
       "Over 65     0.223146\n",
       "Name: count, dtype: float64"
      ]
     },
     "execution_count": 91,
     "metadata": {},
     "output_type": "execute_result"
    }
   ],
   "source": [
    "df['age_band_of_driver'].value_counts()/df.shape[0]*100"
   ]
  },
  {
   "cell_type": "code",
   "execution_count": 92,
   "id": "35c9745a-1eaf-4f61-b272-59e57ab49590",
   "metadata": {},
   "outputs": [
    {
     "data": {
      "text/plain": [
       "speed_limit\n",
       "30    54.728378\n",
       "60    16.031856\n",
       "40    11.676670\n",
       "70    10.010773\n",
       "50     6.586642\n",
       "20     0.957987\n",
       "10     0.003847\n",
       "15     0.003847\n",
       "Name: count, dtype: float64"
      ]
     },
     "execution_count": 92,
     "metadata": {},
     "output_type": "execute_result"
    }
   ],
   "source": [
    "df['speed_limit'].value_counts()/df.shape[0]*100"
   ]
  },
  {
   "cell_type": "code",
   "execution_count": 97,
   "id": "fd75b960-de97-44e5-abaf-5cab7d295a46",
   "metadata": {},
   "outputs": [
    {
     "ename": "ValueError",
     "evalue": "could not convert string to float: '200754AM08507'",
     "output_type": "error",
     "traceback": [
      "\u001b[1;31m---------------------------------------------------------------------------\u001b[0m",
      "\u001b[1;31mValueError\u001b[0m                                Traceback (most recent call last)",
      "Cell \u001b[1;32mIn[97], line 1\u001b[0m\n\u001b[1;32m----> 1\u001b[0m corr \u001b[38;5;241m=\u001b[39m  df\u001b[38;5;241m.\u001b[39mcorr()\n\u001b[0;32m      2\u001b[0m plt\u001b[38;5;241m.\u001b[39msubplots(figsize\u001b[38;5;241m=\u001b[39m(\u001b[38;5;241m20\u001b[39m,\u001b[38;5;241m9\u001b[39m))\n\u001b[0;32m      3\u001b[0m sns\u001b[38;5;241m.\u001b[39mheatmap(corr)\n",
      "File \u001b[1;32m~\\anaconda4\\Lib\\site-packages\\pandas\\core\\frame.py:11049\u001b[0m, in \u001b[0;36mDataFrame.corr\u001b[1;34m(self, method, min_periods, numeric_only)\u001b[0m\n\u001b[0;32m  11047\u001b[0m cols \u001b[38;5;241m=\u001b[39m data\u001b[38;5;241m.\u001b[39mcolumns\n\u001b[0;32m  11048\u001b[0m idx \u001b[38;5;241m=\u001b[39m cols\u001b[38;5;241m.\u001b[39mcopy()\n\u001b[1;32m> 11049\u001b[0m mat \u001b[38;5;241m=\u001b[39m data\u001b[38;5;241m.\u001b[39mto_numpy(dtype\u001b[38;5;241m=\u001b[39m\u001b[38;5;28mfloat\u001b[39m, na_value\u001b[38;5;241m=\u001b[39mnp\u001b[38;5;241m.\u001b[39mnan, copy\u001b[38;5;241m=\u001b[39m\u001b[38;5;28;01mFalse\u001b[39;00m)\n\u001b[0;32m  11051\u001b[0m \u001b[38;5;28;01mif\u001b[39;00m method \u001b[38;5;241m==\u001b[39m \u001b[38;5;124m\"\u001b[39m\u001b[38;5;124mpearson\u001b[39m\u001b[38;5;124m\"\u001b[39m:\n\u001b[0;32m  11052\u001b[0m     correl \u001b[38;5;241m=\u001b[39m libalgos\u001b[38;5;241m.\u001b[39mnancorr(mat, minp\u001b[38;5;241m=\u001b[39mmin_periods)\n",
      "File \u001b[1;32m~\\anaconda4\\Lib\\site-packages\\pandas\\core\\frame.py:1993\u001b[0m, in \u001b[0;36mDataFrame.to_numpy\u001b[1;34m(self, dtype, copy, na_value)\u001b[0m\n\u001b[0;32m   1991\u001b[0m \u001b[38;5;28;01mif\u001b[39;00m dtype \u001b[38;5;129;01mis\u001b[39;00m \u001b[38;5;129;01mnot\u001b[39;00m \u001b[38;5;28;01mNone\u001b[39;00m:\n\u001b[0;32m   1992\u001b[0m     dtype \u001b[38;5;241m=\u001b[39m np\u001b[38;5;241m.\u001b[39mdtype(dtype)\n\u001b[1;32m-> 1993\u001b[0m result \u001b[38;5;241m=\u001b[39m \u001b[38;5;28mself\u001b[39m\u001b[38;5;241m.\u001b[39m_mgr\u001b[38;5;241m.\u001b[39mas_array(dtype\u001b[38;5;241m=\u001b[39mdtype, copy\u001b[38;5;241m=\u001b[39mcopy, na_value\u001b[38;5;241m=\u001b[39mna_value)\n\u001b[0;32m   1994\u001b[0m \u001b[38;5;28;01mif\u001b[39;00m result\u001b[38;5;241m.\u001b[39mdtype \u001b[38;5;129;01mis\u001b[39;00m \u001b[38;5;129;01mnot\u001b[39;00m dtype:\n\u001b[0;32m   1995\u001b[0m     result \u001b[38;5;241m=\u001b[39m np\u001b[38;5;241m.\u001b[39masarray(result, dtype\u001b[38;5;241m=\u001b[39mdtype)\n",
      "File \u001b[1;32m~\\anaconda4\\Lib\\site-packages\\pandas\\core\\internals\\managers.py:1694\u001b[0m, in \u001b[0;36mBlockManager.as_array\u001b[1;34m(self, dtype, copy, na_value)\u001b[0m\n\u001b[0;32m   1692\u001b[0m         arr\u001b[38;5;241m.\u001b[39mflags\u001b[38;5;241m.\u001b[39mwriteable \u001b[38;5;241m=\u001b[39m \u001b[38;5;28;01mFalse\u001b[39;00m\n\u001b[0;32m   1693\u001b[0m \u001b[38;5;28;01melse\u001b[39;00m:\n\u001b[1;32m-> 1694\u001b[0m     arr \u001b[38;5;241m=\u001b[39m \u001b[38;5;28mself\u001b[39m\u001b[38;5;241m.\u001b[39m_interleave(dtype\u001b[38;5;241m=\u001b[39mdtype, na_value\u001b[38;5;241m=\u001b[39mna_value)\n\u001b[0;32m   1695\u001b[0m     \u001b[38;5;66;03m# The underlying data was copied within _interleave, so no need\u001b[39;00m\n\u001b[0;32m   1696\u001b[0m     \u001b[38;5;66;03m# to further copy if copy=True or setting na_value\u001b[39;00m\n\u001b[0;32m   1698\u001b[0m \u001b[38;5;28;01mif\u001b[39;00m na_value \u001b[38;5;129;01mis\u001b[39;00m lib\u001b[38;5;241m.\u001b[39mno_default:\n",
      "File \u001b[1;32m~\\anaconda4\\Lib\\site-packages\\pandas\\core\\internals\\managers.py:1753\u001b[0m, in \u001b[0;36mBlockManager._interleave\u001b[1;34m(self, dtype, na_value)\u001b[0m\n\u001b[0;32m   1751\u001b[0m     \u001b[38;5;28;01melse\u001b[39;00m:\n\u001b[0;32m   1752\u001b[0m         arr \u001b[38;5;241m=\u001b[39m blk\u001b[38;5;241m.\u001b[39mget_values(dtype)\n\u001b[1;32m-> 1753\u001b[0m     result[rl\u001b[38;5;241m.\u001b[39mindexer] \u001b[38;5;241m=\u001b[39m arr\n\u001b[0;32m   1754\u001b[0m     itemmask[rl\u001b[38;5;241m.\u001b[39mindexer] \u001b[38;5;241m=\u001b[39m \u001b[38;5;241m1\u001b[39m\n\u001b[0;32m   1756\u001b[0m \u001b[38;5;28;01mif\u001b[39;00m \u001b[38;5;129;01mnot\u001b[39;00m itemmask\u001b[38;5;241m.\u001b[39mall():\n",
      "\u001b[1;31mValueError\u001b[0m: could not convert string to float: '200754AM08507'"
     ]
    }
   ],
   "source": [
    "corr =  df.corr()\n",
    "plt.subplots(figsize=(20,9))\n",
    "sns.heatmap(corr)"
   ]
  },
  {
   "cell_type": "code",
   "execution_count": 94,
   "id": "fe295d91-adbb-4b6a-bd7e-f1a6b65c7eb5",
   "metadata": {},
   "outputs": [
    {
     "data": {
      "text/html": [
       "<div>\n",
       "<style scoped>\n",
       "    .dataframe tbody tr th:only-of-type {\n",
       "        vertical-align: middle;\n",
       "    }\n",
       "\n",
       "    .dataframe tbody tr th {\n",
       "        vertical-align: top;\n",
       "    }\n",
       "\n",
       "    .dataframe thead th {\n",
       "        text-align: right;\n",
       "    }\n",
       "</style>\n",
       "<table border=\"1\" class=\"dataframe\">\n",
       "  <thead>\n",
       "    <tr style=\"text-align: right;\">\n",
       "      <th></th>\n",
       "      <th>accident_index</th>\n",
       "      <th>1st_road_class</th>\n",
       "      <th>1st_road_number</th>\n",
       "      <th>accident_severity</th>\n",
       "      <th>date</th>\n",
       "      <th>day_of_week</th>\n",
       "      <th>did_police_officer_attend_scene_of_accident</th>\n",
       "      <th>junction_control</th>\n",
       "      <th>junction_detail</th>\n",
       "      <th>latitude</th>\n",
       "      <th>...</th>\n",
       "      <th>was_vehicle_left_hand_drive</th>\n",
       "      <th>x1st_point_of_impact</th>\n",
       "      <th>year</th>\n",
       "      <th>month</th>\n",
       "      <th>weekend</th>\n",
       "      <th>hour</th>\n",
       "      <th>time_of_day</th>\n",
       "      <th>season</th>\n",
       "      <th>engine_capacity_cc_size</th>\n",
       "      <th>accident_seriousness</th>\n",
       "    </tr>\n",
       "  </thead>\n",
       "  <tbody>\n",
       "    <tr>\n",
       "      <th>0</th>\n",
       "      <td>200754AM08507</td>\n",
       "      <td>A</td>\n",
       "      <td>345</td>\n",
       "      <td>Fatal</td>\n",
       "      <td>2021-01-28</td>\n",
       "      <td>Tuesday</td>\n",
       "      <td>1</td>\n",
       "      <td>Not at junction or within 20 metres</td>\n",
       "      <td>Not at junction or within 20 metres</td>\n",
       "      <td>26.907572</td>\n",
       "      <td>...</td>\n",
       "      <td>No</td>\n",
       "      <td>Back</td>\n",
       "      <td>2021</td>\n",
       "      <td>1</td>\n",
       "      <td>0</td>\n",
       "      <td>21</td>\n",
       "      <td>Evening</td>\n",
       "      <td>Winter</td>\n",
       "      <td>small engine cc</td>\n",
       "      <td>Fatal</td>\n",
       "    </tr>\n",
       "    <tr>\n",
       "      <th>1</th>\n",
       "      <td>2009559D02192</td>\n",
       "      <td>A</td>\n",
       "      <td>30</td>\n",
       "      <td>Fatal</td>\n",
       "      <td>2021-11-29</td>\n",
       "      <td>Thursday</td>\n",
       "      <td>1</td>\n",
       "      <td>Not at junction or within 20 metres</td>\n",
       "      <td>Not at junction or within 20 metres</td>\n",
       "      <td>13.004577</td>\n",
       "      <td>...</td>\n",
       "      <td>No</td>\n",
       "      <td>Front</td>\n",
       "      <td>2020</td>\n",
       "      <td>11</td>\n",
       "      <td>0</td>\n",
       "      <td>20</td>\n",
       "      <td>Evening</td>\n",
       "      <td>Autumn</td>\n",
       "      <td>small engine cc</td>\n",
       "      <td>Fatal</td>\n",
       "    </tr>\n",
       "    <tr>\n",
       "      <th>2</th>\n",
       "      <td>201054MB04210</td>\n",
       "      <td>Motorway</td>\n",
       "      <td>4</td>\n",
       "      <td>Fatal</td>\n",
       "      <td>2021-03-15</td>\n",
       "      <td>Saturday</td>\n",
       "      <td>1</td>\n",
       "      <td>Not at junction or within 20 metres</td>\n",
       "      <td>Not at junction or within 20 metres</td>\n",
       "      <td>14.756657</td>\n",
       "      <td>...</td>\n",
       "      <td>No</td>\n",
       "      <td>Back</td>\n",
       "      <td>2019</td>\n",
       "      <td>3</td>\n",
       "      <td>1</td>\n",
       "      <td>1</td>\n",
       "      <td>Night</td>\n",
       "      <td>Summer</td>\n",
       "      <td>small engine cc</td>\n",
       "      <td>Fatal</td>\n",
       "    </tr>\n",
       "    <tr>\n",
       "      <th>3</th>\n",
       "      <td>201014A194610</td>\n",
       "      <td>Motorway</td>\n",
       "      <td>18</td>\n",
       "      <td>Fatal</td>\n",
       "      <td>2020-07-08</td>\n",
       "      <td>Tuesday</td>\n",
       "      <td>1</td>\n",
       "      <td>Give way or uncontrolled</td>\n",
       "      <td>Slip road</td>\n",
       "      <td>14.774716</td>\n",
       "      <td>...</td>\n",
       "      <td>No</td>\n",
       "      <td>Back</td>\n",
       "      <td>2019</td>\n",
       "      <td>7</td>\n",
       "      <td>0</td>\n",
       "      <td>1</td>\n",
       "      <td>Night</td>\n",
       "      <td>Rainy</td>\n",
       "      <td>small engine cc</td>\n",
       "      <td>Fatal</td>\n",
       "    </tr>\n",
       "    <tr>\n",
       "      <th>4</th>\n",
       "      <td>201014A194610</td>\n",
       "      <td>Motorway</td>\n",
       "      <td>18</td>\n",
       "      <td>Fatal</td>\n",
       "      <td>2010-11-30</td>\n",
       "      <td>Tuesday</td>\n",
       "      <td>1</td>\n",
       "      <td>Give way or uncontrolled</td>\n",
       "      <td>Slip road</td>\n",
       "      <td>53.488762</td>\n",
       "      <td>...</td>\n",
       "      <td>No</td>\n",
       "      <td>Back</td>\n",
       "      <td>2010</td>\n",
       "      <td>11</td>\n",
       "      <td>0</td>\n",
       "      <td>1</td>\n",
       "      <td>Night</td>\n",
       "      <td>Autumn</td>\n",
       "      <td>small engine cc</td>\n",
       "      <td>Fatal</td>\n",
       "    </tr>\n",
       "  </tbody>\n",
       "</table>\n",
       "<p>5 rows × 49 columns</p>\n",
       "</div>"
      ],
      "text/plain": [
       "  accident_index 1st_road_class 1st_road_number accident_severity       date  \\\n",
       "0  200754AM08507              A             345             Fatal 2021-01-28   \n",
       "1  2009559D02192              A              30             Fatal 2021-11-29   \n",
       "2  201054MB04210       Motorway               4             Fatal 2021-03-15   \n",
       "3  201014A194610       Motorway              18             Fatal 2020-07-08   \n",
       "4  201014A194610       Motorway              18             Fatal 2010-11-30   \n",
       "\n",
       "  day_of_week did_police_officer_attend_scene_of_accident  \\\n",
       "0     Tuesday                                           1   \n",
       "1    Thursday                                           1   \n",
       "2    Saturday                                           1   \n",
       "3     Tuesday                                           1   \n",
       "4     Tuesday                                           1   \n",
       "\n",
       "                      junction_control                      junction_detail  \\\n",
       "0  Not at junction or within 20 metres  Not at junction or within 20 metres   \n",
       "1  Not at junction or within 20 metres  Not at junction or within 20 metres   \n",
       "2  Not at junction or within 20 metres  Not at junction or within 20 metres   \n",
       "3             Give way or uncontrolled                            Slip road   \n",
       "4             Give way or uncontrolled                            Slip road   \n",
       "\n",
       "    latitude  ... was_vehicle_left_hand_drive  x1st_point_of_impact  year  \\\n",
       "0  26.907572  ...                          No                  Back  2021   \n",
       "1  13.004577  ...                          No                 Front  2020   \n",
       "2  14.756657  ...                          No                  Back  2019   \n",
       "3  14.774716  ...                          No                  Back  2019   \n",
       "4  53.488762  ...                          No                  Back  2010   \n",
       "\n",
       "  month weekend hour time_of_day  season  engine_capacity_cc_size  \\\n",
       "0     1       0   21     Evening  Winter          small engine cc   \n",
       "1    11       0   20     Evening  Autumn          small engine cc   \n",
       "2     3       1    1       Night  Summer          small engine cc   \n",
       "3     7       0    1       Night   Rainy          small engine cc   \n",
       "4    11       0    1       Night  Autumn          small engine cc   \n",
       "\n",
       "  accident_seriousness  \n",
       "0                Fatal  \n",
       "1                Fatal  \n",
       "2                Fatal  \n",
       "3                Fatal  \n",
       "4                Fatal  \n",
       "\n",
       "[5 rows x 49 columns]"
      ]
     },
     "execution_count": 94,
     "metadata": {},
     "output_type": "execute_result"
    }
   ],
   "source": [
    "df.head()"
   ]
  },
  {
   "cell_type": "markdown",
   "id": "2a33a49c-fe8c-4d51-8bd1-d14d7c2d5a24",
   "metadata": {},
   "source": [
    "## Machine Learning Model Training"
   ]
  },
  {
   "cell_type": "code",
   "execution_count": 98,
   "id": "53fe75f5-be11-4d1c-b3ba-9dd8ef7adb0b",
   "metadata": {},
   "outputs": [],
   "source": [
    "\n",
    "from sklearn.metrics import accuracy_score, confusion_matrix, classification_report\n",
    "from sklearn.ensemble import RandomForestClassifier, GradientBoostingClassifier, AdaBoostClassifier\n",
    "from sklearn.svm import SVC\n",
    "from sklearn.neighbors import KNeighborsClassifier\n",
    "from sklearn.linear_model import LogisticRegression\n",
    "from sklearn.naive_bayes import GaussianNB\n",
    "from sklearn.tree import DecisionTreeClassifier\n",
    "from sklearn.neural_network import MLPClassifier\n",
    "from sklearn.metrics import accuracy_score\n",
    "from sklearn.model_selection import train_test_split"
   ]
  },
  {
   "cell_type": "code",
   "execution_count": 100,
   "id": "c670d345-0e71-45a1-b22f-022befbccbd3",
   "metadata": {},
   "outputs": [
    {
     "data": {
      "text/plain": [
       "'2.2.2'"
      ]
     },
     "execution_count": 100,
     "metadata": {},
     "output_type": "execute_result"
    }
   ],
   "source": [
    "pd.__version__"
   ]
  },
  {
   "cell_type": "code",
   "execution_count": 130,
   "id": "04264045-766e-4104-b46c-69a2fd633f8d",
   "metadata": {},
   "outputs": [
    {
     "data": {
      "text/html": [
       "<div>\n",
       "<style scoped>\n",
       "    .dataframe tbody tr th:only-of-type {\n",
       "        vertical-align: middle;\n",
       "    }\n",
       "\n",
       "    .dataframe tbody tr th {\n",
       "        vertical-align: top;\n",
       "    }\n",
       "\n",
       "    .dataframe thead th {\n",
       "        text-align: right;\n",
       "    }\n",
       "</style>\n",
       "<table border=\"1\" class=\"dataframe\">\n",
       "  <thead>\n",
       "    <tr style=\"text-align: right;\">\n",
       "      <th></th>\n",
       "      <th>age_band_of_driver</th>\n",
       "      <th>vehicle_type</th>\n",
       "      <th>age_of_vehicle</th>\n",
       "      <th>weather_conditions</th>\n",
       "      <th>day_of_week</th>\n",
       "      <th>road_surface_conditions</th>\n",
       "      <th>light_conditions</th>\n",
       "      <th>sex_of_driver</th>\n",
       "      <th>season</th>\n",
       "      <th>speed_limit</th>\n",
       "      <th>accident_seriousness</th>\n",
       "    </tr>\n",
       "  </thead>\n",
       "  <tbody>\n",
       "    <tr>\n",
       "      <th>0</th>\n",
       "      <td>16-25</td>\n",
       "      <td>Car</td>\n",
       "      <td>7</td>\n",
       "      <td>Fine no high winds</td>\n",
       "      <td>Tuesday</td>\n",
       "      <td>Wet or damp</td>\n",
       "      <td>Darkness - no lighting</td>\n",
       "      <td>Male</td>\n",
       "      <td>Winter</td>\n",
       "      <td>60</td>\n",
       "      <td>Fatal</td>\n",
       "    </tr>\n",
       "    <tr>\n",
       "      <th>1</th>\n",
       "      <td>26-45</td>\n",
       "      <td>Motorcycle</td>\n",
       "      <td>7</td>\n",
       "      <td>Fine no high winds</td>\n",
       "      <td>Thursday</td>\n",
       "      <td>Dry</td>\n",
       "      <td>Daylight</td>\n",
       "      <td>Male</td>\n",
       "      <td>Autumn</td>\n",
       "      <td>40</td>\n",
       "      <td>Fatal</td>\n",
       "    </tr>\n",
       "    <tr>\n",
       "      <th>2</th>\n",
       "      <td>26-45</td>\n",
       "      <td>Motorcycle</td>\n",
       "      <td>7</td>\n",
       "      <td>Fine no high winds</td>\n",
       "      <td>Saturday</td>\n",
       "      <td>Dry</td>\n",
       "      <td>Darkness - no lighting</td>\n",
       "      <td>Male</td>\n",
       "      <td>Summer</td>\n",
       "      <td>70</td>\n",
       "      <td>Fatal</td>\n",
       "    </tr>\n",
       "    <tr>\n",
       "      <th>3</th>\n",
       "      <td>46-65</td>\n",
       "      <td>Other Vehicle</td>\n",
       "      <td>7</td>\n",
       "      <td>Snowing no high winds</td>\n",
       "      <td>Tuesday</td>\n",
       "      <td>Snow</td>\n",
       "      <td>Darkness - lights lit</td>\n",
       "      <td>Male</td>\n",
       "      <td>Rainy</td>\n",
       "      <td>50</td>\n",
       "      <td>Fatal</td>\n",
       "    </tr>\n",
       "    <tr>\n",
       "      <th>4</th>\n",
       "      <td>46-65</td>\n",
       "      <td>Other Vehicle</td>\n",
       "      <td>7</td>\n",
       "      <td>Snowing no high winds</td>\n",
       "      <td>Tuesday</td>\n",
       "      <td>Snow</td>\n",
       "      <td>Darkness - lights lit</td>\n",
       "      <td>Male</td>\n",
       "      <td>Autumn</td>\n",
       "      <td>50</td>\n",
       "      <td>Fatal</td>\n",
       "    </tr>\n",
       "  </tbody>\n",
       "</table>\n",
       "</div>"
      ],
      "text/plain": [
       "  age_band_of_driver   vehicle_type age_of_vehicle     weather_conditions  \\\n",
       "0              16-25            Car              7     Fine no high winds   \n",
       "1              26-45     Motorcycle              7     Fine no high winds   \n",
       "2              26-45     Motorcycle              7     Fine no high winds   \n",
       "3              46-65  Other Vehicle              7  Snowing no high winds   \n",
       "4              46-65  Other Vehicle              7  Snowing no high winds   \n",
       "\n",
       "  day_of_week road_surface_conditions        light_conditions sex_of_driver  \\\n",
       "0     Tuesday             Wet or damp  Darkness - no lighting          Male   \n",
       "1    Thursday                     Dry                Daylight          Male   \n",
       "2    Saturday                     Dry  Darkness - no lighting          Male   \n",
       "3     Tuesday                    Snow   Darkness - lights lit          Male   \n",
       "4     Tuesday                    Snow   Darkness - lights lit          Male   \n",
       "\n",
       "   season  speed_limit accident_seriousness  \n",
       "0  Winter           60                Fatal  \n",
       "1  Autumn           40                Fatal  \n",
       "2  Summer           70                Fatal  \n",
       "3   Rainy           50                Fatal  \n",
       "4  Autumn           50                Fatal  "
      ]
     },
     "execution_count": 130,
     "metadata": {},
     "output_type": "execute_result"
    }
   ],
   "source": [
    "df2=df[['age_band_of_driver','vehicle_type','age_of_vehicle','weather_conditions','day_of_week','road_surface_conditions', \n",
    "                'light_conditions','sex_of_driver','season','speed_limit','accident_seriousness']]\n",
    "df2.head()"
   ]
  },
  {
   "cell_type": "code",
   "execution_count": 131,
   "id": "58a00f3c-986d-4cc1-9bc7-940b6dc3a64e",
   "metadata": {},
   "outputs": [],
   "source": [
    "df2.to_csv(\"cleaned.csv\")"
   ]
  },
  {
   "cell_type": "code",
   "execution_count": 102,
   "id": "0241beee-2c53-4d44-a516-f81de9278c4b",
   "metadata": {},
   "outputs": [
    {
     "data": {
      "text/plain": [
       "Index(['age_band_of_driver', 'vehicle_type', 'age_of_vehicle',\n",
       "       'weather_conditions', 'day_of_week', 'road_surface_conditions',\n",
       "       'light_conditions', 'sex_of_driver', 'season', 'speed_limit',\n",
       "       'accident_seriousness'],\n",
       "      dtype='object')"
      ]
     },
     "execution_count": 102,
     "metadata": {},
     "output_type": "execute_result"
    }
   ],
   "source": [
    "\n",
    "df1.columns"
   ]
  },
  {
   "cell_type": "code",
   "execution_count": 103,
   "id": "fd7b86e6-f82f-445c-9c21-3232b84313f3",
   "metadata": {},
   "outputs": [
    {
     "name": "stdout",
     "output_type": "stream",
     "text": [
      "age_band_of_driver         0\n",
      "vehicle_type               0\n",
      "age_of_vehicle             0\n",
      "weather_conditions         0\n",
      "day_of_week                0\n",
      "road_surface_conditions    0\n",
      "light_conditions           0\n",
      "sex_of_driver              0\n",
      "season                     0\n",
      "speed_limit                0\n",
      "accident_seriousness       0\n",
      "dtype: int64\n"
     ]
    }
   ],
   "source": [
    "print(df1.isnull().sum())"
   ]
  },
  {
   "cell_type": "code",
   "execution_count": 104,
   "id": "516a3992-9c26-4f2c-a5d8-468a2631a31b",
   "metadata": {},
   "outputs": [],
   "source": [
    "df1.isnull()\n",
    "df1.isnull().sum()\n",
    "df1_copy = df1.copy()\n",
    "df1_copy.dropna(inplace=True)"
   ]
  },
  {
   "cell_type": "code",
   "execution_count": 105,
   "id": "4b4e8818-b12b-47b3-92b8-55b619067958",
   "metadata": {},
   "outputs": [
    {
     "data": {
      "text/plain": [
       "age_band_of_driver           object\n",
       "vehicle_type                 object\n",
       "age_of_vehicle             category\n",
       "weather_conditions           object\n",
       "day_of_week                  object\n",
       "road_surface_conditions      object\n",
       "light_conditions             object\n",
       "sex_of_driver                object\n",
       "season                       object\n",
       "speed_limit                   int64\n",
       "accident_seriousness         object\n",
       "dtype: object"
      ]
     },
     "execution_count": 105,
     "metadata": {},
     "output_type": "execute_result"
    }
   ],
   "source": [
    "df1.dtypes"
   ]
  },
  {
   "cell_type": "code",
   "execution_count": 106,
   "id": "bf3e25d5-1ea5-4903-9f90-20803b3e0b24",
   "metadata": {},
   "outputs": [
    {
     "name": "stderr",
     "output_type": "stream",
     "text": [
      "C:\\Users\\joelf\\AppData\\Local\\Temp\\ipykernel_1604\\3395258895.py:1: FutureWarning: Setting an item of incompatible dtype is deprecated and will raise in a future error of pandas. Value '[7 7 7 ... 1 1 1]' has dtype incompatible with category, please explicitly cast to a compatible dtype first.\n",
      "  df1.loc[:, 'age_of_vehicle'] = df1['age_of_vehicle'].astype('int64')\n"
     ]
    }
   ],
   "source": [
    "df1.loc[:, 'age_of_vehicle'] = df1['age_of_vehicle'].astype('int64')"
   ]
  },
  {
   "cell_type": "code",
   "execution_count": 107,
   "id": "fa500bb9-0013-4acb-b440-f9f33d619414",
   "metadata": {},
   "outputs": [
    {
     "data": {
      "text/plain": [
       "age_band_of_driver         object\n",
       "vehicle_type               object\n",
       "age_of_vehicle              int64\n",
       "weather_conditions         object\n",
       "day_of_week                object\n",
       "road_surface_conditions    object\n",
       "light_conditions           object\n",
       "sex_of_driver              object\n",
       "season                     object\n",
       "speed_limit                 int64\n",
       "accident_seriousness       object\n",
       "dtype: object"
      ]
     },
     "execution_count": 107,
     "metadata": {},
     "output_type": "execute_result"
    }
   ],
   "source": [
    "df1.dtypes"
   ]
  },
  {
   "cell_type": "code",
   "execution_count": 108,
   "id": "78341bd1-b995-4a80-a76c-06141b6d5a7a",
   "metadata": {},
   "outputs": [
    {
     "data": {
      "text/html": [
       "<div>\n",
       "<style scoped>\n",
       "    .dataframe tbody tr th:only-of-type {\n",
       "        vertical-align: middle;\n",
       "    }\n",
       "\n",
       "    .dataframe tbody tr th {\n",
       "        vertical-align: top;\n",
       "    }\n",
       "\n",
       "    .dataframe thead th {\n",
       "        text-align: right;\n",
       "    }\n",
       "</style>\n",
       "<table border=\"1\" class=\"dataframe\">\n",
       "  <thead>\n",
       "    <tr style=\"text-align: right;\">\n",
       "      <th></th>\n",
       "      <th>age_band_of_driver</th>\n",
       "      <th>vehicle_type</th>\n",
       "      <th>age_of_vehicle</th>\n",
       "      <th>weather_conditions</th>\n",
       "      <th>day_of_week</th>\n",
       "      <th>road_surface_conditions</th>\n",
       "      <th>light_conditions</th>\n",
       "      <th>sex_of_driver</th>\n",
       "      <th>season</th>\n",
       "      <th>speed_limit</th>\n",
       "      <th>accident_seriousness</th>\n",
       "    </tr>\n",
       "  </thead>\n",
       "  <tbody>\n",
       "    <tr>\n",
       "      <th>25996</th>\n",
       "      <td>16-25</td>\n",
       "      <td>Car</td>\n",
       "      <td>1</td>\n",
       "      <td>Fine no high winds</td>\n",
       "      <td>Friday</td>\n",
       "      <td>Dry</td>\n",
       "      <td>Daylight</td>\n",
       "      <td>Male</td>\n",
       "      <td>Rainy</td>\n",
       "      <td>30</td>\n",
       "      <td>Not Serious</td>\n",
       "    </tr>\n",
       "    <tr>\n",
       "      <th>25997</th>\n",
       "      <td>16-25</td>\n",
       "      <td>Car</td>\n",
       "      <td>1</td>\n",
       "      <td>Fine no high winds</td>\n",
       "      <td>Friday</td>\n",
       "      <td>Dry</td>\n",
       "      <td>Daylight</td>\n",
       "      <td>Male</td>\n",
       "      <td>Autumn</td>\n",
       "      <td>30</td>\n",
       "      <td>Not Serious</td>\n",
       "    </tr>\n",
       "    <tr>\n",
       "      <th>25998</th>\n",
       "      <td>16-25</td>\n",
       "      <td>Car</td>\n",
       "      <td>1</td>\n",
       "      <td>Fine no high winds</td>\n",
       "      <td>Tuesday</td>\n",
       "      <td>Dry</td>\n",
       "      <td>Daylight</td>\n",
       "      <td>Male</td>\n",
       "      <td>Rainy</td>\n",
       "      <td>30</td>\n",
       "      <td>Not Serious</td>\n",
       "    </tr>\n",
       "    <tr>\n",
       "      <th>25999</th>\n",
       "      <td>16-25</td>\n",
       "      <td>Goods Vehicle</td>\n",
       "      <td>1</td>\n",
       "      <td>Fine no high winds</td>\n",
       "      <td>Monday</td>\n",
       "      <td>Dry</td>\n",
       "      <td>Daylight</td>\n",
       "      <td>Male</td>\n",
       "      <td>Winter</td>\n",
       "      <td>40</td>\n",
       "      <td>Not Serious</td>\n",
       "    </tr>\n",
       "    <tr>\n",
       "      <th>26000</th>\n",
       "      <td>16-25</td>\n",
       "      <td>Goods Vehicle</td>\n",
       "      <td>1</td>\n",
       "      <td>Fine no high winds</td>\n",
       "      <td>Thursday</td>\n",
       "      <td>Dry</td>\n",
       "      <td>Daylight</td>\n",
       "      <td>Male</td>\n",
       "      <td>Summer</td>\n",
       "      <td>40</td>\n",
       "      <td>Not Serious</td>\n",
       "    </tr>\n",
       "  </tbody>\n",
       "</table>\n",
       "</div>"
      ],
      "text/plain": [
       "      age_band_of_driver   vehicle_type  age_of_vehicle  weather_conditions  \\\n",
       "25996              16-25            Car               1  Fine no high winds   \n",
       "25997              16-25            Car               1  Fine no high winds   \n",
       "25998              16-25            Car               1  Fine no high winds   \n",
       "25999              16-25  Goods Vehicle               1  Fine no high winds   \n",
       "26000              16-25  Goods Vehicle               1  Fine no high winds   \n",
       "\n",
       "      day_of_week road_surface_conditions light_conditions sex_of_driver  \\\n",
       "25996      Friday                     Dry         Daylight          Male   \n",
       "25997      Friday                     Dry         Daylight          Male   \n",
       "25998     Tuesday                     Dry         Daylight          Male   \n",
       "25999      Monday                     Dry         Daylight          Male   \n",
       "26000    Thursday                     Dry         Daylight          Male   \n",
       "\n",
       "       season  speed_limit accident_seriousness  \n",
       "25996   Rainy           30          Not Serious  \n",
       "25997  Autumn           30          Not Serious  \n",
       "25998   Rainy           30          Not Serious  \n",
       "25999  Winter           40          Not Serious  \n",
       "26000  Summer           40          Not Serious  "
      ]
     },
     "execution_count": 108,
     "metadata": {},
     "output_type": "execute_result"
    }
   ],
   "source": [
    "df1.tail()"
   ]
  },
  {
   "cell_type": "code",
   "execution_count": 109,
   "id": "8109066a-db0a-497f-9e67-40feb740ceb9",
   "metadata": {},
   "outputs": [
    {
     "data": {
      "text/plain": [
       "(25992, 11)"
      ]
     },
     "execution_count": 109,
     "metadata": {},
     "output_type": "execute_result"
    }
   ],
   "source": [
    "df1.shape"
   ]
  },
  {
   "cell_type": "code",
   "execution_count": 129,
   "id": "5a38cede-2ab8-443d-8a68-871502be98dc",
   "metadata": {},
   "outputs": [
    {
     "data": {
      "text/plain": [
       "0        1\n",
       "1        3\n",
       "2        3\n",
       "3        4\n",
       "4        4\n",
       "        ..\n",
       "25996    1\n",
       "25997    1\n",
       "25998    1\n",
       "25999    2\n",
       "26000    2\n",
       "Name: vehicle_type, Length: 25992, dtype: object"
      ]
     },
     "execution_count": 129,
     "metadata": {},
     "output_type": "execute_result"
    }
   ],
   "source": [
    "df1['vehicle_type']"
   ]
  },
  {
   "cell_type": "code",
   "execution_count": 110,
   "id": "310360b0-617b-42d2-8eb3-13116eb49b33",
   "metadata": {},
   "outputs": [],
   "source": [
    "from sklearn.preprocessing import LabelEncoder"
   ]
  },
  {
   "cell_type": "code",
   "execution_count": 111,
   "id": "b83fe5ff-fd5e-4e80-9505-26b38cc0e33d",
   "metadata": {},
   "outputs": [],
   "source": [
    "categorical_cols = ['age_band_of_driver','vehicle_type','weather_conditions','day_of_week','road_surface_conditions', \n",
    "                'light_conditions','sex_of_driver','season','accident_seriousness']"
   ]
  },
  {
   "cell_type": "code",
   "execution_count": 112,
   "id": "11650408-8091-4aa9-b9e3-ed85e2120909",
   "metadata": {},
   "outputs": [],
   "source": [
    "le = LabelEncoder()"
   ]
  },
  {
   "cell_type": "code",
   "execution_count": 113,
   "id": "60283b2d-27a9-4d21-80e6-4d9b33d5d15d",
   "metadata": {},
   "outputs": [
    {
     "name": "stdout",
     "output_type": "stream",
     "text": [
      "age_band_of_driver \n",
      "\n",
      "Original values: ['16-25' '26-45' '46-65' 'Over 65']\n",
      "Encoded values: [0 1 2 3]\n",
      "vehicle_type \n",
      "\n",
      "Original values: ['Bus' 'Car' 'Goods Vehicle' 'Motorcycle' 'Other Vehicle']\n",
      "Encoded values: [0 1 2 3 4]\n",
      "weather_conditions \n",
      "\n",
      "Original values: ['Fine + high winds' 'Fine no high winds' 'Fog or mist' 'Mud'\n",
      " 'Raining + high winds' 'Raining no high winds' 'Snowing + high winds'\n",
      " 'Snowing no high winds']\n",
      "Encoded values: [0 1 2 3 4 5 6 7]\n",
      "day_of_week \n",
      "\n",
      "Original values: ['Friday' 'Monday' 'Saturday' 'Sunday' 'Thursday' 'Tuesday' 'Wednesday']\n",
      "Encoded values: [0 1 2 3 4 5 6]\n",
      "road_surface_conditions \n",
      "\n",
      "Original values: ['Data missing or out of range' 'Dry' 'Flood over 3cm. deep'\n",
      " 'Frost or ice' 'Snow' 'Wet or damp']\n",
      "Encoded values: [0 1 2 3 4 5]\n",
      "light_conditions \n",
      "\n",
      "Original values: ['Darkness - lights lit' 'Darkness - lights unlit'\n",
      " 'Darkness - no lighting' 'Daylight']\n",
      "Encoded values: [0 1 2 3]\n",
      "sex_of_driver \n",
      "\n",
      "Original values: ['Female' 'Male' 'Not known']\n",
      "Encoded values: [0 1 2]\n",
      "season \n",
      "\n",
      "Original values: ['Autumn' 'Rainy' 'Summer' 'Winter']\n",
      "Encoded values: [0 1 2 3]\n",
      "accident_seriousness \n",
      "\n",
      "Original values: ['Fatal' 'Not Serious' 'Serious']\n",
      "Encoded values: [0 1 2]\n"
     ]
    }
   ],
   "source": [
    "for col in categorical_cols:\n",
    "    df1.loc[:, col] = le.fit_transform(df1.loc[:, col])\n",
    "    print(col,\"\\n\")\n",
    "    print('Original values:', le.classes_)\n",
    "    print('Encoded values:', le.transform(le.classes_))"
   ]
  },
  {
   "cell_type": "code",
   "execution_count": 114,
   "id": "a9fe9671-96be-49e7-b6a2-f47745ea42d0",
   "metadata": {},
   "outputs": [
    {
     "name": "stdout",
     "output_type": "stream",
     "text": [
      "  age_band_of_driver vehicle_type  age_of_vehicle weather_conditions  \\\n",
      "0                  0            1               7                  1   \n",
      "1                  1            3               7                  1   \n",
      "2                  1            3               7                  1   \n",
      "3                  2            4               7                  7   \n",
      "4                  2            4               7                  7   \n",
      "\n",
      "  day_of_week road_surface_conditions light_conditions sex_of_driver season  \\\n",
      "0           5                       5                2             1      3   \n",
      "1           4                       1                3             1      0   \n",
      "2           2                       1                2             1      2   \n",
      "3           5                       4                0             1      1   \n",
      "4           5                       4                0             1      0   \n",
      "\n",
      "   speed_limit accident_seriousness  \n",
      "0           60                    0  \n",
      "1           40                    0  \n",
      "2           70                    0  \n",
      "3           50                    0  \n",
      "4           50                    0  \n"
     ]
    }
   ],
   "source": [
    "print(df1.head())"
   ]
  },
  {
   "cell_type": "code",
   "execution_count": 115,
   "id": "5187ba12-3c42-4435-a4b9-33d1866f61a4",
   "metadata": {},
   "outputs": [
    {
     "name": "stdout",
     "output_type": "stream",
     "text": [
      "Encoded values: [3 0 2 ... 1 3 2]\n",
      "Unique values: ['Winter' 'Autumn' 'Summer' 'Rainy']\n"
     ]
    }
   ],
   "source": [
    "encoded_col = le.fit_transform(df1['season'])\n",
    "print('Encoded values:', encoded_col)\n",
    "print('Unique values:', df['season'].unique())"
   ]
  },
  {
   "cell_type": "code",
   "execution_count": 116,
   "id": "9a5e8a16-ee98-4b0b-9a8b-a9f84240d112",
   "metadata": {},
   "outputs": [],
   "source": [
    "X = df1.drop('accident_seriousness', axis=1)\n",
    "y = df1['accident_seriousness']"
   ]
  },
  {
   "cell_type": "code",
   "execution_count": 117,
   "id": "3ff47e9e-4328-4370-8398-2d6abedd8977",
   "metadata": {},
   "outputs": [],
   "source": [
    "X_train, X_test, y_train, y_test = train_test_split(X, y, test_size=0.2, random_state=42)"
   ]
  },
  {
   "cell_type": "code",
   "execution_count": 118,
   "id": "5078a5e9-9dac-403a-b9bb-715db994f0d2",
   "metadata": {},
   "outputs": [
    {
     "name": "stdout",
     "output_type": "stream",
     "text": [
      "X_train shape: (20793, 10)\n",
      "X_test shape: (5199, 10)\n",
      "y_train shape: (20793,)\n",
      "y_test shape: (5199,)\n"
     ]
    }
   ],
   "source": [
    "print('X_train shape:', X_train.shape)\n",
    "print('X_test shape:', X_test.shape)\n",
    "print('y_train shape:', y_train.shape)\n",
    "print('y_test shape:', y_test.shape)"
   ]
  },
  {
   "cell_type": "code",
   "execution_count": 119,
   "id": "5c8580ef-24ae-44e9-b143-3e663a2afe2f",
   "metadata": {},
   "outputs": [],
   "source": [
    "def cm_plot(var):\n",
    "    plt.figure(figsize=(15,5))\n",
    "    plt.style.use('dark_background')\n",
    "    plt.clf()\n",
    "    plt.imshow(var, interpolation='nearest', cmap='tab20')\n",
    "    classNames = ['Not Serious','Serious', 'Fatal']\n",
    "    plt.title('Confusion Matrix')\n",
    "    plt.ylabel('Actual\\n')\n",
    "    plt.xlabel('Predicted\\n')\n",
    "    tick_marks = np.arange(len(classNames))\n",
    "    plt.xticks(tick_marks, classNames)\n",
    "    plt.yticks(tick_marks, classNames)\n",
    "    s = [['TN','FP', 'FN'], ['FP', 'TP', 'FN'], ['FP', 'FN', 'TP']]\n",
    "    \n",
    "    for i in range(3):\n",
    "        for j in range(3):\n",
    "            plt.text(j,i, str(s[i][j])+\"=\"+str(var[i][j]),horizontalalignment='center', \n",
    "                     color='black')\n",
    "    plt.show()"
   ]
  },
  {
   "cell_type": "code",
   "execution_count": 120,
   "id": "2124503c-c602-4878-9192-a75d26707654",
   "metadata": {},
   "outputs": [
    {
     "ename": "ValueError",
     "evalue": "\nAll the 12800 fits failed.\nIt is very likely that your model is misconfigured.\nYou can try to debug the error by setting error_score='raise'.\n\nBelow are more details about the failures:\n--------------------------------------------------------------------------------\n1602 fits failed with the following error:\nTraceback (most recent call last):\n  File \"C:\\Users\\joelf\\anaconda4\\Lib\\site-packages\\sklearn\\model_selection\\_validation.py\", line 888, in _fit_and_score\n    estimator.fit(X_train, y_train, **fit_params)\n  File \"C:\\Users\\joelf\\anaconda4\\Lib\\site-packages\\sklearn\\base.py\", line 1466, in wrapper\n    estimator._validate_params()\n  File \"C:\\Users\\joelf\\anaconda4\\Lib\\site-packages\\sklearn\\base.py\", line 666, in _validate_params\n    validate_parameter_constraints(\n  File \"C:\\Users\\joelf\\anaconda4\\Lib\\site-packages\\sklearn\\utils\\_param_validation.py\", line 95, in validate_parameter_constraints\n    raise InvalidParameterError(\nsklearn.utils._param_validation.InvalidParameterError: The 'max_features' parameter of RandomForestClassifier must be an int in the range [1, inf), a float in the range (0.0, 1.0], a str among {'log2', 'sqrt'} or None. Got 'auto' instead.\n\n--------------------------------------------------------------------------------\n1598 fits failed with the following error:\nTraceback (most recent call last):\n  File \"C:\\Users\\joelf\\anaconda4\\Lib\\site-packages\\sklearn\\model_selection\\_validation.py\", line 888, in _fit_and_score\n    estimator.fit(X_train, y_train, **fit_params)\n  File \"C:\\Users\\joelf\\anaconda4\\Lib\\site-packages\\sklearn\\base.py\", line 1466, in wrapper\n    estimator._validate_params()\n  File \"C:\\Users\\joelf\\anaconda4\\Lib\\site-packages\\sklearn\\base.py\", line 666, in _validate_params\n    validate_parameter_constraints(\n  File \"C:\\Users\\joelf\\anaconda4\\Lib\\site-packages\\sklearn\\utils\\_param_validation.py\", line 95, in validate_parameter_constraints\n    raise InvalidParameterError(\nsklearn.utils._param_validation.InvalidParameterError: The 'max_features' parameter of RandomForestClassifier must be an int in the range [1, inf), a float in the range (0.0, 1.0], a str among {'sqrt', 'log2'} or None. Got 'auto' instead.\n\n--------------------------------------------------------------------------------\n9600 fits failed with the following error:\nTraceback (most recent call last):\n  File \"C:\\Users\\joelf\\anaconda4\\Lib\\site-packages\\sklearn\\model_selection\\_validation.py\", line 888, in _fit_and_score\n    estimator.fit(X_train, y_train, **fit_params)\n  File \"C:\\Users\\joelf\\anaconda4\\Lib\\site-packages\\sklearn\\base.py\", line 1473, in wrapper\n    return fit_method(estimator, *args, **kwargs)\n           ^^^^^^^^^^^^^^^^^^^^^^^^^^^^^^^^^^^^^^\n  File \"C:\\Users\\joelf\\anaconda4\\Lib\\site-packages\\sklearn\\ensemble\\_forest.py\", line 421, in fit\n    y, expanded_class_weight = self._validate_y_class_weight(y)\n                               ^^^^^^^^^^^^^^^^^^^^^^^^^^^^^^^^\n  File \"C:\\Users\\joelf\\anaconda4\\Lib\\site-packages\\sklearn\\ensemble\\_forest.py\", line 831, in _validate_y_class_weight\n    check_classification_targets(y)\n  File \"C:\\Users\\joelf\\anaconda4\\Lib\\site-packages\\sklearn\\utils\\multiclass.py\", line 219, in check_classification_targets\n    raise ValueError(\nValueError: Unknown label type: unknown. Maybe you are trying to fit a classifier, which expects discrete classes on a regression target with continuous values.\n",
     "output_type": "error",
     "traceback": [
      "\u001b[1;31m---------------------------------------------------------------------------\u001b[0m",
      "\u001b[1;31mValueError\u001b[0m                                Traceback (most recent call last)",
      "Cell \u001b[1;32mIn[120], line 20\u001b[0m\n\u001b[0;32m     17\u001b[0m grid_search \u001b[38;5;241m=\u001b[39m GridSearchCV(rf, param_grid, cv\u001b[38;5;241m=\u001b[39m\u001b[38;5;241m5\u001b[39m, n_jobs\u001b[38;5;241m=\u001b[39m\u001b[38;5;241m-\u001b[39m\u001b[38;5;241m1\u001b[39m)\n\u001b[0;32m     19\u001b[0m \u001b[38;5;66;03m# Fit the grid search object to the training data\u001b[39;00m\n\u001b[1;32m---> 20\u001b[0m grid_search\u001b[38;5;241m.\u001b[39mfit(X_train, y_train)\n\u001b[0;32m     22\u001b[0m \u001b[38;5;66;03m# Get the best model from the grid search\u001b[39;00m\n\u001b[0;32m     23\u001b[0m best_model \u001b[38;5;241m=\u001b[39m grid_search\u001b[38;5;241m.\u001b[39mbest_estimator_\n",
      "File \u001b[1;32m~\\anaconda4\\Lib\\site-packages\\sklearn\\base.py:1473\u001b[0m, in \u001b[0;36m_fit_context.<locals>.decorator.<locals>.wrapper\u001b[1;34m(estimator, *args, **kwargs)\u001b[0m\n\u001b[0;32m   1466\u001b[0m     estimator\u001b[38;5;241m.\u001b[39m_validate_params()\n\u001b[0;32m   1468\u001b[0m \u001b[38;5;28;01mwith\u001b[39;00m config_context(\n\u001b[0;32m   1469\u001b[0m     skip_parameter_validation\u001b[38;5;241m=\u001b[39m(\n\u001b[0;32m   1470\u001b[0m         prefer_skip_nested_validation \u001b[38;5;129;01mor\u001b[39;00m global_skip_validation\n\u001b[0;32m   1471\u001b[0m     )\n\u001b[0;32m   1472\u001b[0m ):\n\u001b[1;32m-> 1473\u001b[0m     \u001b[38;5;28;01mreturn\u001b[39;00m fit_method(estimator, \u001b[38;5;241m*\u001b[39margs, \u001b[38;5;241m*\u001b[39m\u001b[38;5;241m*\u001b[39mkwargs)\n",
      "File \u001b[1;32m~\\anaconda4\\Lib\\site-packages\\sklearn\\model_selection\\_search.py:1018\u001b[0m, in \u001b[0;36mBaseSearchCV.fit\u001b[1;34m(self, X, y, **params)\u001b[0m\n\u001b[0;32m   1012\u001b[0m     results \u001b[38;5;241m=\u001b[39m \u001b[38;5;28mself\u001b[39m\u001b[38;5;241m.\u001b[39m_format_results(\n\u001b[0;32m   1013\u001b[0m         all_candidate_params, n_splits, all_out, all_more_results\n\u001b[0;32m   1014\u001b[0m     )\n\u001b[0;32m   1016\u001b[0m     \u001b[38;5;28;01mreturn\u001b[39;00m results\n\u001b[1;32m-> 1018\u001b[0m \u001b[38;5;28mself\u001b[39m\u001b[38;5;241m.\u001b[39m_run_search(evaluate_candidates)\n\u001b[0;32m   1020\u001b[0m \u001b[38;5;66;03m# multimetric is determined here because in the case of a callable\u001b[39;00m\n\u001b[0;32m   1021\u001b[0m \u001b[38;5;66;03m# self.scoring the return type is only known after calling\u001b[39;00m\n\u001b[0;32m   1022\u001b[0m first_test_score \u001b[38;5;241m=\u001b[39m all_out[\u001b[38;5;241m0\u001b[39m][\u001b[38;5;124m\"\u001b[39m\u001b[38;5;124mtest_scores\u001b[39m\u001b[38;5;124m\"\u001b[39m]\n",
      "File \u001b[1;32m~\\anaconda4\\Lib\\site-packages\\sklearn\\model_selection\\_search.py:1572\u001b[0m, in \u001b[0;36mGridSearchCV._run_search\u001b[1;34m(self, evaluate_candidates)\u001b[0m\n\u001b[0;32m   1570\u001b[0m \u001b[38;5;28;01mdef\u001b[39;00m \u001b[38;5;21m_run_search\u001b[39m(\u001b[38;5;28mself\u001b[39m, evaluate_candidates):\n\u001b[0;32m   1571\u001b[0m \u001b[38;5;250m    \u001b[39m\u001b[38;5;124;03m\"\"\"Search all candidates in param_grid\"\"\"\u001b[39;00m\n\u001b[1;32m-> 1572\u001b[0m     evaluate_candidates(ParameterGrid(\u001b[38;5;28mself\u001b[39m\u001b[38;5;241m.\u001b[39mparam_grid))\n",
      "File \u001b[1;32m~\\anaconda4\\Lib\\site-packages\\sklearn\\model_selection\\_search.py:995\u001b[0m, in \u001b[0;36mBaseSearchCV.fit.<locals>.evaluate_candidates\u001b[1;34m(candidate_params, cv, more_results)\u001b[0m\n\u001b[0;32m    988\u001b[0m \u001b[38;5;28;01melif\u001b[39;00m \u001b[38;5;28mlen\u001b[39m(out) \u001b[38;5;241m!=\u001b[39m n_candidates \u001b[38;5;241m*\u001b[39m n_splits:\n\u001b[0;32m    989\u001b[0m     \u001b[38;5;28;01mraise\u001b[39;00m \u001b[38;5;167;01mValueError\u001b[39;00m(\n\u001b[0;32m    990\u001b[0m         \u001b[38;5;124m\"\u001b[39m\u001b[38;5;124mcv.split and cv.get_n_splits returned \u001b[39m\u001b[38;5;124m\"\u001b[39m\n\u001b[0;32m    991\u001b[0m         \u001b[38;5;124m\"\u001b[39m\u001b[38;5;124minconsistent results. Expected \u001b[39m\u001b[38;5;132;01m{}\u001b[39;00m\u001b[38;5;124m \u001b[39m\u001b[38;5;124m\"\u001b[39m\n\u001b[0;32m    992\u001b[0m         \u001b[38;5;124m\"\u001b[39m\u001b[38;5;124msplits, got \u001b[39m\u001b[38;5;132;01m{}\u001b[39;00m\u001b[38;5;124m\"\u001b[39m\u001b[38;5;241m.\u001b[39mformat(n_splits, \u001b[38;5;28mlen\u001b[39m(out) \u001b[38;5;241m/\u001b[39m\u001b[38;5;241m/\u001b[39m n_candidates)\n\u001b[0;32m    993\u001b[0m     )\n\u001b[1;32m--> 995\u001b[0m _warn_or_raise_about_fit_failures(out, \u001b[38;5;28mself\u001b[39m\u001b[38;5;241m.\u001b[39merror_score)\n\u001b[0;32m    997\u001b[0m \u001b[38;5;66;03m# For callable self.scoring, the return type is only know after\u001b[39;00m\n\u001b[0;32m    998\u001b[0m \u001b[38;5;66;03m# calling. If the return type is a dictionary, the error scores\u001b[39;00m\n\u001b[0;32m    999\u001b[0m \u001b[38;5;66;03m# can now be inserted with the correct key. The type checking\u001b[39;00m\n\u001b[0;32m   1000\u001b[0m \u001b[38;5;66;03m# of out will be done in `_insert_error_scores`.\u001b[39;00m\n\u001b[0;32m   1001\u001b[0m \u001b[38;5;28;01mif\u001b[39;00m \u001b[38;5;28mcallable\u001b[39m(\u001b[38;5;28mself\u001b[39m\u001b[38;5;241m.\u001b[39mscoring):\n",
      "File \u001b[1;32m~\\anaconda4\\Lib\\site-packages\\sklearn\\model_selection\\_validation.py:529\u001b[0m, in \u001b[0;36m_warn_or_raise_about_fit_failures\u001b[1;34m(results, error_score)\u001b[0m\n\u001b[0;32m    522\u001b[0m \u001b[38;5;28;01mif\u001b[39;00m num_failed_fits \u001b[38;5;241m==\u001b[39m num_fits:\n\u001b[0;32m    523\u001b[0m     all_fits_failed_message \u001b[38;5;241m=\u001b[39m (\n\u001b[0;32m    524\u001b[0m         \u001b[38;5;124mf\u001b[39m\u001b[38;5;124m\"\u001b[39m\u001b[38;5;130;01m\\n\u001b[39;00m\u001b[38;5;124mAll the \u001b[39m\u001b[38;5;132;01m{\u001b[39;00mnum_fits\u001b[38;5;132;01m}\u001b[39;00m\u001b[38;5;124m fits failed.\u001b[39m\u001b[38;5;130;01m\\n\u001b[39;00m\u001b[38;5;124m\"\u001b[39m\n\u001b[0;32m    525\u001b[0m         \u001b[38;5;124m\"\u001b[39m\u001b[38;5;124mIt is very likely that your model is misconfigured.\u001b[39m\u001b[38;5;130;01m\\n\u001b[39;00m\u001b[38;5;124m\"\u001b[39m\n\u001b[0;32m    526\u001b[0m         \u001b[38;5;124m\"\u001b[39m\u001b[38;5;124mYou can try to debug the error by setting error_score=\u001b[39m\u001b[38;5;124m'\u001b[39m\u001b[38;5;124mraise\u001b[39m\u001b[38;5;124m'\u001b[39m\u001b[38;5;124m.\u001b[39m\u001b[38;5;130;01m\\n\u001b[39;00m\u001b[38;5;130;01m\\n\u001b[39;00m\u001b[38;5;124m\"\u001b[39m\n\u001b[0;32m    527\u001b[0m         \u001b[38;5;124mf\u001b[39m\u001b[38;5;124m\"\u001b[39m\u001b[38;5;124mBelow are more details about the failures:\u001b[39m\u001b[38;5;130;01m\\n\u001b[39;00m\u001b[38;5;132;01m{\u001b[39;00mfit_errors_summary\u001b[38;5;132;01m}\u001b[39;00m\u001b[38;5;124m\"\u001b[39m\n\u001b[0;32m    528\u001b[0m     )\n\u001b[1;32m--> 529\u001b[0m     \u001b[38;5;28;01mraise\u001b[39;00m \u001b[38;5;167;01mValueError\u001b[39;00m(all_fits_failed_message)\n\u001b[0;32m    531\u001b[0m \u001b[38;5;28;01melse\u001b[39;00m:\n\u001b[0;32m    532\u001b[0m     some_fits_failed_message \u001b[38;5;241m=\u001b[39m (\n\u001b[0;32m    533\u001b[0m         \u001b[38;5;124mf\u001b[39m\u001b[38;5;124m\"\u001b[39m\u001b[38;5;130;01m\\n\u001b[39;00m\u001b[38;5;132;01m{\u001b[39;00mnum_failed_fits\u001b[38;5;132;01m}\u001b[39;00m\u001b[38;5;124m fits failed out of a total of \u001b[39m\u001b[38;5;132;01m{\u001b[39;00mnum_fits\u001b[38;5;132;01m}\u001b[39;00m\u001b[38;5;124m.\u001b[39m\u001b[38;5;130;01m\\n\u001b[39;00m\u001b[38;5;124m\"\u001b[39m\n\u001b[0;32m    534\u001b[0m         \u001b[38;5;124m\"\u001b[39m\u001b[38;5;124mThe score on these train-test partitions for these parameters\u001b[39m\u001b[38;5;124m\"\u001b[39m\n\u001b[1;32m   (...)\u001b[0m\n\u001b[0;32m    538\u001b[0m         \u001b[38;5;124mf\u001b[39m\u001b[38;5;124m\"\u001b[39m\u001b[38;5;124mBelow are more details about the failures:\u001b[39m\u001b[38;5;130;01m\\n\u001b[39;00m\u001b[38;5;132;01m{\u001b[39;00mfit_errors_summary\u001b[38;5;132;01m}\u001b[39;00m\u001b[38;5;124m\"\u001b[39m\n\u001b[0;32m    539\u001b[0m     )\n",
      "\u001b[1;31mValueError\u001b[0m: \nAll the 12800 fits failed.\nIt is very likely that your model is misconfigured.\nYou can try to debug the error by setting error_score='raise'.\n\nBelow are more details about the failures:\n--------------------------------------------------------------------------------\n1602 fits failed with the following error:\nTraceback (most recent call last):\n  File \"C:\\Users\\joelf\\anaconda4\\Lib\\site-packages\\sklearn\\model_selection\\_validation.py\", line 888, in _fit_and_score\n    estimator.fit(X_train, y_train, **fit_params)\n  File \"C:\\Users\\joelf\\anaconda4\\Lib\\site-packages\\sklearn\\base.py\", line 1466, in wrapper\n    estimator._validate_params()\n  File \"C:\\Users\\joelf\\anaconda4\\Lib\\site-packages\\sklearn\\base.py\", line 666, in _validate_params\n    validate_parameter_constraints(\n  File \"C:\\Users\\joelf\\anaconda4\\Lib\\site-packages\\sklearn\\utils\\_param_validation.py\", line 95, in validate_parameter_constraints\n    raise InvalidParameterError(\nsklearn.utils._param_validation.InvalidParameterError: The 'max_features' parameter of RandomForestClassifier must be an int in the range [1, inf), a float in the range (0.0, 1.0], a str among {'log2', 'sqrt'} or None. Got 'auto' instead.\n\n--------------------------------------------------------------------------------\n1598 fits failed with the following error:\nTraceback (most recent call last):\n  File \"C:\\Users\\joelf\\anaconda4\\Lib\\site-packages\\sklearn\\model_selection\\_validation.py\", line 888, in _fit_and_score\n    estimator.fit(X_train, y_train, **fit_params)\n  File \"C:\\Users\\joelf\\anaconda4\\Lib\\site-packages\\sklearn\\base.py\", line 1466, in wrapper\n    estimator._validate_params()\n  File \"C:\\Users\\joelf\\anaconda4\\Lib\\site-packages\\sklearn\\base.py\", line 666, in _validate_params\n    validate_parameter_constraints(\n  File \"C:\\Users\\joelf\\anaconda4\\Lib\\site-packages\\sklearn\\utils\\_param_validation.py\", line 95, in validate_parameter_constraints\n    raise InvalidParameterError(\nsklearn.utils._param_validation.InvalidParameterError: The 'max_features' parameter of RandomForestClassifier must be an int in the range [1, inf), a float in the range (0.0, 1.0], a str among {'sqrt', 'log2'} or None. Got 'auto' instead.\n\n--------------------------------------------------------------------------------\n9600 fits failed with the following error:\nTraceback (most recent call last):\n  File \"C:\\Users\\joelf\\anaconda4\\Lib\\site-packages\\sklearn\\model_selection\\_validation.py\", line 888, in _fit_and_score\n    estimator.fit(X_train, y_train, **fit_params)\n  File \"C:\\Users\\joelf\\anaconda4\\Lib\\site-packages\\sklearn\\base.py\", line 1473, in wrapper\n    return fit_method(estimator, *args, **kwargs)\n           ^^^^^^^^^^^^^^^^^^^^^^^^^^^^^^^^^^^^^^\n  File \"C:\\Users\\joelf\\anaconda4\\Lib\\site-packages\\sklearn\\ensemble\\_forest.py\", line 421, in fit\n    y, expanded_class_weight = self._validate_y_class_weight(y)\n                               ^^^^^^^^^^^^^^^^^^^^^^^^^^^^^^^^\n  File \"C:\\Users\\joelf\\anaconda4\\Lib\\site-packages\\sklearn\\ensemble\\_forest.py\", line 831, in _validate_y_class_weight\n    check_classification_targets(y)\n  File \"C:\\Users\\joelf\\anaconda4\\Lib\\site-packages\\sklearn\\utils\\multiclass.py\", line 219, in check_classification_targets\n    raise ValueError(\nValueError: Unknown label type: unknown. Maybe you are trying to fit a classifier, which expects discrete classes on a regression target with continuous values.\n"
     ]
    }
   ],
   "source": [
    "\n",
    "from sklearn.model_selection import GridSearchCV\n",
    "\n",
    "# Define the parameter grid to search over\n",
    "param_grid = {\n",
    "    'n_estimators': [100, 500, 1000,2000],\n",
    "    'max_features': ['auto', 'sqrt', 'log2', None],\n",
    "    'max_depth': [10, 20, 30, 40, None],\n",
    "    'min_samples_split': [2, 5, 10, 15],\n",
    "    'min_samples_leaf': [1, 2, 4, 8],\n",
    "    'bootstrap': [True, False]\n",
    "}\n",
    "\n",
    "# Create a random forest classifier object\n",
    "rf = RandomForestClassifier(random_state=50)\n",
    "\n",
    "# Create a grid search object\n",
    "grid_search = GridSearchCV(rf, param_grid, cv=5, n_jobs=-1)\n",
    "\n",
    "# Fit the grid search object to the training data\n",
    "grid_search.fit(X_train, y_train)\n",
    "\n",
    "# Get the best model from the grid search\n",
    "best_model = grid_search.best_estimator_\n",
    "\n",
    "# Save the best model to a file\n",
    "filename = 'random_forest_model.pkl'\n",
    "with open(filename, 'wb') as file:\n",
    "    pickle.dump(best_model, file)\n",
    "\n",
    "# Use the best model to make predictions on the test set\n",
    "y_pred = best_model.predict(X_test)\n",
    "\n",
    "# Evaluate the model performance\n",
    "acc1=accuracy_score(y_test, y_pred)\n",
    "print('Accuracy:', acc1)\n",
    "print('Confusion Matrix:\\n', confusion_matrix(y_test, y_pred))\n",
    "print('Classification Report:\\n', classification_report(y_test, y_pred))\n",
    "\n",
    "print(type(rf).__name__, \"accuracy:\", acc1, \"with best hyperparameters:\", grid_search.best_params_)\n",
    "cm = confusion_matrix(y_test, y_pred)\n",
    "    #cm = confusion_matrix(y_test-1, y_pred-1, labels=[0,1,2])\n",
    "   \n",
    "\n",
    "# cm = confusion_matrix(y_test, y_pred)\n",
    "#     #cm = confusion_matrix(y_test-1, y_pred-1, labels=[0,1,2])\n",
    "     \n",
    "cm_plot(cm)\n",
    "    \n",
    "tn, fp, fn = cm[0, 0], cm[0, 1], cm[0, 2]\n",
    "tp, fn, fp = cm[1, 1], cm[1, 0], cm[1, 2]\n",
    "tn, fp, fn = cm[2, 0], cm[2, 1], cm[2, 2]\n",
    "\n",
    "fpr = [fp / (fp + tn), fp / (fp + tn), fp / (fp + tn)]\n",
    "ers = 1 - acc1"
   ]
  },
  {
   "cell_type": "code",
   "execution_count": 121,
   "id": "18ad8449-b780-4402-a30a-4257b24dd9a5",
   "metadata": {},
   "outputs": [
    {
     "ename": "ValueError",
     "evalue": "\nAll the 1215 fits failed.\nIt is very likely that your model is misconfigured.\nYou can try to debug the error by setting error_score='raise'.\n\nBelow are more details about the failures:\n--------------------------------------------------------------------------------\n1215 fits failed with the following error:\nTraceback (most recent call last):\n  File \"C:\\Users\\joelf\\anaconda4\\Lib\\site-packages\\sklearn\\model_selection\\_validation.py\", line 888, in _fit_and_score\n    estimator.fit(X_train, y_train, **fit_params)\n  File \"C:\\Users\\joelf\\anaconda4\\Lib\\site-packages\\xgboost\\core.py\", line 726, in inner_f\n    return func(**kwargs)\n           ^^^^^^^^^^^^^^\n  File \"C:\\Users\\joelf\\anaconda4\\Lib\\site-packages\\xgboost\\sklearn.py\", line 1512, in fit\n    train_dmatrix, evals = _wrap_evaluation_matrices(\n                           ^^^^^^^^^^^^^^^^^^^^^^^^^^\n  File \"C:\\Users\\joelf\\anaconda4\\Lib\\site-packages\\xgboost\\sklearn.py\", line 596, in _wrap_evaluation_matrices\n    train_dmatrix = create_dmatrix(\n                    ^^^^^^^^^^^^^^^\n  File \"C:\\Users\\joelf\\anaconda4\\Lib\\site-packages\\xgboost\\sklearn.py\", line 1003, in _create_dmatrix\n    return QuantileDMatrix(\n           ^^^^^^^^^^^^^^^^\n  File \"C:\\Users\\joelf\\anaconda4\\Lib\\site-packages\\xgboost\\core.py\", line 726, in inner_f\n    return func(**kwargs)\n           ^^^^^^^^^^^^^^\n  File \"C:\\Users\\joelf\\anaconda4\\Lib\\site-packages\\xgboost\\core.py\", line 1573, in __init__\n    self._init(\n  File \"C:\\Users\\joelf\\anaconda4\\Lib\\site-packages\\xgboost\\core.py\", line 1632, in _init\n    it.reraise()\n  File \"C:\\Users\\joelf\\anaconda4\\Lib\\site-packages\\xgboost\\core.py\", line 569, in reraise\n    raise exc  # pylint: disable=raising-bad-type\n    ^^^^^^^^^\n  File \"C:\\Users\\joelf\\anaconda4\\Lib\\site-packages\\xgboost\\core.py\", line 550, in _handle_exception\n    return fn()\n           ^^^^\n  File \"C:\\Users\\joelf\\anaconda4\\Lib\\site-packages\\xgboost\\core.py\", line 637, in <lambda>\n    return self._handle_exception(lambda: self.next(input_data), 0)\n                                          ^^^^^^^^^^^^^^^^^^^^^\n  File \"C:\\Users\\joelf\\anaconda4\\Lib\\site-packages\\xgboost\\data.py\", line 1388, in next\n    input_data(**self.kwargs)\n  File \"C:\\Users\\joelf\\anaconda4\\Lib\\site-packages\\xgboost\\core.py\", line 726, in inner_f\n    return func(**kwargs)\n           ^^^^^^^^^^^^^^\n  File \"C:\\Users\\joelf\\anaconda4\\Lib\\site-packages\\xgboost\\core.py\", line 617, in input_data\n    new, cat_codes, feature_names, feature_types = _proxy_transform(\n                                                   ^^^^^^^^^^^^^^^^^\n  File \"C:\\Users\\joelf\\anaconda4\\Lib\\site-packages\\xgboost\\data.py\", line 1431, in _proxy_transform\n    df, feature_names, feature_types = _transform_pandas_df(\n                                       ^^^^^^^^^^^^^^^^^^^^^\n  File \"C:\\Users\\joelf\\anaconda4\\Lib\\site-packages\\xgboost\\data.py\", line 603, in _transform_pandas_df\n    pandas_check_dtypes(data, enable_categorical)\n  File \"C:\\Users\\joelf\\anaconda4\\Lib\\site-packages\\xgboost\\data.py\", line 569, in pandas_check_dtypes\n    _invalid_dataframe_dtype(data)\n  File \"C:\\Users\\joelf\\anaconda4\\Lib\\site-packages\\xgboost\\data.py\", line 356, in _invalid_dataframe_dtype\n    raise ValueError(msg)\nValueError: DataFrame.dtypes for data must be int, float, bool or category. When categorical type is supplied, the experimental DMatrix parameter`enable_categorical` must be set to `True`.  Invalid columns:age_band_of_driver: object, vehicle_type: object, weather_conditions: object, day_of_week: object, road_surface_conditions: object, light_conditions: object, sex_of_driver: object, season: object\n",
     "output_type": "error",
     "traceback": [
      "\u001b[1;31m---------------------------------------------------------------------------\u001b[0m",
      "\u001b[1;31mValueError\u001b[0m                                Traceback (most recent call last)",
      "Cell \u001b[1;32mIn[121], line 19\u001b[0m\n\u001b[0;32m     17\u001b[0m \u001b[38;5;66;03m# Use GridSearchCV to search for the best hyperparameters\u001b[39;00m\n\u001b[0;32m     18\u001b[0m grid_search \u001b[38;5;241m=\u001b[39m GridSearchCV(clf, param_grid, cv\u001b[38;5;241m=\u001b[39m\u001b[38;5;241m5\u001b[39m, n_jobs\u001b[38;5;241m=\u001b[39m\u001b[38;5;241m-\u001b[39m\u001b[38;5;241m1\u001b[39m)\n\u001b[1;32m---> 19\u001b[0m grid_search\u001b[38;5;241m.\u001b[39mfit(X_train, y_train)\n\u001b[0;32m     21\u001b[0m \u001b[38;5;66;03m# Get the best classifier and predict labels for the testing set\u001b[39;00m\n\u001b[0;32m     22\u001b[0m best_clf \u001b[38;5;241m=\u001b[39m grid_search\u001b[38;5;241m.\u001b[39mbest_estimator_\n",
      "File \u001b[1;32m~\\anaconda4\\Lib\\site-packages\\sklearn\\base.py:1473\u001b[0m, in \u001b[0;36m_fit_context.<locals>.decorator.<locals>.wrapper\u001b[1;34m(estimator, *args, **kwargs)\u001b[0m\n\u001b[0;32m   1466\u001b[0m     estimator\u001b[38;5;241m.\u001b[39m_validate_params()\n\u001b[0;32m   1468\u001b[0m \u001b[38;5;28;01mwith\u001b[39;00m config_context(\n\u001b[0;32m   1469\u001b[0m     skip_parameter_validation\u001b[38;5;241m=\u001b[39m(\n\u001b[0;32m   1470\u001b[0m         prefer_skip_nested_validation \u001b[38;5;129;01mor\u001b[39;00m global_skip_validation\n\u001b[0;32m   1471\u001b[0m     )\n\u001b[0;32m   1472\u001b[0m ):\n\u001b[1;32m-> 1473\u001b[0m     \u001b[38;5;28;01mreturn\u001b[39;00m fit_method(estimator, \u001b[38;5;241m*\u001b[39margs, \u001b[38;5;241m*\u001b[39m\u001b[38;5;241m*\u001b[39mkwargs)\n",
      "File \u001b[1;32m~\\anaconda4\\Lib\\site-packages\\sklearn\\model_selection\\_search.py:1018\u001b[0m, in \u001b[0;36mBaseSearchCV.fit\u001b[1;34m(self, X, y, **params)\u001b[0m\n\u001b[0;32m   1012\u001b[0m     results \u001b[38;5;241m=\u001b[39m \u001b[38;5;28mself\u001b[39m\u001b[38;5;241m.\u001b[39m_format_results(\n\u001b[0;32m   1013\u001b[0m         all_candidate_params, n_splits, all_out, all_more_results\n\u001b[0;32m   1014\u001b[0m     )\n\u001b[0;32m   1016\u001b[0m     \u001b[38;5;28;01mreturn\u001b[39;00m results\n\u001b[1;32m-> 1018\u001b[0m \u001b[38;5;28mself\u001b[39m\u001b[38;5;241m.\u001b[39m_run_search(evaluate_candidates)\n\u001b[0;32m   1020\u001b[0m \u001b[38;5;66;03m# multimetric is determined here because in the case of a callable\u001b[39;00m\n\u001b[0;32m   1021\u001b[0m \u001b[38;5;66;03m# self.scoring the return type is only known after calling\u001b[39;00m\n\u001b[0;32m   1022\u001b[0m first_test_score \u001b[38;5;241m=\u001b[39m all_out[\u001b[38;5;241m0\u001b[39m][\u001b[38;5;124m\"\u001b[39m\u001b[38;5;124mtest_scores\u001b[39m\u001b[38;5;124m\"\u001b[39m]\n",
      "File \u001b[1;32m~\\anaconda4\\Lib\\site-packages\\sklearn\\model_selection\\_search.py:1572\u001b[0m, in \u001b[0;36mGridSearchCV._run_search\u001b[1;34m(self, evaluate_candidates)\u001b[0m\n\u001b[0;32m   1570\u001b[0m \u001b[38;5;28;01mdef\u001b[39;00m \u001b[38;5;21m_run_search\u001b[39m(\u001b[38;5;28mself\u001b[39m, evaluate_candidates):\n\u001b[0;32m   1571\u001b[0m \u001b[38;5;250m    \u001b[39m\u001b[38;5;124;03m\"\"\"Search all candidates in param_grid\"\"\"\u001b[39;00m\n\u001b[1;32m-> 1572\u001b[0m     evaluate_candidates(ParameterGrid(\u001b[38;5;28mself\u001b[39m\u001b[38;5;241m.\u001b[39mparam_grid))\n",
      "File \u001b[1;32m~\\anaconda4\\Lib\\site-packages\\sklearn\\model_selection\\_search.py:995\u001b[0m, in \u001b[0;36mBaseSearchCV.fit.<locals>.evaluate_candidates\u001b[1;34m(candidate_params, cv, more_results)\u001b[0m\n\u001b[0;32m    988\u001b[0m \u001b[38;5;28;01melif\u001b[39;00m \u001b[38;5;28mlen\u001b[39m(out) \u001b[38;5;241m!=\u001b[39m n_candidates \u001b[38;5;241m*\u001b[39m n_splits:\n\u001b[0;32m    989\u001b[0m     \u001b[38;5;28;01mraise\u001b[39;00m \u001b[38;5;167;01mValueError\u001b[39;00m(\n\u001b[0;32m    990\u001b[0m         \u001b[38;5;124m\"\u001b[39m\u001b[38;5;124mcv.split and cv.get_n_splits returned \u001b[39m\u001b[38;5;124m\"\u001b[39m\n\u001b[0;32m    991\u001b[0m         \u001b[38;5;124m\"\u001b[39m\u001b[38;5;124minconsistent results. Expected \u001b[39m\u001b[38;5;132;01m{}\u001b[39;00m\u001b[38;5;124m \u001b[39m\u001b[38;5;124m\"\u001b[39m\n\u001b[0;32m    992\u001b[0m         \u001b[38;5;124m\"\u001b[39m\u001b[38;5;124msplits, got \u001b[39m\u001b[38;5;132;01m{}\u001b[39;00m\u001b[38;5;124m\"\u001b[39m\u001b[38;5;241m.\u001b[39mformat(n_splits, \u001b[38;5;28mlen\u001b[39m(out) \u001b[38;5;241m/\u001b[39m\u001b[38;5;241m/\u001b[39m n_candidates)\n\u001b[0;32m    993\u001b[0m     )\n\u001b[1;32m--> 995\u001b[0m _warn_or_raise_about_fit_failures(out, \u001b[38;5;28mself\u001b[39m\u001b[38;5;241m.\u001b[39merror_score)\n\u001b[0;32m    997\u001b[0m \u001b[38;5;66;03m# For callable self.scoring, the return type is only know after\u001b[39;00m\n\u001b[0;32m    998\u001b[0m \u001b[38;5;66;03m# calling. If the return type is a dictionary, the error scores\u001b[39;00m\n\u001b[0;32m    999\u001b[0m \u001b[38;5;66;03m# can now be inserted with the correct key. The type checking\u001b[39;00m\n\u001b[0;32m   1000\u001b[0m \u001b[38;5;66;03m# of out will be done in `_insert_error_scores`.\u001b[39;00m\n\u001b[0;32m   1001\u001b[0m \u001b[38;5;28;01mif\u001b[39;00m \u001b[38;5;28mcallable\u001b[39m(\u001b[38;5;28mself\u001b[39m\u001b[38;5;241m.\u001b[39mscoring):\n",
      "File \u001b[1;32m~\\anaconda4\\Lib\\site-packages\\sklearn\\model_selection\\_validation.py:529\u001b[0m, in \u001b[0;36m_warn_or_raise_about_fit_failures\u001b[1;34m(results, error_score)\u001b[0m\n\u001b[0;32m    522\u001b[0m \u001b[38;5;28;01mif\u001b[39;00m num_failed_fits \u001b[38;5;241m==\u001b[39m num_fits:\n\u001b[0;32m    523\u001b[0m     all_fits_failed_message \u001b[38;5;241m=\u001b[39m (\n\u001b[0;32m    524\u001b[0m         \u001b[38;5;124mf\u001b[39m\u001b[38;5;124m\"\u001b[39m\u001b[38;5;130;01m\\n\u001b[39;00m\u001b[38;5;124mAll the \u001b[39m\u001b[38;5;132;01m{\u001b[39;00mnum_fits\u001b[38;5;132;01m}\u001b[39;00m\u001b[38;5;124m fits failed.\u001b[39m\u001b[38;5;130;01m\\n\u001b[39;00m\u001b[38;5;124m\"\u001b[39m\n\u001b[0;32m    525\u001b[0m         \u001b[38;5;124m\"\u001b[39m\u001b[38;5;124mIt is very likely that your model is misconfigured.\u001b[39m\u001b[38;5;130;01m\\n\u001b[39;00m\u001b[38;5;124m\"\u001b[39m\n\u001b[0;32m    526\u001b[0m         \u001b[38;5;124m\"\u001b[39m\u001b[38;5;124mYou can try to debug the error by setting error_score=\u001b[39m\u001b[38;5;124m'\u001b[39m\u001b[38;5;124mraise\u001b[39m\u001b[38;5;124m'\u001b[39m\u001b[38;5;124m.\u001b[39m\u001b[38;5;130;01m\\n\u001b[39;00m\u001b[38;5;130;01m\\n\u001b[39;00m\u001b[38;5;124m\"\u001b[39m\n\u001b[0;32m    527\u001b[0m         \u001b[38;5;124mf\u001b[39m\u001b[38;5;124m\"\u001b[39m\u001b[38;5;124mBelow are more details about the failures:\u001b[39m\u001b[38;5;130;01m\\n\u001b[39;00m\u001b[38;5;132;01m{\u001b[39;00mfit_errors_summary\u001b[38;5;132;01m}\u001b[39;00m\u001b[38;5;124m\"\u001b[39m\n\u001b[0;32m    528\u001b[0m     )\n\u001b[1;32m--> 529\u001b[0m     \u001b[38;5;28;01mraise\u001b[39;00m \u001b[38;5;167;01mValueError\u001b[39;00m(all_fits_failed_message)\n\u001b[0;32m    531\u001b[0m \u001b[38;5;28;01melse\u001b[39;00m:\n\u001b[0;32m    532\u001b[0m     some_fits_failed_message \u001b[38;5;241m=\u001b[39m (\n\u001b[0;32m    533\u001b[0m         \u001b[38;5;124mf\u001b[39m\u001b[38;5;124m\"\u001b[39m\u001b[38;5;130;01m\\n\u001b[39;00m\u001b[38;5;132;01m{\u001b[39;00mnum_failed_fits\u001b[38;5;132;01m}\u001b[39;00m\u001b[38;5;124m fits failed out of a total of \u001b[39m\u001b[38;5;132;01m{\u001b[39;00mnum_fits\u001b[38;5;132;01m}\u001b[39;00m\u001b[38;5;124m.\u001b[39m\u001b[38;5;130;01m\\n\u001b[39;00m\u001b[38;5;124m\"\u001b[39m\n\u001b[0;32m    534\u001b[0m         \u001b[38;5;124m\"\u001b[39m\u001b[38;5;124mThe score on these train-test partitions for these parameters\u001b[39m\u001b[38;5;124m\"\u001b[39m\n\u001b[1;32m   (...)\u001b[0m\n\u001b[0;32m    538\u001b[0m         \u001b[38;5;124mf\u001b[39m\u001b[38;5;124m\"\u001b[39m\u001b[38;5;124mBelow are more details about the failures:\u001b[39m\u001b[38;5;130;01m\\n\u001b[39;00m\u001b[38;5;132;01m{\u001b[39;00mfit_errors_summary\u001b[38;5;132;01m}\u001b[39;00m\u001b[38;5;124m\"\u001b[39m\n\u001b[0;32m    539\u001b[0m     )\n",
      "\u001b[1;31mValueError\u001b[0m: \nAll the 1215 fits failed.\nIt is very likely that your model is misconfigured.\nYou can try to debug the error by setting error_score='raise'.\n\nBelow are more details about the failures:\n--------------------------------------------------------------------------------\n1215 fits failed with the following error:\nTraceback (most recent call last):\n  File \"C:\\Users\\joelf\\anaconda4\\Lib\\site-packages\\sklearn\\model_selection\\_validation.py\", line 888, in _fit_and_score\n    estimator.fit(X_train, y_train, **fit_params)\n  File \"C:\\Users\\joelf\\anaconda4\\Lib\\site-packages\\xgboost\\core.py\", line 726, in inner_f\n    return func(**kwargs)\n           ^^^^^^^^^^^^^^\n  File \"C:\\Users\\joelf\\anaconda4\\Lib\\site-packages\\xgboost\\sklearn.py\", line 1512, in fit\n    train_dmatrix, evals = _wrap_evaluation_matrices(\n                           ^^^^^^^^^^^^^^^^^^^^^^^^^^\n  File \"C:\\Users\\joelf\\anaconda4\\Lib\\site-packages\\xgboost\\sklearn.py\", line 596, in _wrap_evaluation_matrices\n    train_dmatrix = create_dmatrix(\n                    ^^^^^^^^^^^^^^^\n  File \"C:\\Users\\joelf\\anaconda4\\Lib\\site-packages\\xgboost\\sklearn.py\", line 1003, in _create_dmatrix\n    return QuantileDMatrix(\n           ^^^^^^^^^^^^^^^^\n  File \"C:\\Users\\joelf\\anaconda4\\Lib\\site-packages\\xgboost\\core.py\", line 726, in inner_f\n    return func(**kwargs)\n           ^^^^^^^^^^^^^^\n  File \"C:\\Users\\joelf\\anaconda4\\Lib\\site-packages\\xgboost\\core.py\", line 1573, in __init__\n    self._init(\n  File \"C:\\Users\\joelf\\anaconda4\\Lib\\site-packages\\xgboost\\core.py\", line 1632, in _init\n    it.reraise()\n  File \"C:\\Users\\joelf\\anaconda4\\Lib\\site-packages\\xgboost\\core.py\", line 569, in reraise\n    raise exc  # pylint: disable=raising-bad-type\n    ^^^^^^^^^\n  File \"C:\\Users\\joelf\\anaconda4\\Lib\\site-packages\\xgboost\\core.py\", line 550, in _handle_exception\n    return fn()\n           ^^^^\n  File \"C:\\Users\\joelf\\anaconda4\\Lib\\site-packages\\xgboost\\core.py\", line 637, in <lambda>\n    return self._handle_exception(lambda: self.next(input_data), 0)\n                                          ^^^^^^^^^^^^^^^^^^^^^\n  File \"C:\\Users\\joelf\\anaconda4\\Lib\\site-packages\\xgboost\\data.py\", line 1388, in next\n    input_data(**self.kwargs)\n  File \"C:\\Users\\joelf\\anaconda4\\Lib\\site-packages\\xgboost\\core.py\", line 726, in inner_f\n    return func(**kwargs)\n           ^^^^^^^^^^^^^^\n  File \"C:\\Users\\joelf\\anaconda4\\Lib\\site-packages\\xgboost\\core.py\", line 617, in input_data\n    new, cat_codes, feature_names, feature_types = _proxy_transform(\n                                                   ^^^^^^^^^^^^^^^^^\n  File \"C:\\Users\\joelf\\anaconda4\\Lib\\site-packages\\xgboost\\data.py\", line 1431, in _proxy_transform\n    df, feature_names, feature_types = _transform_pandas_df(\n                                       ^^^^^^^^^^^^^^^^^^^^^\n  File \"C:\\Users\\joelf\\anaconda4\\Lib\\site-packages\\xgboost\\data.py\", line 603, in _transform_pandas_df\n    pandas_check_dtypes(data, enable_categorical)\n  File \"C:\\Users\\joelf\\anaconda4\\Lib\\site-packages\\xgboost\\data.py\", line 569, in pandas_check_dtypes\n    _invalid_dataframe_dtype(data)\n  File \"C:\\Users\\joelf\\anaconda4\\Lib\\site-packages\\xgboost\\data.py\", line 356, in _invalid_dataframe_dtype\n    raise ValueError(msg)\nValueError: DataFrame.dtypes for data must be int, float, bool or category. When categorical type is supplied, the experimental DMatrix parameter`enable_categorical` must be set to `True`.  Invalid columns:age_band_of_driver: object, vehicle_type: object, weather_conditions: object, day_of_week: object, road_surface_conditions: object, light_conditions: object, sex_of_driver: object, season: object\n"
     ]
    }
   ],
   "source": [
    "from sklearn.model_selection import GridSearchCV\n",
    "from sklearn.metrics import accuracy_score\n",
    "import xgboost as xgb\n",
    "\n",
    "# Define the parameter grid for the XGBClassifier\n",
    "param_grid = {\n",
    "    'max_depth': [3, 5, 7],\n",
    "    'learning_rate': [0.01, 0.1, 1],\n",
    "    'n_estimators': [50, 100, 200],\n",
    "    'subsample': [0.5, 0.8, 1.0],\n",
    "    'colsample_bytree': [0.5, 0.8, 1.0]\n",
    "}\n",
    "\n",
    "# Create an XGBClassifier object\n",
    "clf = xgb.XGBClassifier(random_state=42)\n",
    "\n",
    "# Use GridSearchCV to search for the best hyperparameters\n",
    "grid_search = GridSearchCV(clf, param_grid, cv=5, n_jobs=-1)\n",
    "grid_search.fit(X_train, y_train)\n",
    "\n",
    "# Get the best classifier and predict labels for the testing set\n",
    "best_clf = grid_search.best_estimator_\n",
    "y_pred = best_clf.predict(X_test)\n",
    "\n",
    "# Evaluate the classifier\n",
    "accuracy = accuracy_score(y_test, y_pred)\n",
    "print(\"Test accuracy:\", accuracy)\n",
    "print(\"Best hyperparameters:\", grid_search.best_params_)"
   ]
  },
  {
   "cell_type": "code",
   "execution_count": 122,
   "id": "5535c0e4-004c-46f2-86c2-9fcffe83bc61",
   "metadata": {},
   "outputs": [
    {
     "data": {
      "text/plain": [
       "age_band_of_driver         object\n",
       "vehicle_type               object\n",
       "age_of_vehicle              int64\n",
       "weather_conditions         object\n",
       "day_of_week                object\n",
       "road_surface_conditions    object\n",
       "light_conditions           object\n",
       "sex_of_driver              object\n",
       "season                     object\n",
       "speed_limit                 int64\n",
       "accident_seriousness       object\n",
       "dtype: object"
      ]
     },
     "execution_count": 122,
     "metadata": {},
     "output_type": "execute_result"
    }
   ],
   "source": [
    "df1.dtypes"
   ]
  },
  {
   "cell_type": "code",
   "execution_count": 127,
   "id": "44eed5c7-ede1-4664-a246-70182f641a11",
   "metadata": {},
   "outputs": [
    {
     "data": {
      "text/plain": [
       "array([0, 2, 1], dtype=object)"
      ]
     },
     "execution_count": 127,
     "metadata": {},
     "output_type": "execute_result"
    }
   ],
   "source": [
    "df1['accident_seriousness'].unique()"
   ]
  },
  {
   "cell_type": "code",
   "execution_count": 128,
   "id": "1fe30234-6dea-4d0a-9e3f-e58e171bdf24",
   "metadata": {},
   "outputs": [
    {
     "data": {
      "text/plain": [
       "(25992, 11)"
      ]
     },
     "execution_count": 128,
     "metadata": {},
     "output_type": "execute_result"
    }
   ],
   "source": [
    "df1.shape"
   ]
  },
  {
   "cell_type": "code",
   "execution_count": null,
   "id": "df5d1219-a321-4bd2-81f8-a4638db31b93",
   "metadata": {},
   "outputs": [],
   "source": []
  }
 ],
 "metadata": {
  "kernelspec": {
   "display_name": "Python 3 (ipykernel)",
   "language": "python",
   "name": "python3"
  },
  "language_info": {
   "codemirror_mode": {
    "name": "ipython",
    "version": 3
   },
   "file_extension": ".py",
   "mimetype": "text/x-python",
   "name": "python",
   "nbconvert_exporter": "python",
   "pygments_lexer": "ipython3",
   "version": "3.12.7"
  }
 },
 "nbformat": 4,
 "nbformat_minor": 5
}
